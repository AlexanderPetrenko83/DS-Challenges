{
 "cells": [
  {
   "cell_type": "markdown",
   "metadata": {},
   "source": [
    "# СИБУР challenge 2020\n",
    "## Вторая задача: сопоставление названий \n",
    "**Коротко о задаче:**\n",
    "\n",
    " - Нам даны данные о названиях двух компаний в 497.819 парах названий.\n",
    " - Каждая пара названий компаний имеет разметку: 0 или 1. Это означает, что компании в паре различны или связаны, соответственно\n",
    " - Нам даные тестовые данные - 213.249 сэмплов. На тесте **требуется определить связаны ли компании.**\n",
    " \n",
    "*Более подробно ознакомиться с заданием можно на официальном сайте организатора сореванования здесь - https://sibur.ai-community.com/competitions/4/tasks/12*\n",
    "\n",
    "**Оценка решения**\n",
    " - На приватном лидер-борде решение показывает 0.7036 по f1-score и находится на 28 месте из 195. \n",
    " \n",
    " *Ознакомиться с лидер-бордом можно здесь - https://sibur.ai-community.com/competitions/4/tasks/12/rating*\n",
    " \n",
    " \n",
    " - Следует отметить, что в решении применялся подход, который частично запрещен в рамках соревнования: был составлен и использован список названий крупных промышленных холдингов. Данный список состоит из названий компаний, которые:\n",
    "     - определены вследствии анализа ошибок алгоритма;\n",
    "     - определены по результатам анализа индекса джинни признака для каждого высоко-частотного слова.\n",
    " \n",
    " Более подробно о подходе указано в самой работе\n",
    " \n",
    " \n",
    " ## Дополнительные материалы\n",
    " - моя статья на Хабре, написанная по результатам первой недели соревнования - https://habr.com/ru/post/530628/\n",
    " - интересное решение участника с публичным скором выше 0.7 и красивой визуализацией - https://github.com/gorodion/Near-Duplicate-Detection/blob/master/main.ipynb"
   ]
  },
  {
   "cell_type": "markdown",
   "metadata": {},
   "source": [
    "# Import libraries"
   ]
  },
  {
   "cell_type": "code",
   "execution_count": 1,
   "metadata": {},
   "outputs": [],
   "source": [
    "import pandas as pd\n",
    "import numpy as np\n",
    "\n",
    "import warnings\n",
    "warnings.filterwarnings('ignore')\n",
    "\n",
    "import pycountry\n",
    "import re\n",
    "\n",
    "from tqdm import tqdm\n",
    "tqdm.pandas()\n",
    "\n",
    "from strsimpy.levenshtein import Levenshtein\n",
    "from strsimpy.normalized_levenshtein import NormalizedLevenshtein\n",
    "\n",
    "import matplotlib.pyplot as plt\n",
    "from matplotlib.pyplot import figure\n",
    "\n",
    "import seaborn as sns\n",
    "sns.set()\n",
    "sns.set_style(\"whitegrid\")\n",
    "\n",
    "from sklearn.model_selection import train_test_split\n",
    "from sklearn.model_selection import StratifiedKFold\n",
    "from sklearn.model_selection import StratifiedShuffleSplit\n",
    "\n",
    "from scipy.sparse import csr_matrix\n",
    "\n",
    "import lightgbm as lgb\n",
    "from sklearn.tree import DecisionTreeClassifier\n",
    "from sklearn.linear_model import LogisticRegression\n",
    "\n",
    "from sklearn.metrics import accuracy_score\n",
    "from sklearn.metrics import recall_score\n",
    "from sklearn.metrics import precision_score\n",
    "from sklearn.metrics import roc_auc_score\n",
    "\n",
    "from sklearn.metrics import classification_report, f1_score\n",
    "\n",
    "\n",
    "# import googletrans\n",
    "# from googletrans import Translator\n",
    "import cyrtranslit"
   ]
  },
  {
   "cell_type": "markdown",
   "metadata": {},
   "source": [
    "# Functions"
   ]
  },
  {
   "cell_type": "code",
   "execution_count": 2,
   "metadata": {},
   "outputs": [],
   "source": [
    "# convert text to lowercase\n",
    "def lower_str(data,column):\n",
    "    data[column] = data[column].str.lower()"
   ]
  },
  {
   "cell_type": "code",
   "execution_count": 3,
   "metadata": {},
   "outputs": [],
   "source": [
    "def contingency_table(X,features,probability_level,tridx,cvidx,model):\n",
    "    tr_predict_proba = model.predict_proba(X.iloc[tridx][features].values)\n",
    "    cv_predict_proba = model.predict_proba(X.iloc[cvidx][features].values)\n",
    "\n",
    "    tr_predict_target = (tr_predict_proba[:, 1] > probability_level).astype(np.int)\n",
    "    cv_predict_target = (cv_predict_proba[:, 1] > probability_level).astype(np.int)\n",
    "\n",
    "    X_tr = X.iloc[tridx]\n",
    "    X_cv = X.iloc[cvidx]\n",
    "\n",
    "    X_tr['predict_proba'] = tr_predict_proba[:,1]\n",
    "    X_cv['predict_proba'] = cv_predict_proba[:,1]\n",
    "\n",
    "    X_tr['predict_target'] = tr_predict_target\n",
    "    X_cv['predict_target'] = cv_predict_target\n",
    "\n",
    "    # make true positive column\n",
    "    data = pd.DataFrame(X_tr[X_tr['target']==1][X_tr['predict_target']==1]['pair_id'])\n",
    "    data['True_Positive'] = 1\n",
    "    X_tr = X_tr.merge(data,on='pair_id',how='left')\n",
    "\n",
    "    data = pd.DataFrame(X_cv[X_cv['target']==1][X_cv['predict_target']==1]['pair_id'])\n",
    "    data['True_Positive'] = 1\n",
    "    X_cv = X_cv.merge(data,on='pair_id',how='left')\n",
    "\n",
    "    # make false positive column\n",
    "    data = pd.DataFrame(X_tr[X_tr['target']==0][X_tr['predict_target']==1]['pair_id'])\n",
    "    data['False_Positive'] = 1\n",
    "    X_tr = X_tr.merge(data,on='pair_id',how='left')\n",
    "\n",
    "    data = pd.DataFrame(X_cv[X_cv['target']==0][X_cv['predict_target']==1]['pair_id'])\n",
    "    data['False_Positive'] = 1\n",
    "    X_cv = X_cv.merge(data,on='pair_id',how='left')\n",
    "\n",
    "    # make true negative column\n",
    "    data = pd.DataFrame(X_tr[X_tr['target']==0][X_tr['predict_target']==0]['pair_id'])\n",
    "    data['True_Negative'] = 1\n",
    "    X_tr = X_tr.merge(data,on='pair_id',how='left')\n",
    "\n",
    "    data = pd.DataFrame(X_cv[X_cv['target']==0][X_cv['predict_target']==0]['pair_id'])\n",
    "    data['True_Negative'] = 1\n",
    "    X_cv = X_cv.merge(data,on='pair_id',how='left')\n",
    "\n",
    "    # make false negative column\n",
    "    data = pd.DataFrame(X_tr[X_tr['target']==1][X_tr['predict_target']==0]['pair_id'])\n",
    "    data['False_Negative'] = 1\n",
    "    X_tr = X_tr.merge(data,on='pair_id',how='left')\n",
    "\n",
    "    data = pd.DataFrame(X_cv[X_cv['target']==1][X_cv['predict_target']==0]['pair_id'])\n",
    "    data['False_Negative'] = 1\n",
    "    X_cv = X_cv.merge(data,on='pair_id',how='left')\n",
    "    \n",
    "    return X_tr,X_cv"
   ]
  },
  {
   "cell_type": "code",
   "execution_count": 4,
   "metadata": {},
   "outputs": [],
   "source": [
    "def matrix_confusion(X):\n",
    "\n",
    "    list_matrix = ['True_Positive','False_Positive','True_Negative','False_Negative']\n",
    "\n",
    "    tr_pos = X[list_matrix].sum().loc['True_Positive']\n",
    "    f_pos = X[list_matrix].sum().loc['False_Positive']\n",
    "    tr_neg = X[list_matrix].sum().loc['True_Negative']\n",
    "    f_neg = X[list_matrix].sum().loc['False_Negative']\n",
    "    matrix_confusion = pd.DataFrame()\n",
    "    matrix_confusion['0_algorythm'] = np.array([tr_neg,f_neg]).T\n",
    "    matrix_confusion['1_algorythm'] = np.array([f_pos,tr_pos]).T\n",
    "    matrix_confusion = matrix_confusion.rename(index={0: '0_target', 1: '1_target'})\n",
    "    \n",
    "    return matrix_confusion"
   ]
  },
  {
   "cell_type": "code",
   "execution_count": 5,
   "metadata": {},
   "outputs": [],
   "source": [
    "def report_score(tr_matrix_confusion,\n",
    "                 cv_matrix_confusion,\n",
    "                 data,tridx,cvidx,\n",
    "                 X_tr,X_cv):\n",
    "    # print some imporatant information\n",
    "    print ('\\033[1m'+'Matrix confusion on train data'+'\\033[m')\n",
    "    display(tr_matrix_confusion)\n",
    "    print ()\n",
    "    print(classification_report(data.iloc[tridx][\"target\"].values, X_tr['predict_target']))\n",
    "    print ('******************************************************')\n",
    "    print ()\n",
    "    print ()\n",
    "    print ('\\033[1m'+'Matrix confusion on test(cv) data'+'\\033[m')\n",
    "    display(cv_matrix_confusion)\n",
    "    print ()\n",
    "    print(classification_report(data.iloc[cvidx][\"target\"].values, X_cv['predict_target']))\n",
    "    print ('******************************************************')"
   ]
  },
  {
   "cell_type": "code",
   "execution_count": 6,
   "metadata": {},
   "outputs": [],
   "source": [
    "def table_gain_coef(model,features,start,stop):\n",
    "    \n",
    "    data_gain = pd.DataFrame()\n",
    "    data_gain['Features'] = features\n",
    "    data_gain['Gain'] = model.booster_.feature_importance(importance_type='gain')\n",
    "    return data_gain.sort_values('Gain', ascending=False)[start:stop]"
   ]
  },
  {
   "cell_type": "code",
   "execution_count": 7,
   "metadata": {},
   "outputs": [],
   "source": [
    "def gain_hist(df,size,start,stop):\n",
    "    fig, ax = plt.subplots(figsize=(size))\n",
    "    x = (df.sort_values('Gain', ascending=False)['Features'][start:stop])\n",
    "    y = (df.sort_values('Gain', ascending=False)['Gain'][start:stop])\n",
    "    plt.bar(x,y)\n",
    "    plt.xlabel('Features')\n",
    "    plt.ylabel('Gain')\n",
    "    plt.xticks(rotation=90)\n",
    "    plt.show()"
   ]
  },
  {
   "cell_type": "code",
   "execution_count": 8,
   "metadata": {},
   "outputs": [],
   "source": [
    "def gini_df(model,features,start,stop):\n",
    "    \n",
    "    data_gini = pd.DataFrame()\n",
    "    data_gini['feature'] = features\n",
    "    data_gini['gini'] = model.feature_importances_\n",
    "    return data_gini.sort_values('gini', ascending=False)[start:stop]"
   ]
  },
  {
   "cell_type": "code",
   "execution_count": 9,
   "metadata": {},
   "outputs": [],
   "source": [
    "def gini_hist(df,size):\n",
    "    fig, ax = plt.subplots(figsize=(size))\n",
    "    x = (df.sort_values('gini', ascending=False)['feature'])\n",
    "    y = (df.sort_values('gini', ascending=False)['gini'])\n",
    "    plt.bar(x,y)\n",
    "    plt.xlabel('feature')\n",
    "    plt.ylabel('gini')\n",
    "    plt.xticks(rotation=90)\n",
    "    plt.show()"
   ]
  },
  {
   "cell_type": "code",
   "execution_count": 10,
   "metadata": {},
   "outputs": [],
   "source": [
    "def logreg_df(model,features,start,stop):\n",
    "    \n",
    "    data_logreg = pd.DataFrame()\n",
    "    data_logreg['feature'] = features\n",
    "    data_logreg['coef'] = model.coef_.reshape(-1)\n",
    "    return data_logreg.sort_values('coef', ascending=False)[start:stop]"
   ]
  },
  {
   "cell_type": "code",
   "execution_count": 11,
   "metadata": {},
   "outputs": [],
   "source": [
    "def logreg_hist(df,size):\n",
    "    fig, ax = plt.subplots(figsize=(size))\n",
    "    x = (df.sort_values('coef', ascending=False)['feature'])\n",
    "    y = (df.sort_values('coef', ascending=False)['coef'])\n",
    "    plt.bar(x,y)\n",
    "    plt.xlabel('feature')\n",
    "    plt.ylabel('coef')\n",
    "    plt.xticks(rotation=90)\n",
    "    plt.show()"
   ]
  },
  {
   "cell_type": "code",
   "execution_count": 12,
   "metadata": {},
   "outputs": [],
   "source": [
    "def compair_metrics(data):\n",
    "    duplicate_count = []\n",
    "    duplicate_sum = []\n",
    "    for i in range(len(data)):\n",
    "        count=len(data[i])\n",
    "        duplicate_count.append(count)\n",
    "        if count <= 0:\n",
    "            duplicate_sum.append(0)\n",
    "        elif count > 0:\n",
    "            temp_sum = 0\n",
    "            for j in range(len(data[i])):\n",
    "                temp_sum +=len(data[i][j])\n",
    "            duplicate_sum.append(temp_sum)\n",
    "\n",
    "    return duplicate_count,duplicate_sum    "
   ]
  },
  {
   "cell_type": "code",
   "execution_count": 13,
   "metadata": {},
   "outputs": [],
   "source": [
    "def transliterate(data):\n",
    "    text_transliterate = []\n",
    "    for i in range(data.shape[0]):\n",
    "        temp_list = list(data[i:i+1])\n",
    "        temp_str = ''.join(temp_list)\n",
    "        result = cyrtranslit.to_latin(temp_str,'ru')\n",
    "        text_transliterate.append(result)\n",
    "    return text_transliterate"
   ]
  },
  {
   "cell_type": "code",
   "execution_count": 14,
   "metadata": {},
   "outputs": [],
   "source": [
    "def rename_agg_columns(id_client,data,rename):\n",
    "    columns = [id_client]\n",
    "    for lev_0 in data.columns.levels[0]:\n",
    "        if lev_0 != id_client:\n",
    "            for lev_1 in data.columns.levels[1][:-1]:\n",
    "                columns.append(rename % (lev_0, lev_1))\n",
    "    data.columns = columns\n",
    "    return data"
   ]
  },
  {
   "cell_type": "code",
   "execution_count": 15,
   "metadata": {},
   "outputs": [],
   "source": [
    "# draw graph for analyse two choosing features for predict traget label\n",
    "def two_features(data,analyse1,analyse2,size):\n",
    "    fig = plt.subplots(figsize=size)\n",
    "    \n",
    "    x0 = data[data['target']==0][analyse1]\n",
    "    y0 = data[data['target']==0][analyse2]\n",
    "    x1 = data[data['target']==1][analyse1]\n",
    "    y1 = data[data['target']==1][analyse2]\n",
    "    \n",
    "    plt.scatter(x1,y1,c='green',marker='.',s=400,label='duplicates')\n",
    "    plt.scatter(x0,y0,c='black',marker='+',s=40,label='different words')\n",
    "    plt.xlabel(analyse1)\n",
    "    plt.ylabel(analyse2)\n",
    "    title = [analyse1,analyse2]\n",
    "    plt.title(title)\n",
    "    plt.legend(loc=8,fontsize=8)\n",
    "    plt.show()"
   ]
  },
  {
   "cell_type": "code",
   "execution_count": 16,
   "metadata": {},
   "outputs": [],
   "source": [
    "# contingency table for categorical and discrete data\n",
    "\n",
    "def contingency_table_2(data,analyse,title_print):\n",
    "    ct = pd.crosstab(data['target'], data[analyse].fillna('no_data'))\n",
    "    ct.loc['sum'] = ct.sum()\n",
    "    ct.loc['duplicates_%_(1)'] = ct.loc[1]/ct.loc['sum']*100\n",
    "    ct.loc['duplicates_%_(1)'] = list(map(lambda x: round(x,2), ct.loc['duplicates_%_(1)']))\n",
    "    ct.loc['share_of_objects_%'] = ct.loc['sum']/ct.loc['sum'].sum(axis=0)*100\n",
    "    ct.loc['share_of_objects_%'] = list(map(lambda x: round(x,1), ct.loc['share_of_objects_%']))\n",
    "    \n",
    "    if title_print == 'yes':\n",
    "        print ('\\033[1m' + 'Таблица сопряженности' + '\\033[m')\n",
    "    elif title_print == 'no':\n",
    "        None\n",
    "    \n",
    "    return ct"
   ]
  },
  {
   "cell_type": "code",
   "execution_count": 17,
   "metadata": {},
   "outputs": [],
   "source": [
    "# pair histogramms for categorical and discrete data\n",
    "\n",
    "def pair_hist(ct,size,title_print):\n",
    "    \n",
    "    if title_print == 'yes':\n",
    "        print ('Признак:','\\033[1m',analyse,'\\033[m')\n",
    "    elif title_print == 'no':\n",
    "        None\n",
    "    \n",
    "    width =0.3\n",
    "\n",
    "    fig, ax = plt.subplots(figsize=(size))\n",
    "\n",
    "    x = ct.columns\n",
    "    y0 = ct.loc['share_of_objects_%']\n",
    "    y1 = ct.loc['duplicates_%_(1)']\n",
    "    rects1 = ax.bar(np.arange(len(x)) - width/2, y1, width, color='darkgreen', label='% duplicates')\n",
    "    rects2 = ax.bar(np.arange(len(x)) + width/2, y0, width, color='black', label='% not duplicates')\n",
    "    ax.set_title(analyse)\n",
    "    ax.set_xticks(np.arange(len(x)))\n",
    "    ax.set_xticklabels(x)\n",
    "    if len(x) > 10:    \n",
    "            plt.xticks(rotation=90)\n",
    "    ax.legend(loc=9,fontsize=8)\n",
    "    plt.xlabel(analyse)\n",
    "    plt.ylabel('%')\n",
    "    plt.show()"
   ]
  },
  {
   "cell_type": "markdown",
   "metadata": {},
   "source": [
    "# Download data"
   ]
  },
  {
   "cell_type": "code",
   "execution_count": 18,
   "metadata": {},
   "outputs": [],
   "source": [
    "# DOWNLOAD DATA\n",
    "text_train = pd.read_csv('train.csv')\n",
    "text_test = pd.read_csv('test.csv')"
   ]
  },
  {
   "cell_type": "code",
   "execution_count": 19,
   "metadata": {},
   "outputs": [],
   "source": [
    "# RENAME DATA\n",
    "text_train = text_train.rename(columns={\"is_duplicate\": \"target\"})"
   ]
  },
  {
   "cell_type": "code",
   "execution_count": 20,
   "metadata": {},
   "outputs": [
    {
     "name": "stdout",
     "output_type": "stream",
     "text": [
      "There are 3658 objects with target 1\n",
      "There are 494161 objects with target 0\n",
      "Balance is 0.74 %\n"
     ]
    }
   ],
   "source": [
    "# ANALYSE BALANCE OF DATA\n",
    "target_1 = text_train[text_train['target']==1]['target'].count()\n",
    "target_0 = text_train[text_train['target']==0]['target'].count()\n",
    "\n",
    "print ('There are', target_1, 'objects with target 1')\n",
    "print ('There are', target_0, 'objects with target 0')\n",
    "print ('Balance is', round(100*target_1/target_0,2),'%')"
   ]
  },
  {
   "cell_type": "markdown",
   "metadata": {},
   "source": [
    "# Baseline preprocessing data"
   ]
  },
  {
   "cell_type": "code",
   "execution_count": 21,
   "metadata": {},
   "outputs": [],
   "source": [
    "# make copy data\n",
    "baseline_train = text_train.copy()\n",
    "baseline_test = text_test.copy()"
   ]
  },
  {
   "cell_type": "code",
   "execution_count": 22,
   "metadata": {},
   "outputs": [],
   "source": [
    "# Convert text to lowercase\n",
    "columns = ['name_1','name_2']\n",
    "for column in columns:\n",
    "    lower_str(baseline_train,column)\n",
    "for column in columns:\n",
    "    lower_str(baseline_test,column)"
   ]
  },
  {
   "cell_type": "code",
   "execution_count": 23,
   "metadata": {},
   "outputs": [
    {
     "name": "stderr",
     "output_type": "stream",
     "text": [
      "100%|██████████| 249/249 [07:32<00:00,  1.82s/it]\n"
     ]
    }
   ],
   "source": [
    "# Drop any names of countries\n",
    "countries = [country.name.lower() for country in pycountry.countries]\n",
    "for country in tqdm(countries):\n",
    "    baseline_train.replace(re.compile(country), \"\", inplace=True)\n",
    "    baseline_test.replace(re.compile(country), \"\", inplace=True)"
   ]
  },
  {
   "cell_type": "code",
   "execution_count": 24,
   "metadata": {},
   "outputs": [],
   "source": [
    "# Drop punctuation marks\n",
    "baseline_train.replace(re.compile(r\"\\s+\\(.*\\)\"), \"\", inplace=True)\n",
    "baseline_test.replace(re.compile(r\"\\s+\\(.*\\)\"), \"\", inplace=True)\n",
    "\n",
    "baseline_train.replace(re.compile(r\"[^\\w\\s]\"), \"\", inplace=True)\n",
    "baseline_test.replace(re.compile(r\"[^\\w\\s]\"), \"\", inplace=True)"
   ]
  },
  {
   "cell_type": "code",
   "execution_count": 25,
   "metadata": {},
   "outputs": [],
   "source": [
    "# Drop some stop-words\n",
    "# HANDE-MADE list\n",
    "drop_list = [\"ltd.\", \"co.\", \"inc.\", \"b.v.\", \"s.c.r.l.\", \"gmbh\", \"pvt.\",\n",
    "             \n",
    "             'retail','usa','asia','ceska republika','limited','tradig','llc','group',\n",
    "             'international','plc','retail','tire','mills','chemical','korea','brasil',\n",
    "             'holding','vietnam','tyre','venezuela','polska','americas','industrial','taiwan',\n",
    "             'europe','america','north','czech republic','retailers','retails',\n",
    "            \n",
    "            'mexicana','corporation','corp','ltd','co','toronto','nederland','shanghai','gmb','pacific',\n",
    "            'industries','industrias',\n",
    "            \n",
    "            'inc', 'ltda', 'ооо', 'зао', 'оао', 'пао', 'ceska republika', 'ltda', \n",
    "            'sibur', 'enterprises', 'electronics', 'products', 'distribution', 'logistics', 'development',\n",
    "            'technologies', 'pvt', 'technologies', 'comercio', 'industria', 'trading', 'internacionais', \n",
    "            'bank', 'sports',\n",
    "            \n",
    "            'express','east', 'west', 'south', 'north', 'factory', 'transportes', 'trade', 'banco',\n",
    "            'management', 'engineering', 'investments', 'enterprise', 'city', 'national', 'express', 'tech', \n",
    "            'auto', 'transporte', 'technology', 'and', 'central', 'american',\n",
    "            \n",
    "            'logistica','global','exportacao', 'ceska republika', 'vancouver', 'deutschland',\n",
    "            \n",
    "            'sro','rus','chemicals','private','distributors','tyres','industry','services','italia','beijing',\n",
    "            \n",
    "            'рус','company','the','und', 'oil']\n",
    "\n",
    "baseline_train['name_1_non_stop_words'] =\\\n",
    "    baseline_train['name_1'].apply(\n",
    "    lambda x: ' '.join([word for word in x.split() if word not in (drop_list)]))\n",
    "baseline_train['name_2_non_stop_words'] =\\\n",
    "    baseline_train['name_2'].apply(\n",
    "    lambda x: ' '.join([word for word in x.split() if word not in (drop_list)]))\n",
    "\n",
    "baseline_test['name_1_non_stop_words'] =\\\n",
    "    baseline_test['name_1'].apply(\n",
    "    lambda x: ' '.join([word for word in x.split() if word not in (drop_list)]))\n",
    "baseline_test['name_2_non_stop_words'] =\\\n",
    "    baseline_test['name_2'].apply(\n",
    "    lambda x: ' '.join([word for word in x.split() if word not in (drop_list)]))"
   ]
  },
  {
   "cell_type": "code",
   "execution_count": 26,
   "metadata": {},
   "outputs": [
    {
     "data": {
      "text/html": [
       "<div>\n",
       "<style scoped>\n",
       "    .dataframe tbody tr th:only-of-type {\n",
       "        vertical-align: middle;\n",
       "    }\n",
       "\n",
       "    .dataframe tbody tr th {\n",
       "        vertical-align: top;\n",
       "    }\n",
       "\n",
       "    .dataframe thead th {\n",
       "        text-align: right;\n",
       "    }\n",
       "</style>\n",
       "<table border=\"1\" class=\"dataframe\">\n",
       "  <thead>\n",
       "    <tr style=\"text-align: right;\">\n",
       "      <th></th>\n",
       "      <th>pair_id</th>\n",
       "      <th>name_1</th>\n",
       "      <th>name_2</th>\n",
       "      <th>target</th>\n",
       "      <th>name_1_non_stop_words</th>\n",
       "      <th>name_2_non_stop_words</th>\n",
       "    </tr>\n",
       "  </thead>\n",
       "  <tbody>\n",
       "    <tr>\n",
       "      <th>57710</th>\n",
       "      <td>57711</td>\n",
       "      <td>binex line corp vancouver</td>\n",
       "      <td>ajover sa</td>\n",
       "      <td>0</td>\n",
       "      <td>binex line</td>\n",
       "      <td>ajover sa</td>\n",
       "    </tr>\n",
       "    <tr>\n",
       "      <th>157747</th>\n",
       "      <td>157748</td>\n",
       "      <td>binex line corp vancouver</td>\n",
       "      <td>anconn co ltd</td>\n",
       "      <td>0</td>\n",
       "      <td>binex line</td>\n",
       "      <td>anconn</td>\n",
       "    </tr>\n",
       "    <tr>\n",
       "      <th>269770</th>\n",
       "      <td>269771</td>\n",
       "      <td>binex line corp vancouver</td>\n",
       "      <td>ajc international inc</td>\n",
       "      <td>0</td>\n",
       "      <td>binex line</td>\n",
       "      <td>ajc</td>\n",
       "    </tr>\n",
       "  </tbody>\n",
       "</table>\n",
       "</div>"
      ],
      "text/plain": [
       "        pair_id                     name_1                 name_2  target  \\\n",
       "57710     57711  binex line corp vancouver              ajover sa       0   \n",
       "157747   157748  binex line corp vancouver          anconn co ltd       0   \n",
       "269770   269771  binex line corp vancouver  ajc international inc       0   \n",
       "\n",
       "       name_1_non_stop_words name_2_non_stop_words  \n",
       "57710             binex line             ajover sa  \n",
       "157747            binex line                anconn  \n",
       "269770            binex line                   ajc  "
      ]
     },
     "execution_count": 26,
     "metadata": {},
     "output_type": "execute_result"
    }
   ],
   "source": [
    "baseline_train[baseline_train.name_1.str.contains(\"vancouver\")].head(3)"
   ]
  },
  {
   "cell_type": "code",
   "execution_count": 27,
   "metadata": {},
   "outputs": [],
   "source": [
    "# Transliteration to latin\n",
    "baseline_train['name_1_transliterated'] = transliterate(baseline_train['name_1_non_stop_words'])\n",
    "baseline_train['name_2_transliterated'] = transliterate(baseline_train['name_2_non_stop_words'])\n",
    "baseline_test['name_1_transliterated'] = transliterate(baseline_test['name_1_non_stop_words'])\n",
    "baseline_test['name_2_transliterated'] = transliterate(baseline_test['name_2_non_stop_words'])"
   ]
  },
  {
   "cell_type": "code",
   "execution_count": 28,
   "metadata": {},
   "outputs": [],
   "source": [
    "# One more time drop punctuation marks after transliteration\n",
    "baseline_train.replace(re.compile(r\"\\s+\\(.*\\)\"), \"\", inplace=True)\n",
    "baseline_test.replace(re.compile(r\"\\s+\\(.*\\)\"), \"\", inplace=True)\n",
    "\n",
    "baseline_train.replace(re.compile(r\"[^\\w\\s]\"), \"\", inplace=True)\n",
    "baseline_test.replace(re.compile(r\"[^\\w\\s]\"), \"\", inplace=True)"
   ]
  },
  {
   "cell_type": "markdown",
   "metadata": {},
   "source": [
    "### Dictionary of most high-frequency words"
   ]
  },
  {
   "cell_type": "code",
   "execution_count": 29,
   "metadata": {},
   "outputs": [],
   "source": [
    "#  Make dictionary of frequency all words\n",
    "list_words = baseline_train['name_1_transliterated'].to_string(index=False).split() +\\\n",
    "                baseline_train['name_2_transliterated'].to_string(index=False).split()\n",
    "freq_words = {}\n",
    "for w in list_words:\n",
    "    freq_words[w] = freq_words.get(w, 0) + 1\n",
    "    \n",
    "# Make a dataset from dictionary of frequency all words\n",
    "df_freq = pd.DataFrame.from_dict(freq_words,orient='index').reset_index()\n",
    "df_freq.columns = ['word','frequency']\n",
    "df_freq_agg = df_freq.groupby(['word']).agg([sum]).reset_index()\n",
    "df_freq_agg = rename_agg_columns(id_client='word',data=df_freq_agg,rename='%s_%s')\n",
    "df_freq_agg = df_freq_agg.sort_values(by=['frequency_sum'], ascending=False)"
   ]
  },
  {
   "cell_type": "code",
   "execution_count": null,
   "metadata": {},
   "outputs": [],
   "source": [
    "# df_freq_agg[0:50]"
   ]
  },
  {
   "cell_type": "code",
   "execution_count": 30,
   "metadata": {},
   "outputs": [],
   "source": [
    "# Drop top 50 common words (NAME 1 & NAME 2)\n",
    "drop_list = list(df_freq_agg[0:50]['word'].to_string(index=False).split())\n",
    "\n",
    "baseline_train['name_1_finish'] =\\\n",
    "    baseline_train['name_1_transliterated'].apply(\n",
    "    lambda x: ' '.join([word for word in x.split() if word not in (drop_list)]))\n",
    "baseline_train['name_2_finish'] =\\\n",
    "    baseline_train['name_2_transliterated'].apply(\n",
    "    lambda x: ' '.join([word for word in x.split() if word not in (drop_list)]))\n",
    "\n",
    "baseline_test['name_1_finish'] =\\\n",
    "    baseline_test['name_1_transliterated'].apply(\n",
    "    lambda x: ' '.join([word for word in x.split() if word not in (drop_list)]))\n",
    "baseline_test['name_2_finish'] =\\\n",
    "    baseline_test['name_2_transliterated'].apply(\n",
    "    lambda x: ' '.join([word for word in x.split() if word not in (drop_list)]))"
   ]
  },
  {
   "cell_type": "code",
   "execution_count": null,
   "metadata": {},
   "outputs": [],
   "source": [
    "# baseline_train[baseline_train.name_1_finish.str.contains(\"logistic\")]"
   ]
  },
  {
   "cell_type": "markdown",
   "metadata": {},
   "source": [
    "# Features"
   ]
  },
  {
   "cell_type": "markdown",
   "metadata": {},
   "source": [
    "**Create label 1, if names of both companies in the pair are empty, else create label 0**"
   ]
  },
  {
   "cell_type": "code",
   "execution_count": 31,
   "metadata": {},
   "outputs": [],
   "source": [
    "# Create label if name_1_finish=name_2_finish=empty ('')\n",
    "\n",
    "# FOR TRAIN\n",
    "df = pd.DataFrame(baseline_train[baseline_train['name_1_finish']==''][\n",
    "    baseline_train['name_2_finish']=='']['pair_id'])\n",
    "df['empty_after_all'] = 1\n",
    "baseline_train = baseline_train.merge(df,on='pair_id',how='left')\n",
    "baseline_train['empty_after_all'] = baseline_train['empty_after_all'].fillna(0)\n",
    "\n",
    "# FOR TEST\n",
    "df = pd.DataFrame(baseline_test[baseline_test['name_1_finish']==''][\n",
    "    baseline_test['name_2_finish']=='']['pair_id'])\n",
    "df['empty_after_all'] = 1\n",
    "baseline_test = baseline_test.merge(df,on='pair_id',how='left')\n",
    "baseline_test['empty_after_all'] = baseline_test['empty_after_all'].fillna(0)"
   ]
  },
  {
   "cell_type": "markdown",
   "metadata": {},
   "source": [
    "**Count levenstein distance and normalized levenstain distance**"
   ]
  },
  {
   "cell_type": "code",
   "execution_count": 32,
   "metadata": {},
   "outputs": [
    {
     "name": "stderr",
     "output_type": "stream",
     "text": [
      "100%|██████████| 497819/497819 [00:35<00:00, 13924.08it/s]\n",
      "100%|██████████| 213249/213249 [00:14<00:00, 14252.55it/s]\n"
     ]
    }
   ],
   "source": [
    "# Create feature with LEVENSTAIN DISTANCE\n",
    "levenshtein = Levenshtein()\n",
    "column_1 = 'name_1_finish'\n",
    "column_2 = 'name_2_finish'\n",
    "\n",
    "baseline_train[\"levenstein\"] = baseline_train.progress_apply(\n",
    "    lambda r: levenshtein.distance(r[column_1], r[column_2]), axis=1)\n",
    "baseline_test[\"levenstein\"] = baseline_test.progress_apply(\n",
    "    lambda r: levenshtein.distance(r[column_1], r[column_2]), axis=1)"
   ]
  },
  {
   "cell_type": "code",
   "execution_count": 33,
   "metadata": {},
   "outputs": [
    {
     "name": "stderr",
     "output_type": "stream",
     "text": [
      "100%|██████████| 497819/497819 [00:36<00:00, 13596.58it/s]\n",
      "100%|██████████| 213249/213249 [00:15<00:00, 13867.01it/s]\n"
     ]
    }
   ],
   "source": [
    "# Create feature with NORMALIZATION LEVENSTAIN DISTANCE\n",
    "normalized_levenshtein = NormalizedLevenshtein()\n",
    "column_1 = 'name_1_finish'\n",
    "column_2 = 'name_2_finish'\n",
    "\n",
    "baseline_train[\"norm_levenstein\"] = baseline_train.progress_apply(\n",
    "    lambda r: normalized_levenshtein.distance(r[column_1], r[column_2]),axis=1)\n",
    "baseline_test[\"norm_levenstein\"] = baseline_test.progress_apply(\n",
    "    lambda r: normalized_levenshtein.distance(r[column_1], r[column_2]),axis=1)"
   ]
  },
  {
   "cell_type": "markdown",
   "metadata": {},
   "source": [
    "**Сreate features containing information about similar and different words and symbols in pairs:**\n",
    " - duplicate_count - **similar word count**\n",
    " - duplicate_sum - symbol count of similar words\n",
    " - duplicate_mean - ratio between symbol and similar word count (average number of symbols in a similar word)\n",
    " - dif_count - **different word count**\n",
    " - dif_sum - symbol count of different words\n",
    " - dif_mean - ratio between symbol and different word count (average number of symbols in a different word)\n",
    " - ratio_duplicate/dif_count - ratio between similar and different words in the pair\n",
    " \n",
    "Use function 'compair_metrics'"
   ]
  },
  {
   "cell_type": "code",
   "execution_count": 34,
   "metadata": {},
   "outputs": [],
   "source": [
    "# Make some information about duplicates and differences \n",
    "# for TRAIN\n",
    "column_1 = 'name_1_finish'\n",
    "column_2 = 'name_2_finish'\n",
    "\n",
    "duplicates = []\n",
    "difference = []\n",
    "\n",
    "for i in range(baseline_train.shape[0]):\n",
    "    list1 = list(baseline_train[i:i+1][column_1])\n",
    "    str1 = ''.join(list1).split()\n",
    "    list2 = list(baseline_train[i:i+1][column_2])\n",
    "    str2 = ''.join(list2).split()\n",
    "    \n",
    "    duplicates.append(list(set(str1) & set(str2)))\n",
    "    difference.append(list(set(str1).symmetric_difference(set(str2))))\n",
    "    \n",
    "# continue make information about duplicates\n",
    "duplicate_count,duplicate_sum = compair_metrics(duplicates)\n",
    "dif_count,dif_sum = compair_metrics(difference)"
   ]
  },
  {
   "cell_type": "code",
   "execution_count": 35,
   "metadata": {},
   "outputs": [],
   "source": [
    "# Create features has information about duplicates and differences \n",
    "# for TRAIN\n",
    "baseline_train['duplicate'] = duplicates\n",
    "baseline_train['difference'] = difference\n",
    "\n",
    "baseline_train['duplicate_count'] = duplicate_count\n",
    "baseline_train['duplicate_sum'] = duplicate_sum\n",
    "baseline_train['duplicate_mean'] = baseline_train['duplicate_sum'] / baseline_train['duplicate_count']\n",
    "baseline_train['duplicate_mean'] = baseline_train['duplicate_mean'].fillna(0)\n",
    "\n",
    "baseline_train['dif_count'] = dif_count\n",
    "baseline_train['dif_sum'] = dif_sum\n",
    "baseline_train['dif_mean'] = baseline_train['dif_sum'] / baseline_train['dif_count']\n",
    "baseline_train['dif_mean'] = baseline_train['dif_mean'].fillna(0)"
   ]
  },
  {
   "cell_type": "code",
   "execution_count": 36,
   "metadata": {},
   "outputs": [],
   "source": [
    "# create ratio duplicate words count to differences words count in the pair\n",
    "# for TRAIN\n",
    "baseline_train['ratio_duplicate/dif_count'] = baseline_train['duplicate_count'] / baseline_train['dif_count']"
   ]
  },
  {
   "cell_type": "code",
   "execution_count": 37,
   "metadata": {},
   "outputs": [],
   "source": [
    "# make some information about duplicates and differences \n",
    "# for TEST\n",
    "column_1 = 'name_1_finish'\n",
    "column_2 = 'name_2_finish'\n",
    "\n",
    "duplicates = []\n",
    "difference = []\n",
    "\n",
    "for i in range(baseline_test.shape[0]):\n",
    "    list1 = list(baseline_test[i:i+1][column_1])\n",
    "    str1 = ''.join(list1).split()\n",
    "    list2 = list(baseline_test[i:i+1][column_2])\n",
    "    str2 = ''.join(list2).split()\n",
    "    \n",
    "    duplicates.append(list(set(str1) & set(str2)))\n",
    "    difference.append(list(set(str1).symmetric_difference(set(str2))))\n",
    "    \n",
    "# continue make information about duplicates\n",
    "duplicate_count,duplicate_sum = compair_metrics(duplicates)\n",
    "dif_count,dif_sum = compair_metrics(difference)"
   ]
  },
  {
   "cell_type": "code",
   "execution_count": 38,
   "metadata": {},
   "outputs": [],
   "source": [
    "# create features have information about duplicates and differences \n",
    "# for TEST\n",
    "baseline_test['duplicate'] = duplicates\n",
    "baseline_test['difference'] = difference\n",
    "\n",
    "baseline_test['duplicate_count'] = duplicate_count\n",
    "baseline_test['duplicate_sum'] = duplicate_sum\n",
    "baseline_test['duplicate_mean'] = baseline_test['duplicate_sum'] / baseline_test['duplicate_count']\n",
    "baseline_test['duplicate_mean'] = baseline_test['duplicate_mean'].fillna(0)\n",
    "\n",
    "baseline_test['dif_count'] = dif_count\n",
    "baseline_test['dif_sum'] = dif_sum\n",
    "baseline_test['dif_mean'] = baseline_test['dif_sum'] / baseline_test['dif_count']\n",
    "baseline_test['dif_mean'] = baseline_test['dif_mean'].fillna(0)"
   ]
  },
  {
   "cell_type": "code",
   "execution_count": 39,
   "metadata": {},
   "outputs": [],
   "source": [
    "# create ratio duplicate words count to differences words count in the pair\n",
    "# for TEST\n",
    "baseline_test['ratio_duplicate/dif_count'] = baseline_test['duplicate_count'] / baseline_test['dif_count']"
   ]
  },
  {
   "cell_type": "markdown",
   "metadata": {},
   "source": [
    "### *Dictionary of most important names holdings*\n",
    "\n",
    "*The use of such a dictionary is prohibited by the rules of the competition*\n",
    "\n",
    "*We created this dictionary using the following approaches:*\n",
    " - *manual viewing of algorithm errors that did not use a list of holding names*\n",
    " - *selection of the most significant frequent words by ginny index*"
   ]
  },
  {
   "cell_type": "code",
   "execution_count": 40,
   "metadata": {},
   "outputs": [],
   "source": [
    "# we used just for check f1 with that list of holdings\n",
    "list_top_companies = ['accessories', 'arlanxeo', 'basf', 'bayer', 'bdp', 'bosch', 'bostik',\n",
    "                      'brenntag','bridgestone',\n",
    "                      'celanese','contitech','continental',\n",
    "                      'daewoo', 'dow', 'dupont', 'evonik', 'eurovia', 'exxon', 'exxonmobil', 'freudenberg',\n",
    "                      'goodyear', 'goter', 'gymap', 'hannifin', 'henkel', 'hp', 'hyundai', \n",
    "                      'iko', 'insaat', 'isover', 'itochu', 'kia', 'knauf',\n",
    "                      'kraton', 'kumho', 'lusocopla', 'michelin', 'mondi', \n",
    "                      'paul bauder', 'paul', 'pirelli', 'puma', 'ravago',\n",
    "                      'rehau', 'reliance', 'sabic', 'saintgobain', 'sanyo', 'shell', \n",
    "                      'sherwinwilliams','showa',\n",
    "                      'sika', 'sirketi', 'sojitz',\n",
    "                      'soprema', 'steico', 'strabag', 'sumitomo', 'synthomer', 'synthos','swisspor',\n",
    "                      'taban', 'total', 'trelleborg', 'tremco', 'trinseo', 'versalis', 'yokohama','zeon']"
   ]
  },
  {
   "cell_type": "code",
   "execution_count": null,
   "metadata": {},
   "outputs": [],
   "source": [
    "# names = [\n",
    "#  'hannifin',\n",
    "#  'swisspor',\n",
    "#  'tremco',\n",
    "#  'saintgobain',\n",
    "#  'puma',\n",
    "#  'bostik',\n",
    "#  'insaat',\n",
    "#  'sirketi']\n",
    "\n",
    "# names = ['continental',\n",
    "#  'bridgestone',\n",
    "#  'basf',\n",
    "#  'sika',\n",
    "#  'zeon',\n",
    "#  'soprema',\n",
    "#  'michelin',\n",
    "#  'pirelli',\n",
    "#  'arlanxeo',\n",
    "#  'sumitomo',\n",
    "#  'reliance',\n",
    "#  'paul',\n",
    "#  'exxonmobil',\n",
    "#  'contitech',\n",
    "#  'synthomer',\n",
    "#  'dow',\n",
    "#  'yokohama',\n",
    "#  'kraton',\n",
    "#  'iko',\n",
    "#  'eurovia',\n",
    "#  'accessories',\n",
    "#  'total',\n",
    "#  'kumho',\n",
    "#  'celanese',\n",
    "#  'ravago',\n",
    "#  'showa',\n",
    "#  'versalis',\n",
    "#  'gymap',\n",
    "#  'taban',\n",
    "#  'synthos',\n",
    "#  'mondi']"
   ]
  },
  {
   "cell_type": "markdown",
   "metadata": {},
   "source": [
    "**Create feature:**\n",
    "   - count repeated words between the list names top companies and dublicates in the pair"
   ]
  },
  {
   "cell_type": "code",
   "execution_count": 41,
   "metadata": {},
   "outputs": [],
   "source": [
    "# create information about duplicate name of petrochemical companies from top list\n",
    "list_top_companies = list_top_companies\n",
    "\n",
    "dp_train = []\n",
    "for i in list(baseline_train['duplicate']):\n",
    "    dp_train.append(''.join(list(set(i) & set(list_top_companies))))\n",
    "    \n",
    "dp_test = []\n",
    "for i in list(baseline_test['duplicate']):\n",
    "    dp_test.append(''.join(list(set(i) & set(list_top_companies))))\n",
    "    \n",
    "baseline_train['duplicate_name_company'] = dp_train\n",
    "baseline_test['duplicate_name_company'] = dp_test\n",
    "\n",
    "# replace name duplicate to number\n",
    "baseline_train['duplicate_name_company'] =\\\n",
    "    baseline_train['duplicate_name_company'].replace('',0,regex=True)\n",
    "baseline_train.loc[baseline_train['duplicate_name_company'] != 0, 'duplicate_name_company'] = 1\n",
    "\n",
    "baseline_test['duplicate_name_company'] =\\\n",
    "    baseline_test['duplicate_name_company'].replace('',0,regex=True)\n",
    "baseline_test.loc[baseline_test['duplicate_name_company'] != 0, 'duplicate_name_company'] = 1"
   ]
  },
  {
   "cell_type": "markdown",
   "metadata": {},
   "source": [
    "**We didn't use next features**"
   ]
  },
  {
   "cell_type": "code",
   "execution_count": null,
   "metadata": {},
   "outputs": [],
   "source": [
    "# # create some important feature about similar words in the data and names of top companies for TRAIN\n",
    "# # (levenstein distance, length of word, ratio distance to length)\n",
    "# baseline_train = dist_name_to_top_list_make(baseline_train,\n",
    "#                       'name_1_finish','name_2_finish',list_top_companies)"
   ]
  },
  {
   "cell_type": "code",
   "execution_count": null,
   "metadata": {},
   "outputs": [],
   "source": [
    "# # create some important feature about similar words in the data and names of top companies for TEST\n",
    "# # (levenstein distance, length of word, ratio distance to length)\n",
    "# baseline_test = dist_name_to_top_list_make(baseline_test,\n",
    "#                       'name_1_finish','name_2_finish',list_top_companies)"
   ]
  },
  {
   "cell_type": "markdown",
   "metadata": {},
   "source": [
    "### Matrix of high-frequency words\n",
    "\n",
    "Create matrix of 650 high-frequency words (h/f words)\n",
    "\n",
    "The creating matrix of 650 h/f words process needs a very long time. That way we decided download matrix in csv file. \n",
    "\n",
    "Now we can download matrix of h/f words and merge it with data train and test data"
   ]
  },
  {
   "cell_type": "code",
   "execution_count": 42,
   "metadata": {},
   "outputs": [],
   "source": [
    "# download matrix of most frequency words\n",
    "df_stop_words_train = pd.read_csv('matrix_sw_train_650.csv',index_col=0)\n",
    "df_stop_words_test = pd.read_csv('matrix_sw_test_650.csv',index_col=0)"
   ]
  },
  {
   "cell_type": "code",
   "execution_count": null,
   "metadata": {},
   "outputs": [],
   "source": [
    "# # Create matrix of stop-words and fix some columns\n",
    "# # FOR TRAIN\n",
    "# df_stop_words_train = pd.DataFrame()\n",
    "# df_stop_words_train['pair_id'] = baseline_train['pair_id']\n",
    "# df_stop_words_train['name_1_finish'] = baseline_train['name_1_finish']\n",
    "# df_stop_words_train['name_2_finish'] = baseline_train['name_2_finish']"
   ]
  },
  {
   "cell_type": "code",
   "execution_count": null,
   "metadata": {},
   "outputs": [],
   "source": [
    "# # Create matrix of stop-words and fix some columns\n",
    "# # FOR TEST\n",
    "# df_stop_words_test = pd.DataFrame()\n",
    "# df_stop_words_test['pair_id'] = baseline_test['pair_id']\n",
    "# df_stop_words_test['name_1_finish'] = baseline_test['name_1_finish']\n",
    "# df_stop_words_test['name_2_finish'] = baseline_test['name_2_finish']"
   ]
  },
  {
   "cell_type": "code",
   "execution_count": 43,
   "metadata": {},
   "outputs": [],
   "source": [
    "# Merge baseline data with matrix of stop words\n",
    "# FOR TRAIN\n",
    "\n",
    "baseline_train = baseline_train.merge(\n",
    "    df_stop_words_train.drop(['name_1_finish','name_2_finish'],axis=1), on='pair_id', how='left')"
   ]
  },
  {
   "cell_type": "code",
   "execution_count": 44,
   "metadata": {},
   "outputs": [],
   "source": [
    "# Merge baseline data with matrix of stop words\n",
    "# FOR TEST\n",
    "\n",
    "baseline_test = baseline_test.merge(\n",
    "    df_stop_words_test.drop(['name_1_finish','name_2_finish'],axis=1), on='pair_id', how='left')"
   ]
  },
  {
   "cell_type": "code",
   "execution_count": 45,
   "metadata": {},
   "outputs": [
    {
     "data": {
      "text/plain": [
       "Index(['de_sum', 'sa_sum', 'cv_sum', 'rubber_sum', 's_sum', 'a_sum', 'imp_sum',\n",
       "       'exp_sum', 'plastic_sum', 'e_sum',\n",
       "       ...\n",
       "       'abc_sum', 'swan_sum', 'ceat_sum', 'mat_sum', 'tedder_sum',\n",
       "       'abrasives_sum', 'neumaticos_sum', 'ktn_sum', 'ming_sum', 'amster_sum'],\n",
       "      dtype='object', length=650)"
      ]
     },
     "execution_count": 45,
     "metadata": {},
     "output_type": "execute_result"
    }
   ],
   "source": [
    "baseline_train.columns[23:]"
   ]
  },
  {
   "cell_type": "code",
   "execution_count": null,
   "metadata": {},
   "outputs": [],
   "source": [
    "# 0 - 50 - done\n",
    "# 50 - 100 - done\n",
    "# 100 - 150 - done\n",
    "# 150 - 200 - done\n",
    "# 200 - 250 - done\n",
    "# 250 - 300 - done\n",
    "# 300 - 350 - done\n",
    "# 350 - 400 - done\n",
    "# 400 - 450 - done\n",
    "# 450 - 500 - done\n",
    "# 500 - 550 - done\n",
    "# 550 - 600 - done\n",
    "# 600 - 650 - done"
   ]
  },
  {
   "cell_type": "code",
   "execution_count": null,
   "metadata": {},
   "outputs": [],
   "source": [
    "# # Upgrade matrix of stop-words - append new stop-words in data frame\n",
    "# # FOR TRAIN\n",
    "\n",
    "# # There are three meanings for each stop word: 0,1,2\n",
    "# # 0 - means no stop words in both companies of the pair\n",
    "# # 1 - means one stop word in any company name from a pair\n",
    "# # 2 - means that each company name from a pair has a stop word\n",
    "\n",
    "# list_stop_words = list(df_freq_agg[600:650]['word'].to_string(index=False).split())\n",
    "\n",
    "# name_company = 'name_1_finish'\n",
    "# df_stop_words_train[name_company] = baseline_train[name_company]\n",
    "# columns_drop = []\n",
    "# for stop_word in list_stop_words:\n",
    "#     column = 'n1_%s' % stop_word\n",
    "#     columns_drop.append(column)\n",
    "#     df_stop_words_train[column] = baseline_train[name_company]\n",
    "#     df_stop_words_train[column] = baseline_train[name_company].apply(\n",
    "#         lambda x: ' '.join(['1' for i in x.split() if i == stop_word]))\n",
    "#     df_stop_words_train.loc[df_stop_words_train[column]!='',column]=1\n",
    "#     df_stop_words_train.loc[df_stop_words_train[column]=='',column]=0\n",
    "\n",
    "# name_company = 'name_2_finish'\n",
    "# df_stop_words_train[name_company] = baseline_train[name_company]\n",
    "# for stop_word in list_stop_words:\n",
    "#     column = 'n2_%s' % stop_word\n",
    "#     columns_drop.append(column)\n",
    "#     df_stop_words_train[column] = baseline_train[name_company]\n",
    "#     df_stop_words_train[column] = baseline_train[name_company].apply(\n",
    "#         lambda x: ' '.join(['1' for i in x.split() if i == stop_word]))\n",
    "#     df_stop_words_train.loc[df_stop_words_train[column]!='',column]=1\n",
    "#     df_stop_words_train.loc[df_stop_words_train[column]=='',column]=0    \n",
    "    \n",
    "# for stop_word in list_stop_words:   \n",
    "#     column = '%s_sum' % stop_word\n",
    "#     n1 = 'n1_%s' % stop_word\n",
    "#     n2 = 'n2_%s' % stop_word\n",
    "#     df_stop_words_train[column] = df_stop_words_train[n1] + df_stop_words_train[n2]\n",
    "    \n",
    "# df_stop_words_train = df_stop_words_train.drop(columns_drop,axis=1)    "
   ]
  },
  {
   "cell_type": "code",
   "execution_count": null,
   "metadata": {},
   "outputs": [],
   "source": [
    "# # Upgrade matrix of stop-words - append new stop-words in data frame\n",
    "# # FOR TEST\n",
    "\n",
    "# # There are three meanings for each stop word: 0,1,2\n",
    "# # 0 - means no stop words in both companies of the pair\n",
    "# # 1 - means one stop word in any company name from a pair\n",
    "# # 2 - means that each company name from a pair has a stop word\n",
    "\n",
    "# name_company = 'name_1_finish'\n",
    "# df_stop_words_test[name_company] = baseline_test[name_company]\n",
    "# columns_drop = []\n",
    "# for stop_word in list_stop_words:\n",
    "#     column = 'n1_%s' % stop_word\n",
    "#     columns_drop.append(column)\n",
    "#     df_stop_words_test[column] = baseline_test[name_company]\n",
    "#     df_stop_words_test[column] = baseline_test[name_company].apply(\n",
    "#         lambda x: ' '.join(['1' for i in x.split() if i == stop_word]))\n",
    "#     df_stop_words_test.loc[df_stop_words_test[column]!='',column]=1\n",
    "#     df_stop_words_test.loc[df_stop_words_test[column]=='',column]=0\n",
    "    \n",
    "# name_company = 'name_2_finish'\n",
    "# df_stop_words_test[name_company] = baseline_test[name_company]\n",
    "# for stop_word in list_stop_words:\n",
    "#     column = 'n2_%s' % stop_word\n",
    "#     columns_drop.append(column)\n",
    "#     df_stop_words_test[column] = baseline_test[name_company]\n",
    "#     df_stop_words_test[column] = baseline_test[name_company].apply(\n",
    "#         lambda x: ' '.join(['1' for i in x.split() if i == stop_word]))\n",
    "#     df_stop_words_test.loc[df_stop_words_test[column]!='',column]=1\n",
    "#     df_stop_words_test.loc[df_stop_words_test[column]=='',column]=0    \n",
    "    \n",
    "# for stop_word in list_stop_words:   \n",
    "#     column = '%s_sum' % stop_word\n",
    "#     n1 = 'n1_%s' % stop_word\n",
    "#     n2 = 'n2_%s' % stop_word\n",
    "#     df_stop_words_test[column] = df_stop_words_test[n1] + df_stop_words_test[n2]\n",
    "    \n",
    "# df_stop_words_test = df_stop_words_test.drop(columns_drop,axis=1)    "
   ]
  },
  {
   "cell_type": "code",
   "execution_count": null,
   "metadata": {},
   "outputs": [],
   "source": [
    "# df_stop_words_train.to_csv('matrix_sw_train_650.csv')\n",
    "# df_stop_words_test.to_csv('matrix_sw_test_650.csv')"
   ]
  },
  {
   "cell_type": "code",
   "execution_count": 46,
   "metadata": {},
   "outputs": [
    {
     "data": {
      "text/plain": [
       "Index(['de_sum', 'sa_sum', 'cv_sum', 'rubber_sum', 's_sum', 'a_sum', 'imp_sum',\n",
       "       'exp_sum', 'plastic_sum', 'e_sum',\n",
       "       ...\n",
       "       'abc_sum', 'swan_sum', 'ceat_sum', 'mat_sum', 'tedder_sum',\n",
       "       'abrasives_sum', 'neumaticos_sum', 'ktn_sum', 'ming_sum', 'amster_sum'],\n",
       "      dtype='object', length=650)"
      ]
     },
     "execution_count": 46,
     "metadata": {},
     "output_type": "execute_result"
    }
   ],
   "source": [
    "baseline_train.columns[23:]"
   ]
  },
  {
   "cell_type": "code",
   "execution_count": 48,
   "metadata": {},
   "outputs": [
    {
     "data": {
      "text/plain": [
       "Index(['de_sum', 'sa_sum', 'cv_sum', 'rubber_sum', 's_sum', 'a_sum', 'imp_sum',\n",
       "       'exp_sum', 'plastic_sum', 'e_sum',\n",
       "       ...\n",
       "       'abc_sum', 'swan_sum', 'ceat_sum', 'mat_sum', 'tedder_sum',\n",
       "       'abrasives_sum', 'neumaticos_sum', 'ktn_sum', 'ming_sum', 'amster_sum'],\n",
       "      dtype='object', length=650)"
      ]
     },
     "execution_count": 48,
     "metadata": {},
     "output_type": "execute_result"
    }
   ],
   "source": [
    "baseline_test.columns[22:]"
   ]
  },
  {
   "cell_type": "markdown",
   "metadata": {},
   "source": [
    "**Create two features:**\n",
    " - Count most common words in the pair \n",
    " - The proportion of high-frequency words in all words in a pair"
   ]
  },
  {
   "cell_type": "code",
   "execution_count": 49,
   "metadata": {},
   "outputs": [],
   "source": [
    "# Create feature: count of all stop-words in the pair\n",
    "# for TRAIN\n",
    "\n",
    "columns_sum = list(baseline_train.columns[23:])\n",
    "baseline_train['stop_word_sum'] = baseline_train[columns_sum].sum(axis=1)"
   ]
  },
  {
   "cell_type": "code",
   "execution_count": 50,
   "metadata": {},
   "outputs": [],
   "source": [
    "# Create feature: count of all stop-words in the pair\n",
    "# for TEST\n",
    "\n",
    "baseline_test['stop_word_sum'] = baseline_test[columns_sum].sum(axis=1)"
   ]
  },
  {
   "cell_type": "code",
   "execution_count": 51,
   "metadata": {},
   "outputs": [],
   "source": [
    "# Create feature: ratio between all unique words in the pair and all unique stop words in the pair\n",
    "\n",
    "baseline_train['ratio_all_words_stop_words'] = \\\n",
    "    (baseline_train['duplicate_count'] + baseline_train['dif_count']) / baseline_train['stop_word_sum']\n",
    "\n",
    "baseline_test['ratio_all_words_stop_words'] = \\\n",
    "    (baseline_test['duplicate_count'] + baseline_test['dif_count']) / baseline_test['stop_word_sum']"
   ]
  },
  {
   "cell_type": "code",
   "execution_count": null,
   "metadata": {},
   "outputs": [],
   "source": [
    "# baseline_train.columns[-5:]"
   ]
  },
  {
   "cell_type": "code",
   "execution_count": null,
   "metadata": {},
   "outputs": [],
   "source": [
    "# list(df_freq_agg[0:300]['word'].to_string(index=False).split())"
   ]
  },
  {
   "cell_type": "markdown",
   "metadata": {},
   "source": [
    "**Drop the 300 high-frequency words in all names of companies**\n",
    "\n",
    "**Create three features:**\n",
    " - the first one is a **levenstein distance after drop all high-frequency words**\n",
    " - the second one is a **label if the both names of companies have zero words (they are empty)**: \n",
    "        - label 0 when here is empty in names of companies\n",
    "        - label 1 else\n",
    " - the third one is a **ratio between levenstein distance after drop h/f words and label if names are empty**"
   ]
  },
  {
   "cell_type": "code",
   "execution_count": 52,
   "metadata": {},
   "outputs": [],
   "source": [
    "# Create drop list        \n",
    "drop_list = list(df_freq_agg[0:300]['word'].to_string(index=False).split())"
   ]
  },
  {
   "cell_type": "code",
   "execution_count": 53,
   "metadata": {},
   "outputs": [],
   "source": [
    "# Drop the 300 top frequency words in all pairs\n",
    "\n",
    "baseline_train['name_1_finish_drop_sw'] =\\\n",
    "    baseline_train['name_1_transliterated'].apply(\n",
    "    lambda x: ' '.join([word for word in x.split() if word not in (drop_list)]))\n",
    "baseline_train['name_2_finish_drop_sw'] =\\\n",
    "    baseline_train['name_2_transliterated'].apply(\n",
    "    lambda x: ' '.join([word for word in x.split() if word not in (drop_list)]))\n",
    "\n",
    "baseline_test['name_1_finish_drop_sw'] =\\\n",
    "    baseline_test['name_1_transliterated'].apply(\n",
    "    lambda x: ' '.join([word for word in x.split() if word not in (drop_list)]))\n",
    "baseline_test['name_2_finish_drop_sw'] =\\\n",
    "    baseline_test['name_2_transliterated'].apply(\n",
    "    lambda x: ' '.join([word for word in x.split() if word not in (drop_list)]))"
   ]
  },
  {
   "cell_type": "code",
   "execution_count": 54,
   "metadata": {},
   "outputs": [
    {
     "name": "stderr",
     "output_type": "stream",
     "text": [
      "100%|██████████| 497819/497819 [00:46<00:00, 10780.78it/s]\n",
      "100%|██████████| 213249/213249 [00:16<00:00, 12879.33it/s]\n"
     ]
    }
   ],
   "source": [
    "# Create feature: LEVENSTAIN DISTANCE between names of companies after drop 300 top frequency words\n",
    "\n",
    "levenshtein = Levenshtein()\n",
    "column_1 = 'name_1_finish_drop_sw'\n",
    "column_2 = 'name_2_finish_drop_sw'\n",
    "\n",
    "baseline_train[\"levenstein_drop_sw\"] = baseline_train.progress_apply(\n",
    "    lambda r: levenshtein.distance(r[column_1], r[column_2]), axis=1)\n",
    "baseline_test[\"levenstein_drop_sw\"] = baseline_test.progress_apply(\n",
    "    lambda r: levenshtein.distance(r[column_1], r[column_2]), axis=1)"
   ]
  },
  {
   "cell_type": "code",
   "execution_count": null,
   "metadata": {},
   "outputs": [],
   "source": [
    "# baseline_train[['name_1_finish_drop_sw','name_2_finish_drop_sw','levenstein_drop_sw']]"
   ]
  },
  {
   "cell_type": "code",
   "execution_count": null,
   "metadata": {},
   "outputs": [],
   "source": [
    "# baseline_train[['name_1','name_2','name_1_finish_drop_sw','name_2_finish_drop_sw','levenstein_drop_sw','target']][\n",
    "#     baseline_train['levenstein_drop_sw']==0][baseline_train['target']==1]"
   ]
  },
  {
   "cell_type": "code",
   "execution_count": 55,
   "metadata": {},
   "outputs": [],
   "source": [
    "# Create feature with two unique values:\n",
    "#     0, if no words in both names companies\n",
    "#     1 in any else cases\n",
    "# for TRAIN\n",
    "\n",
    "df = pd.DataFrame(baseline_train[baseline_train['name_1_finish_drop_sw']==''][\n",
    "    baseline_train['name_2_finish_drop_sw']=='']['pair_id'])\n",
    "df['label_zero'] = 0\n",
    "baseline_train = baseline_train.merge(df,on='pair_id',how='left')\n",
    "baseline_train['label_zero'] = baseline_train['label_zero'].fillna(1)\n",
    "\n",
    "# Create feature with two unique values:\n",
    "#     0, if no words in both names companies\n",
    "#     1 in any else cases\n",
    "# for TEST\n",
    "\n",
    "df = pd.DataFrame(baseline_test[baseline_test['name_1_finish_drop_sw']==''][\n",
    "    baseline_test['name_2_finish_drop_sw']=='']['pair_id'])\n",
    "df['label_zero'] = 0\n",
    "baseline_test = baseline_test.merge(df,on='pair_id',how='left')\n",
    "baseline_test['label_zero'] = baseline_test['label_zero'].fillna(1)"
   ]
  },
  {
   "cell_type": "code",
   "execution_count": 56,
   "metadata": {},
   "outputs": [],
   "source": [
    "# Create feature: ratio between levenstein distances and label all empty names companies in the pair\n",
    "# for TRAIN\n",
    "baseline_train['ratio_lvstn_drop_sw_to_label_zero'] =\\\n",
    "        baseline_train['levenstein_drop_sw'] / baseline_train['label_zero']\n",
    "\n",
    "baseline_test['ratio_lvstn_drop_sw_to_label_zero'] =\\\n",
    "        baseline_test['levenstein_drop_sw'] / baseline_test['label_zero']"
   ]
  },
  {
   "cell_type": "code",
   "execution_count": 57,
   "metadata": {},
   "outputs": [],
   "source": [
    "# baseline_train[['name_1_finish_drop_sw','name_2_finish_drop_sw',\n",
    "#                 'levenstein_drop_sw','label_zero','ratio_lvstn_drop_sw_to_label_zero']]"
   ]
  },
  {
   "cell_type": "code",
   "execution_count": 58,
   "metadata": {},
   "outputs": [
    {
     "name": "stderr",
     "output_type": "stream",
     "text": [
      "100%|██████████| 497819/497819 [00:40<00:00, 12304.18it/s]\n",
      "100%|██████████| 213249/213249 [00:16<00:00, 12799.57it/s]\n"
     ]
    }
   ],
   "source": [
    "# Create feature: NORMILIZED LEVENSTAIN DISTANCE between names of companies after drop 300 top frequency words\n",
    "\n",
    "levenshtein = Levenshtein()\n",
    "column_1 = 'name_1_finish_drop_sw'\n",
    "column_2 = 'name_2_finish_drop_sw'\n",
    "\n",
    "baseline_train[\"norm_levenstein_drop_sw\"] = baseline_train.progress_apply(\n",
    "    lambda r: normalized_levenshtein.distance(r[column_1], r[column_2]), axis=1)\n",
    "baseline_test[\"norm_levenstein_drop_sw\"] = baseline_test.progress_apply(\n",
    "    lambda r: normalized_levenshtein.distance(r[column_1], r[column_2]), axis=1)"
   ]
  },
  {
   "cell_type": "code",
   "execution_count": 59,
   "metadata": {},
   "outputs": [],
   "source": [
    "# Create feature: ratio between levenstein distances and label all empty names companies in the pair\n",
    "# for TRAIN\n",
    "baseline_train['ratio_norm_lvstn_drop_sw_to_label_zero'] =\\\n",
    "        baseline_train['norm_levenstein_drop_sw'] / baseline_train['label_zero']\n",
    "\n",
    "baseline_test['ratio_norm_lvstn_drop_sw_to_label_zero'] =\\\n",
    "        baseline_test['norm_levenstein_drop_sw'] / baseline_test['label_zero']"
   ]
  },
  {
   "cell_type": "markdown",
   "metadata": {},
   "source": [
    "# MODELING part 1\n",
    "\n",
    "\n",
    "## Just use light GBM for predict on train and test samples\n",
    "Next model is only light gbm"
   ]
  },
  {
   "cell_type": "code",
   "execution_count": null,
   "metadata": {
    "scrolled": true
   },
   "outputs": [],
   "source": [
    "# # check the columns\n",
    "# print (list(baseline_train.columns[23:-9]))"
   ]
  },
  {
   "cell_type": "code",
   "execution_count": 60,
   "metadata": {},
   "outputs": [],
   "source": [
    "# select most important features by gini index\n",
    "features = ['empty_after_all',\n",
    "#             'levenstein','norm_levenstein',\n",
    "            'duplicate_count', 'duplicate_sum', 'duplicate_mean',\n",
    "            'dif_count', 'dif_sum', 'dif_mean', 'ratio_duplicate/dif_count',\n",
    "            \n",
    "            'duplicate_name_company',\n",
    "            \n",
    "#             'levenstein_dist_w1_top_w_min', 'levenstein_dist_w2_top_w_min'\n",
    "#             , 'length_w1_top_w_min', 'length_w2_top_w_min', 'length_top_w_min',\n",
    "#             'ratio_dist_w1_to_top_w_min', 'ratio_dist_w2_to_top_w_min',\n",
    "            \n",
    "            'stop_word_sum', 'ratio_all_words_stop_words', \n",
    "            \n",
    "#             'levenstein_drop_sw', 'label_zero', \n",
    "            \n",
    "            'ratio_lvstn_drop_sw_to_label_zero'\n",
    "#             'ratio_norm_lvstn_drop_sw_to_label_zero'\n",
    "            \n",
    "           \n",
    "           ]\n",
    "\n",
    "seed = 42"
   ]
  },
  {
   "cell_type": "code",
   "execution_count": 61,
   "metadata": {},
   "outputs": [
    {
     "name": "stdout",
     "output_type": "stream",
     "text": [
      "Split baseline data train 497819\n",
      " - new train data: 398255\n",
      " - new test data: 99564\n"
     ]
    }
   ],
   "source": [
    "# provides train/test indices to split data in train/test sets\n",
    "split = StratifiedShuffleSplit(n_splits=1, train_size=0.8, random_state=seed)\n",
    "\n",
    "tridx, cvidx = list(split.split(baseline_train[features],\n",
    "                                baseline_train[\"target\"]))[0]\n",
    "\n",
    "print ('Split baseline data train',baseline_train.shape[0])\n",
    "print (' - new train data:',tridx.shape[0])\n",
    "print (' - new test data:',cvidx.shape[0])"
   ]
  },
  {
   "cell_type": "code",
   "execution_count": 62,
   "metadata": {},
   "outputs": [
    {
     "data": {
      "text/plain": [
       "LGBMClassifier(boosting_type='gbdt', class_weight=None, colsample_bytree=1.0,\n",
       "               importance_type='split', learning_rate=1, max_depth=40,\n",
       "               min_child_samples=15, min_child_weight=0.001, min_split_gain=0.0,\n",
       "               n_estimators=1, n_jobs=-1, num_leaves=31, objective='binary',\n",
       "               random_state=50, reg_alpha=0.0, reg_lambda=0.0, silent=True,\n",
       "               subsample=1.0, subsample_for_bin=200000, subsample_freq=0)"
      ]
     },
     "execution_count": 62,
     "metadata": {},
     "output_type": "execute_result"
    }
   ],
   "source": [
    "# learning Light GBM Classificier\n",
    "seed = 50\n",
    "params = {'n_estimators': 1,\n",
    "          'objective': 'binary',\n",
    "          'max_depth': 40,\n",
    "          'min_child_samples': 15,\n",
    "          'learning_rate': 1,\n",
    "          'random_state': seed}\n",
    "\n",
    "model = lgb.LGBMClassifier(**params)\n",
    "model.fit(baseline_train.iloc[tridx][features].values,\n",
    "          baseline_train.iloc[tridx][\"target\"].values)"
   ]
  },
  {
   "cell_type": "code",
   "execution_count": 63,
   "metadata": {},
   "outputs": [],
   "source": [
    "# make predict proba and predict target\n",
    "probability_level = 0.99\n",
    "X = baseline_train\n",
    "tridx = tridx\n",
    "cvidx = cvidx\n",
    "model = model\n",
    "\n",
    "X_tr, X_cv = contingency_table(X,features,probability_level,tridx,cvidx,model)\n",
    "\n",
    "train_matrix_confusion = matrix_confusion(X_tr)\n",
    "cv_matrix_confusion = matrix_confusion(X_cv)"
   ]
  },
  {
   "cell_type": "code",
   "execution_count": 64,
   "metadata": {},
   "outputs": [
    {
     "name": "stdout",
     "output_type": "stream",
     "text": [
      "\u001b[1mMatrix confusion on train data\u001b[m\n"
     ]
    },
    {
     "data": {
      "text/html": [
       "<div>\n",
       "<style scoped>\n",
       "    .dataframe tbody tr th:only-of-type {\n",
       "        vertical-align: middle;\n",
       "    }\n",
       "\n",
       "    .dataframe tbody tr th {\n",
       "        vertical-align: top;\n",
       "    }\n",
       "\n",
       "    .dataframe thead th {\n",
       "        text-align: right;\n",
       "    }\n",
       "</style>\n",
       "<table border=\"1\" class=\"dataframe\">\n",
       "  <thead>\n",
       "    <tr style=\"text-align: right;\">\n",
       "      <th></th>\n",
       "      <th>0_algorythm</th>\n",
       "      <th>1_algorythm</th>\n",
       "    </tr>\n",
       "  </thead>\n",
       "  <tbody>\n",
       "    <tr>\n",
       "      <th>0_target</th>\n",
       "      <td>394688.0</td>\n",
       "      <td>641.0</td>\n",
       "    </tr>\n",
       "    <tr>\n",
       "      <th>1_target</th>\n",
       "      <td>290.0</td>\n",
       "      <td>2636.0</td>\n",
       "    </tr>\n",
       "  </tbody>\n",
       "</table>\n",
       "</div>"
      ],
      "text/plain": [
       "          0_algorythm  1_algorythm\n",
       "0_target     394688.0        641.0\n",
       "1_target        290.0       2636.0"
      ]
     },
     "metadata": {},
     "output_type": "display_data"
    },
    {
     "name": "stdout",
     "output_type": "stream",
     "text": [
      "\n",
      "              precision    recall  f1-score   support\n",
      "\n",
      "           0       1.00      1.00      1.00    395329\n",
      "           1       0.80      0.90      0.85      2926\n",
      "\n",
      "    accuracy                           1.00    398255\n",
      "   macro avg       0.90      0.95      0.92    398255\n",
      "weighted avg       1.00      1.00      1.00    398255\n",
      "\n",
      "******************************************************\n",
      "\n",
      "\n",
      "\u001b[1mMatrix confusion on test(cv) data\u001b[m\n"
     ]
    },
    {
     "data": {
      "text/html": [
       "<div>\n",
       "<style scoped>\n",
       "    .dataframe tbody tr th:only-of-type {\n",
       "        vertical-align: middle;\n",
       "    }\n",
       "\n",
       "    .dataframe tbody tr th {\n",
       "        vertical-align: top;\n",
       "    }\n",
       "\n",
       "    .dataframe thead th {\n",
       "        text-align: right;\n",
       "    }\n",
       "</style>\n",
       "<table border=\"1\" class=\"dataframe\">\n",
       "  <thead>\n",
       "    <tr style=\"text-align: right;\">\n",
       "      <th></th>\n",
       "      <th>0_algorythm</th>\n",
       "      <th>1_algorythm</th>\n",
       "    </tr>\n",
       "  </thead>\n",
       "  <tbody>\n",
       "    <tr>\n",
       "      <th>0_target</th>\n",
       "      <td>98672.0</td>\n",
       "      <td>160.0</td>\n",
       "    </tr>\n",
       "    <tr>\n",
       "      <th>1_target</th>\n",
       "      <td>71.0</td>\n",
       "      <td>661.0</td>\n",
       "    </tr>\n",
       "  </tbody>\n",
       "</table>\n",
       "</div>"
      ],
      "text/plain": [
       "          0_algorythm  1_algorythm\n",
       "0_target      98672.0        160.0\n",
       "1_target         71.0        661.0"
      ]
     },
     "metadata": {},
     "output_type": "display_data"
    },
    {
     "name": "stdout",
     "output_type": "stream",
     "text": [
      "\n",
      "              precision    recall  f1-score   support\n",
      "\n",
      "           0       1.00      1.00      1.00     98832\n",
      "           1       0.81      0.90      0.85       732\n",
      "\n",
      "    accuracy                           1.00     99564\n",
      "   macro avg       0.90      0.95      0.93     99564\n",
      "weighted avg       1.00      1.00      1.00     99564\n",
      "\n",
      "******************************************************\n"
     ]
    }
   ],
   "source": [
    "# check the report\n",
    "report_score(train_matrix_confusion,\n",
    "             cv_matrix_confusion,\n",
    "             baseline_train,\n",
    "             tridx,cvidx,\n",
    "             X_tr,X_cv)"
   ]
  },
  {
   "cell_type": "code",
   "execution_count": 65,
   "metadata": {
    "scrolled": false
   },
   "outputs": [
    {
     "data": {
      "image/png": "[encoded data removed]",
      "text/plain": [
       "<Figure size 864x432 with 1 Axes>"
      ]
     },
     "metadata": {},
     "output_type": "display_data"
    },
    {
     "data": {
      "text/html": [
       "<div>\n",
       "<style scoped>\n",
       "    .dataframe tbody tr th:only-of-type {\n",
       "        vertical-align: middle;\n",
       "    }\n",
       "\n",
       "    .dataframe tbody tr th {\n",
       "        vertical-align: top;\n",
       "    }\n",
       "\n",
       "    .dataframe thead th {\n",
       "        text-align: right;\n",
       "    }\n",
       "</style>\n",
       "<table border=\"1\" class=\"dataframe\">\n",
       "  <thead>\n",
       "    <tr style=\"text-align: right;\">\n",
       "      <th></th>\n",
       "      <th>Features</th>\n",
       "      <th>Gain</th>\n",
       "    </tr>\n",
       "  </thead>\n",
       "  <tbody>\n",
       "    <tr>\n",
       "      <th>8</th>\n",
       "      <td>duplicate_name_company</td>\n",
       "      <td>281556.000000</td>\n",
       "    </tr>\n",
       "    <tr>\n",
       "      <th>11</th>\n",
       "      <td>ratio_lvstn_drop_sw_to_label_zero</td>\n",
       "      <td>20763.248383</td>\n",
       "    </tr>\n",
       "    <tr>\n",
       "      <th>3</th>\n",
       "      <td>duplicate_mean</td>\n",
       "      <td>3629.288025</td>\n",
       "    </tr>\n",
       "    <tr>\n",
       "      <th>2</th>\n",
       "      <td>duplicate_sum</td>\n",
       "      <td>2454.520935</td>\n",
       "    </tr>\n",
       "    <tr>\n",
       "      <th>9</th>\n",
       "      <td>stop_word_sum</td>\n",
       "      <td>2431.027954</td>\n",
       "    </tr>\n",
       "    <tr>\n",
       "      <th>5</th>\n",
       "      <td>dif_sum</td>\n",
       "      <td>2094.691956</td>\n",
       "    </tr>\n",
       "    <tr>\n",
       "      <th>1</th>\n",
       "      <td>duplicate_count</td>\n",
       "      <td>2080.580078</td>\n",
       "    </tr>\n",
       "    <tr>\n",
       "      <th>10</th>\n",
       "      <td>ratio_all_words_stop_words</td>\n",
       "      <td>1696.354980</td>\n",
       "    </tr>\n",
       "    <tr>\n",
       "      <th>4</th>\n",
       "      <td>dif_count</td>\n",
       "      <td>1526.122040</td>\n",
       "    </tr>\n",
       "    <tr>\n",
       "      <th>7</th>\n",
       "      <td>ratio_duplicate/dif_count</td>\n",
       "      <td>1511.890015</td>\n",
       "    </tr>\n",
       "    <tr>\n",
       "      <th>6</th>\n",
       "      <td>dif_mean</td>\n",
       "      <td>1378.701004</td>\n",
       "    </tr>\n",
       "    <tr>\n",
       "      <th>0</th>\n",
       "      <td>empty_after_all</td>\n",
       "      <td>0.000000</td>\n",
       "    </tr>\n",
       "  </tbody>\n",
       "</table>\n",
       "</div>"
      ],
      "text/plain": [
       "                             Features           Gain\n",
       "8              duplicate_name_company  281556.000000\n",
       "11  ratio_lvstn_drop_sw_to_label_zero   20763.248383\n",
       "3                      duplicate_mean    3629.288025\n",
       "2                       duplicate_sum    2454.520935\n",
       "9                       stop_word_sum    2431.027954\n",
       "5                             dif_sum    2094.691956\n",
       "1                     duplicate_count    2080.580078\n",
       "10         ratio_all_words_stop_words    1696.354980\n",
       "4                           dif_count    1526.122040\n",
       "7           ratio_duplicate/dif_count    1511.890015\n",
       "6                            dif_mean    1378.701004\n",
       "0                     empty_after_all       0.000000"
      ]
     },
     "metadata": {},
     "output_type": "display_data"
    }
   ],
   "source": [
    "# look at the graph of the most gain information in the features\n",
    "start = 0\n",
    "stop = 25\n",
    "size = (12,6)\n",
    "\n",
    "df = table_gain_coef(model,features,start,stop)\n",
    "gain_hist(df,size,start,stop)\n",
    "display(df)"
   ]
  },
  {
   "cell_type": "markdown",
   "metadata": {},
   "source": [
    "## Check the model on all train samples before download predicts to validation"
   ]
  },
  {
   "cell_type": "code",
   "execution_count": 66,
   "metadata": {},
   "outputs": [
    {
     "data": {
      "text/plain": [
       "LGBMClassifier(boosting_type='gbdt', class_weight=None, colsample_bytree=1.0,\n",
       "               importance_type='split', learning_rate=1, max_depth=40,\n",
       "               min_child_samples=15, min_child_weight=0.001, min_split_gain=0.0,\n",
       "               n_estimators=1, n_jobs=-1, num_leaves=31, objective='binary',\n",
       "               random_state=50, reg_alpha=0.0, reg_lambda=0.0, silent=True,\n",
       "               subsample=1.0, subsample_for_bin=200000, subsample_freq=0)"
      ]
     },
     "execution_count": 66,
     "metadata": {},
     "output_type": "execute_result"
    }
   ],
   "source": [
    "# fit the model\n",
    "model = lgb.LGBMClassifier(**params)\n",
    "model.fit(baseline_train[features].values,\n",
    "          baseline_train[\"target\"].values)"
   ]
  },
  {
   "cell_type": "code",
   "execution_count": 67,
   "metadata": {},
   "outputs": [],
   "source": [
    "# make predict proba and predict target on train data\n",
    "baseline_train['predict_to_csv'] = (model.predict_proba(\n",
    "    baseline_train[features].values)[:, 1] > probability_level).astype(np.int)\n",
    "\n",
    "# make predict proba and predict target on TEST data\n",
    "baseline_test['predict_to_csv'] = (model.predict_proba(\n",
    "    baseline_test[features].values)[:, 1] > probability_level).astype(np.int)"
   ]
  },
  {
   "cell_type": "code",
   "execution_count": 68,
   "metadata": {},
   "outputs": [
    {
     "data": {
      "text/plain": [
       "0    493835\n",
       "1      3984\n",
       "Name: predict_to_csv, dtype: int64"
      ]
     },
     "execution_count": 68,
     "metadata": {},
     "output_type": "execute_result"
    }
   ],
   "source": [
    "# predict balance on train\n",
    "baseline_train['predict_to_csv'].value_counts()"
   ]
  },
  {
   "cell_type": "code",
   "execution_count": 69,
   "metadata": {},
   "outputs": [
    {
     "data": {
      "text/plain": [
       "0    212080\n",
       "1      1169\n",
       "Name: predict_to_csv, dtype: int64"
      ]
     },
     "execution_count": 69,
     "metadata": {},
     "output_type": "execute_result"
    }
   ],
   "source": [
    "# predict balance on test\n",
    "baseline_test['predict_to_csv'].value_counts()"
   ]
  },
  {
   "cell_type": "code",
   "execution_count": 70,
   "metadata": {},
   "outputs": [
    {
     "name": "stdout",
     "output_type": "stream",
     "text": [
      "              precision    recall  f1-score   support\n",
      "\n",
      "           0       1.00      1.00      1.00    494161\n",
      "           1       0.82      0.89      0.86      3658\n",
      "\n",
      "    accuracy                           1.00    497819\n",
      "   macro avg       0.91      0.95      0.93    497819\n",
      "weighted avg       1.00      1.00      1.00    497819\n",
      "\n"
     ]
    }
   ],
   "source": [
    "# report about precision, recall and f-1 score\n",
    "print (classification_report(baseline_train[\"target\"].values, baseline_train['predict_to_csv']))"
   ]
  },
  {
   "cell_type": "code",
   "execution_count": 71,
   "metadata": {},
   "outputs": [],
   "source": [
    "# make predict proba and predict target on train data\n",
    "baseline_train['predict_proba_to_csv'] = 1-(model.predict_proba(\n",
    "    baseline_train[features].values)[:, 0].astype(np.float))\n",
    "\n",
    "# make predict proba and predict target on test data\n",
    "baseline_test['predict_proba_to_csv'] = 1-(model.predict_proba(\n",
    "    baseline_test[features].values)[:, 0].astype(np.float))"
   ]
  },
  {
   "cell_type": "markdown",
   "metadata": {},
   "source": [
    "Look how predict proba (that the pair contains the common companys)"
   ]
  },
  {
   "cell_type": "code",
   "execution_count": 72,
   "metadata": {},
   "outputs": [
    {
     "data": {
      "image/png": "[encoded data removed]",
      "text/plain": [
       "<Figure size 1152x432 with 1 Axes>"
      ]
     },
     "metadata": {},
     "output_type": "display_data"
    },
    {
     "data": {
      "text/html": [
       "<div>\n",
       "<style scoped>\n",
       "    .dataframe tbody tr th:only-of-type {\n",
       "        vertical-align: middle;\n",
       "    }\n",
       "\n",
       "    .dataframe tbody tr th {\n",
       "        vertical-align: top;\n",
       "    }\n",
       "\n",
       "    .dataframe thead th {\n",
       "        text-align: right;\n",
       "    }\n",
       "</style>\n",
       "<table border=\"1\" class=\"dataframe\">\n",
       "  <thead>\n",
       "    <tr style=\"text-align: right;\">\n",
       "      <th>predict_proba_to_csv</th>\n",
       "      <th>0.002841</th>\n",
       "      <th>0.005978</th>\n",
       "      <th>0.009012</th>\n",
       "      <th>0.081077</th>\n",
       "      <th>0.934335</th>\n",
       "      <th>0.944673</th>\n",
       "      <th>0.959411</th>\n",
       "      <th>0.968758</th>\n",
       "      <th>0.997941</th>\n",
       "      <th>0.999995</th>\n",
       "      <th>1.000000</th>\n",
       "      <th>1.000000</th>\n",
       "      <th>1.000000</th>\n",
       "      <th>1.000000</th>\n",
       "    </tr>\n",
       "    <tr>\n",
       "      <th>target</th>\n",
       "      <th></th>\n",
       "      <th></th>\n",
       "      <th></th>\n",
       "      <th></th>\n",
       "      <th></th>\n",
       "      <th></th>\n",
       "      <th></th>\n",
       "      <th></th>\n",
       "      <th></th>\n",
       "      <th></th>\n",
       "      <th></th>\n",
       "      <th></th>\n",
       "      <th></th>\n",
       "      <th></th>\n",
       "    </tr>\n",
       "  </thead>\n",
       "  <tbody>\n",
       "    <tr>\n",
       "      <th>0</th>\n",
       "      <td>478874.00</td>\n",
       "      <td>11760.00</td>\n",
       "      <td>224.00</td>\n",
       "      <td>1150.00</td>\n",
       "      <td>15.00</td>\n",
       "      <td>44.00</td>\n",
       "      <td>1340.00</td>\n",
       "      <td>41.00</td>\n",
       "      <td>31.00</td>\n",
       "      <td>177.00</td>\n",
       "      <td>63.00</td>\n",
       "      <td>35.00</td>\n",
       "      <td>34.00</td>\n",
       "      <td>373.00</td>\n",
       "    </tr>\n",
       "    <tr>\n",
       "      <th>1</th>\n",
       "      <td>184.00</td>\n",
       "      <td>69.00</td>\n",
       "      <td>2.00</td>\n",
       "      <td>30.00</td>\n",
       "      <td>1.00</td>\n",
       "      <td>3.00</td>\n",
       "      <td>95.00</td>\n",
       "      <td>3.00</td>\n",
       "      <td>3.00</td>\n",
       "      <td>27.00</td>\n",
       "      <td>13.00</td>\n",
       "      <td>12.00</td>\n",
       "      <td>12.00</td>\n",
       "      <td>3204.00</td>\n",
       "    </tr>\n",
       "    <tr>\n",
       "      <th>sum</th>\n",
       "      <td>479058.00</td>\n",
       "      <td>11829.00</td>\n",
       "      <td>226.00</td>\n",
       "      <td>1180.00</td>\n",
       "      <td>16.00</td>\n",
       "      <td>47.00</td>\n",
       "      <td>1435.00</td>\n",
       "      <td>44.00</td>\n",
       "      <td>34.00</td>\n",
       "      <td>204.00</td>\n",
       "      <td>76.00</td>\n",
       "      <td>47.00</td>\n",
       "      <td>46.00</td>\n",
       "      <td>3577.00</td>\n",
       "    </tr>\n",
       "    <tr>\n",
       "      <th>duplicates_%_(1)</th>\n",
       "      <td>0.04</td>\n",
       "      <td>0.58</td>\n",
       "      <td>0.88</td>\n",
       "      <td>2.54</td>\n",
       "      <td>6.25</td>\n",
       "      <td>6.38</td>\n",
       "      <td>6.62</td>\n",
       "      <td>6.82</td>\n",
       "      <td>8.82</td>\n",
       "      <td>13.24</td>\n",
       "      <td>17.11</td>\n",
       "      <td>25.53</td>\n",
       "      <td>26.09</td>\n",
       "      <td>89.57</td>\n",
       "    </tr>\n",
       "    <tr>\n",
       "      <th>share_of_objects_%</th>\n",
       "      <td>96.20</td>\n",
       "      <td>2.40</td>\n",
       "      <td>0.00</td>\n",
       "      <td>0.20</td>\n",
       "      <td>0.00</td>\n",
       "      <td>0.00</td>\n",
       "      <td>0.30</td>\n",
       "      <td>0.00</td>\n",
       "      <td>0.00</td>\n",
       "      <td>0.00</td>\n",
       "      <td>0.00</td>\n",
       "      <td>0.00</td>\n",
       "      <td>0.00</td>\n",
       "      <td>0.70</td>\n",
       "    </tr>\n",
       "  </tbody>\n",
       "</table>\n",
       "</div>"
      ],
      "text/plain": [
       "predict_proba_to_csv   0.002841  0.005978  0.009012  0.081077  0.934335  \\\n",
       "target                                                                    \n",
       "0                     478874.00  11760.00    224.00   1150.00     15.00   \n",
       "1                        184.00     69.00      2.00     30.00      1.00   \n",
       "sum                   479058.00  11829.00    226.00   1180.00     16.00   \n",
       "duplicates_%_(1)           0.04      0.58      0.88      2.54      6.25   \n",
       "share_of_objects_%        96.20      2.40      0.00      0.20      0.00   \n",
       "\n",
       "predict_proba_to_csv  0.944673  0.959411  0.968758  0.997941  0.999995  \\\n",
       "target                                                                   \n",
       "0                        44.00   1340.00     41.00     31.00    177.00   \n",
       "1                         3.00     95.00      3.00      3.00     27.00   \n",
       "sum                      47.00   1435.00     44.00     34.00    204.00   \n",
       "duplicates_%_(1)          6.38      6.62      6.82      8.82     13.24   \n",
       "share_of_objects_%        0.00      0.30      0.00      0.00      0.00   \n",
       "\n",
       "predict_proba_to_csv  1.000000  1.000000  1.000000  1.000000  \n",
       "target                                                        \n",
       "0                        63.00     35.00     34.00    373.00  \n",
       "1                        13.00     12.00     12.00   3204.00  \n",
       "sum                      76.00     47.00     46.00   3577.00  \n",
       "duplicates_%_(1)         17.11     25.53     26.09     89.57  \n",
       "share_of_objects_%        0.00      0.00      0.00      0.70  "
      ]
     },
     "metadata": {},
     "output_type": "display_data"
    }
   ],
   "source": [
    "# make vizualization\n",
    "data = baseline_train\n",
    "analyse = 'predict_proba_to_csv'\n",
    "title_print = 'no'\n",
    "size = (16,6)\n",
    "\n",
    "ct = contingency_table_2(data,analyse,title_print)\n",
    "pair_hist(ct,size,title_print)\n",
    "display(ct)"
   ]
  },
  {
   "cell_type": "markdown",
   "metadata": {},
   "source": [
    "We see model make a lot mistakes on the duplicates when proba is less than 0.1 (286 samples) and when proba is 0.959411 (95 samples)\n",
    "\n",
    "And we can see a lot the different companies (1340) when proba is 0.959411. \n",
    "\n",
    "That why we use probability level is more than 0.99\n",
    "\n",
    "Look the sccatter plot of predict proba and feature 'Ratio between levenstein distance and h/f word count'"
   ]
  },
  {
   "cell_type": "code",
   "execution_count": 73,
   "metadata": {},
   "outputs": [
    {
     "data": {
      "image/png": "[encoded data removed]",
      "text/plain": [
       "<Figure size 1152x432 with 1 Axes>"
      ]
     },
     "metadata": {},
     "output_type": "display_data"
    }
   ],
   "source": [
    "# scatter plot of two features (target and h/f word count)\n",
    "data = baseline_train\n",
    "analyse1 = 'predict_proba_to_csv'\n",
    "analyse2 = 'ratio_lvstn_drop_sw_to_label_zero'\n",
    "size = (16,6)\n",
    "two_features(data,analyse1,analyse2,size)"
   ]
  },
  {
   "cell_type": "markdown",
   "metadata": {},
   "source": [
    "Not very good :)\n",
    "\n",
    "Check the predict balance on data test"
   ]
  },
  {
   "cell_type": "code",
   "execution_count": 74,
   "metadata": {},
   "outputs": [
    {
     "data": {
      "text/plain": [
       "0    212080\n",
       "1      1169\n",
       "Name: predict_to_csv, dtype: int64"
      ]
     },
     "execution_count": 74,
     "metadata": {},
     "output_type": "execute_result"
    }
   ],
   "source": [
    "# predict balance on test\n",
    "baseline_test['predict_to_csv'].value_counts()"
   ]
  },
  {
   "cell_type": "code",
   "execution_count": 75,
   "metadata": {},
   "outputs": [
    {
     "data": {
      "text/html": [
       "<div>\n",
       "<style scoped>\n",
       "    .dataframe tbody tr th:only-of-type {\n",
       "        vertical-align: middle;\n",
       "    }\n",
       "\n",
       "    .dataframe tbody tr th {\n",
       "        vertical-align: top;\n",
       "    }\n",
       "\n",
       "    .dataframe thead th {\n",
       "        text-align: right;\n",
       "    }\n",
       "</style>\n",
       "<table border=\"1\" class=\"dataframe\">\n",
       "  <thead>\n",
       "    <tr style=\"text-align: right;\">\n",
       "      <th></th>\n",
       "      <th>pair_id</th>\n",
       "      <th>name_1</th>\n",
       "      <th>name_2</th>\n",
       "      <th>predict_to_csv</th>\n",
       "    </tr>\n",
       "  </thead>\n",
       "  <tbody>\n",
       "    <tr>\n",
       "      <th>40</th>\n",
       "      <td>41</td>\n",
       "      <td>continental air control ltd</td>\n",
       "      <td>continental powertrain usa llc</td>\n",
       "      <td>1</td>\n",
       "    </tr>\n",
       "    <tr>\n",
       "      <th>114</th>\n",
       "      <td>115</td>\n",
       "      <td>nokian tyres plc</td>\n",
       "      <td>ооо нокиан тайерс</td>\n",
       "      <td>1</td>\n",
       "    </tr>\n",
       "    <tr>\n",
       "      <th>285</th>\n",
       "      <td>286</td>\n",
       "      <td>ineos styrolution  ltd</td>\n",
       "      <td>styrolution america llc</td>\n",
       "      <td>1</td>\n",
       "    </tr>\n",
       "    <tr>\n",
       "      <th>306</th>\n",
       "      <td>307</td>\n",
       "      <td>canadian saddlery  supply inc</td>\n",
       "      <td>canadian saddlery  supply in</td>\n",
       "      <td>1</td>\n",
       "    </tr>\n",
       "    <tr>\n",
       "      <th>362</th>\n",
       "      <td>363</td>\n",
       "      <td>trelleborg ysh sa de cv</td>\n",
       "      <td>trelleborg engineeed products a</td>\n",
       "      <td>1</td>\n",
       "    </tr>\n",
       "    <tr>\n",
       "      <th>...</th>\n",
       "      <td>...</td>\n",
       "      <td>...</td>\n",
       "      <td>...</td>\n",
       "      <td>...</td>\n",
       "    </tr>\n",
       "    <tr>\n",
       "      <th>211827</th>\n",
       "      <td>211828</td>\n",
       "      <td>sojitz co ltd</td>\n",
       "      <td>sojitz</td>\n",
       "      <td>1</td>\n",
       "    </tr>\n",
       "    <tr>\n",
       "      <th>211891</th>\n",
       "      <td>211892</td>\n",
       "      <td>jm logistics services sa de cv</td>\n",
       "      <td>jm lord international llc</td>\n",
       "      <td>1</td>\n",
       "    </tr>\n",
       "    <tr>\n",
       "      <th>211951</th>\n",
       "      <td>211952</td>\n",
       "      <td>sanyo corp</td>\n",
       "      <td>sanyo trading</td>\n",
       "      <td>1</td>\n",
       "    </tr>\n",
       "    <tr>\n",
       "      <th>212072</th>\n",
       "      <td>212073</td>\n",
       "      <td>goodyear do brasil productos de borracha ltda</td>\n",
       "      <td>goodyear  inc</td>\n",
       "      <td>1</td>\n",
       "    </tr>\n",
       "    <tr>\n",
       "      <th>212365</th>\n",
       "      <td>212366</td>\n",
       "      <td>samson rubber products</td>\n",
       "      <td>samson international ltd</td>\n",
       "      <td>1</td>\n",
       "    </tr>\n",
       "  </tbody>\n",
       "</table>\n",
       "<p>1169 rows × 4 columns</p>\n",
       "</div>"
      ],
      "text/plain": [
       "        pair_id                                         name_1  \\\n",
       "40           41                    continental air control ltd   \n",
       "114         115                               nokian tyres plc   \n",
       "285         286                         ineos styrolution  ltd   \n",
       "306         307                  canadian saddlery  supply inc   \n",
       "362         363                        trelleborg ysh sa de cv   \n",
       "...         ...                                            ...   \n",
       "211827   211828                                  sojitz co ltd   \n",
       "211891   211892                 jm logistics services sa de cv   \n",
       "211951   211952                                     sanyo corp   \n",
       "212072   212073  goodyear do brasil productos de borracha ltda   \n",
       "212365   212366                         samson rubber products   \n",
       "\n",
       "                                 name_2  predict_to_csv  \n",
       "40       continental powertrain usa llc               1  \n",
       "114                   ооо нокиан тайерс               1  \n",
       "285             styrolution america llc               1  \n",
       "306        canadian saddlery  supply in               1  \n",
       "362     trelleborg engineeed products a               1  \n",
       "...                                 ...             ...  \n",
       "211827                           sojitz               1  \n",
       "211891        jm lord international llc               1  \n",
       "211951                   sanyo trading                1  \n",
       "212072                    goodyear  inc               1  \n",
       "212365         samson international ltd               1  \n",
       "\n",
       "[1169 rows x 4 columns]"
      ]
     },
     "execution_count": 75,
     "metadata": {},
     "output_type": "execute_result"
    }
   ],
   "source": [
    "# select only dublicates names and look id, each name of companies and predict is the duplicate\n",
    "baseline_test[baseline_test['predict_to_csv']==1][[\n",
    "    'pair_id','name_1','name_2','predict_to_csv'\n",
    "]]"
   ]
  },
  {
   "cell_type": "code",
   "execution_count": 76,
   "metadata": {},
   "outputs": [
    {
     "data": {
      "text/html": [
       "<div>\n",
       "<style scoped>\n",
       "    .dataframe tbody tr th:only-of-type {\n",
       "        vertical-align: middle;\n",
       "    }\n",
       "\n",
       "    .dataframe tbody tr th {\n",
       "        vertical-align: top;\n",
       "    }\n",
       "\n",
       "    .dataframe thead th {\n",
       "        text-align: right;\n",
       "    }\n",
       "</style>\n",
       "<table border=\"1\" class=\"dataframe\">\n",
       "  <thead>\n",
       "    <tr style=\"text-align: right;\">\n",
       "      <th></th>\n",
       "      <th>pair_id</th>\n",
       "      <th>name_1</th>\n",
       "      <th>name_2</th>\n",
       "      <th>predict_to_csv</th>\n",
       "    </tr>\n",
       "  </thead>\n",
       "  <tbody>\n",
       "    <tr>\n",
       "      <th>0</th>\n",
       "      <td>1</td>\n",
       "      <td>sun blinds decoration inc</td>\n",
       "      <td>indl de cuautitlan sa cv</td>\n",
       "      <td>0</td>\n",
       "    </tr>\n",
       "    <tr>\n",
       "      <th>1</th>\n",
       "      <td>2</td>\n",
       "      <td>eih ltd</td>\n",
       "      <td>dongguan wei shi plastic product co ltd</td>\n",
       "      <td>0</td>\n",
       "    </tr>\n",
       "    <tr>\n",
       "      <th>2</th>\n",
       "      <td>3</td>\n",
       "      <td>jsh ltd</td>\n",
       "      <td>arab shipbuilding and repair yard c</td>\n",
       "      <td>0</td>\n",
       "    </tr>\n",
       "    <tr>\n",
       "      <th>3</th>\n",
       "      <td>4</td>\n",
       "      <td>better industrial ltd</td>\n",
       "      <td>farmacap industria e comercio ltda</td>\n",
       "      <td>0</td>\n",
       "    </tr>\n",
       "    <tr>\n",
       "      <th>4</th>\n",
       "      <td>5</td>\n",
       "      <td>equipos inoxidables del norte sa de cv</td>\n",
       "      <td>bel inc</td>\n",
       "      <td>0</td>\n",
       "    </tr>\n",
       "    <tr>\n",
       "      <th>...</th>\n",
       "      <td>...</td>\n",
       "      <td>...</td>\n",
       "      <td>...</td>\n",
       "      <td>...</td>\n",
       "    </tr>\n",
       "    <tr>\n",
       "      <th>213244</th>\n",
       "      <td>213245</td>\n",
       "      <td>dyna logistics inc</td>\n",
       "      <td>jiangsu easero logistics ltd</td>\n",
       "      <td>0</td>\n",
       "    </tr>\n",
       "    <tr>\n",
       "      <th>213245</th>\n",
       "      <td>213246</td>\n",
       "      <td>dsi</td>\n",
       "      <td>kavalani  sons wll</td>\n",
       "      <td>0</td>\n",
       "    </tr>\n",
       "    <tr>\n",
       "      <th>213246</th>\n",
       "      <td>213247</td>\n",
       "      <td>saint gobain abrasives</td>\n",
       "      <td>zarabi</td>\n",
       "      <td>0</td>\n",
       "    </tr>\n",
       "    <tr>\n",
       "      <th>213247</th>\n",
       "      <td>213248</td>\n",
       "      <td>covestro private ltd</td>\n",
       "      <td>terabytes  private ltd</td>\n",
       "      <td>0</td>\n",
       "    </tr>\n",
       "    <tr>\n",
       "      <th>213248</th>\n",
       "      <td>213249</td>\n",
       "      <td>zandur</td>\n",
       "      <td>qingyuan xierong plastics  rubber products co ltd</td>\n",
       "      <td>0</td>\n",
       "    </tr>\n",
       "  </tbody>\n",
       "</table>\n",
       "<p>212080 rows × 4 columns</p>\n",
       "</div>"
      ],
      "text/plain": [
       "        pair_id                                  name_1  \\\n",
       "0             1               sun blinds decoration inc   \n",
       "1             2                                 eih ltd   \n",
       "2             3                                 jsh ltd   \n",
       "3             4                   better industrial ltd   \n",
       "4             5  equipos inoxidables del norte sa de cv   \n",
       "...         ...                                     ...   \n",
       "213244   213245                      dyna logistics inc   \n",
       "213245   213246                                     dsi   \n",
       "213246   213247                  saint gobain abrasives   \n",
       "213247   213248                    covestro private ltd   \n",
       "213248   213249                                  zandur   \n",
       "\n",
       "                                                   name_2  predict_to_csv  \n",
       "0                                indl de cuautitlan sa cv               0  \n",
       "1                 dongguan wei shi plastic product co ltd               0  \n",
       "2                     arab shipbuilding and repair yard c               0  \n",
       "3                      farmacap industria e comercio ltda               0  \n",
       "4                                                 bel inc               0  \n",
       "...                                                   ...             ...  \n",
       "213244                       jiangsu easero logistics ltd               0  \n",
       "213245                                 kavalani  sons wll               0  \n",
       "213246                                             zarabi               0  \n",
       "213247                             terabytes  private ltd               0  \n",
       "213248  qingyuan xierong plastics  rubber products co ltd               0  \n",
       "\n",
       "[212080 rows x 4 columns]"
      ]
     },
     "execution_count": 76,
     "metadata": {},
     "output_type": "execute_result"
    }
   ],
   "source": [
    "# select only NOT dublicates names and look id, each name of companies and predict is the duplicate\n",
    "baseline_test[baseline_test['predict_to_csv']==0][[\n",
    "    'pair_id','name_1','name_2','predict_to_csv'\n",
    "]]"
   ]
  },
  {
   "cell_type": "code",
   "execution_count": 77,
   "metadata": {},
   "outputs": [],
   "source": [
    "# # download sample submission from csv file \n",
    "# sample_sub = pd.read_csv('sample_submission.csv', index_col=\"pair_id\")\n",
    "# # make the predict - our vector of answers\n",
    "# sample_sub['is_duplicate'] = (model.predict_proba(\n",
    "#     baseline_test[features].values)[:, 1] > probability_level).astype(np.int)"
   ]
  },
  {
   "cell_type": "code",
   "execution_count": 78,
   "metadata": {},
   "outputs": [],
   "source": [
    "# # download predict to csv file\n",
    "# sample_sub.to_csv('submission_lgbm.csv')"
   ]
  },
  {
   "cell_type": "markdown",
   "metadata": {},
   "source": [
    "## Check the score  (f1 on test samples)\n",
    "\n",
    "## The score is \n",
    "\n",
    "I didn't save a result"
   ]
  },
  {
   "cell_type": "markdown",
   "metadata": {},
   "source": [
    "# MODELING part 2\n",
    "\n",
    "## Use light GBM and DEEP DECISION TREE for predict on train and test samples\n",
    "Here we use light gbm and deep decission tree classifiers for make predict"
   ]
  },
  {
   "cell_type": "markdown",
   "metadata": {},
   "source": [
    "### *First model: light gbm*"
   ]
  },
  {
   "cell_type": "code",
   "execution_count": 79,
   "metadata": {},
   "outputs": [],
   "source": [
    "# select most important features by gini index\n",
    "features = ['empty_after_all',\n",
    "#             'levenstein','norm_levenstein',\n",
    "            'duplicate_count', 'duplicate_sum', 'duplicate_mean',\n",
    "            'dif_count', 'dif_sum', 'dif_mean', 'ratio_duplicate/dif_count',\n",
    "            \n",
    "            'duplicate_name_company',\n",
    "            \n",
    "#             'levenstein_dist_w1_top_w_min', 'levenstein_dist_w2_top_w_min'\n",
    "#             , 'length_w1_top_w_min', 'length_w2_top_w_min', 'length_top_w_min',\n",
    "#             'ratio_dist_w1_to_top_w_min', 'ratio_dist_w2_to_top_w_min',\n",
    "            \n",
    "            'stop_word_sum', 'ratio_all_words_stop_words', \n",
    "            \n",
    "#             'levenstein_drop_sw', 'label_zero', \n",
    "            \n",
    "            'ratio_lvstn_drop_sw_to_label_zero'\n",
    "#             'ratio_norm_lvstn_drop_sw_to_label_zero'\n",
    "            \n",
    "           \n",
    "           ]\n",
    "\n",
    "seed = 42"
   ]
  },
  {
   "cell_type": "code",
   "execution_count": 80,
   "metadata": {},
   "outputs": [
    {
     "name": "stdout",
     "output_type": "stream",
     "text": [
      "Split baseline data train 497819\n",
      " - new train data: 398255\n",
      " - new test data: 99564\n"
     ]
    }
   ],
   "source": [
    "# provides train/test indices to split data in train/test sets\n",
    "split = StratifiedShuffleSplit(n_splits=1, train_size=0.8, random_state=seed)\n",
    "\n",
    "tridx, cvidx = list(split.split(baseline_train[features],\n",
    "                                baseline_train[\"target\"]))[0]\n",
    "\n",
    "print ('Split baseline data train',baseline_train.shape[0])\n",
    "print (' - new train data:',tridx.shape[0])\n",
    "print (' - new test data:',cvidx.shape[0])"
   ]
  },
  {
   "cell_type": "code",
   "execution_count": 81,
   "metadata": {},
   "outputs": [
    {
     "data": {
      "text/plain": [
       "LGBMClassifier(boosting_type='gbdt', class_weight=None, colsample_bytree=1.0,\n",
       "               importance_type='split', learning_rate=1, max_depth=40,\n",
       "               min_child_samples=15, min_child_weight=0.001, min_split_gain=0.0,\n",
       "               n_estimators=1, n_jobs=-1, num_leaves=31, objective='binary',\n",
       "               random_state=50, reg_alpha=0.0, reg_lambda=0.0, silent=True,\n",
       "               subsample=1.0, subsample_for_bin=200000, subsample_freq=0)"
      ]
     },
     "execution_count": 81,
     "metadata": {},
     "output_type": "execute_result"
    }
   ],
   "source": [
    "# learning Light GBM Classificier\n",
    "seed = 50\n",
    "params = {'n_estimators': 1,\n",
    "          'objective': 'binary',\n",
    "          'max_depth': 40,\n",
    "          'min_child_samples': 15,\n",
    "          'learning_rate': 1,\n",
    "          'random_state': seed}\n",
    "\n",
    "\n",
    "model = lgb.LGBMClassifier(**params)\n",
    "model.fit(baseline_train.iloc[tridx][features].values,\n",
    "          baseline_train.iloc[tridx][\"target\"].values)"
   ]
  },
  {
   "cell_type": "code",
   "execution_count": 82,
   "metadata": {},
   "outputs": [],
   "source": [
    "# make predict proba and predict target\n",
    "probability_level = 0.99\n",
    "X = baseline_train\n",
    "tridx = tridx\n",
    "cvidx = cvidx\n",
    "model = model\n",
    "\n",
    "X_tr, X_cv = contingency_table(X,features,probability_level,tridx,cvidx,model)\n",
    "\n",
    "train_matrix_confusion = matrix_confusion(X_tr)\n",
    "cv_matrix_confusion = matrix_confusion(X_cv)"
   ]
  },
  {
   "cell_type": "code",
   "execution_count": 83,
   "metadata": {},
   "outputs": [
    {
     "name": "stdout",
     "output_type": "stream",
     "text": [
      "\u001b[1mMatrix confusion on train data\u001b[m\n"
     ]
    },
    {
     "data": {
      "text/html": [
       "<div>\n",
       "<style scoped>\n",
       "    .dataframe tbody tr th:only-of-type {\n",
       "        vertical-align: middle;\n",
       "    }\n",
       "\n",
       "    .dataframe tbody tr th {\n",
       "        vertical-align: top;\n",
       "    }\n",
       "\n",
       "    .dataframe thead th {\n",
       "        text-align: right;\n",
       "    }\n",
       "</style>\n",
       "<table border=\"1\" class=\"dataframe\">\n",
       "  <thead>\n",
       "    <tr style=\"text-align: right;\">\n",
       "      <th></th>\n",
       "      <th>0_algorythm</th>\n",
       "      <th>1_algorythm</th>\n",
       "    </tr>\n",
       "  </thead>\n",
       "  <tbody>\n",
       "    <tr>\n",
       "      <th>0_target</th>\n",
       "      <td>394688.0</td>\n",
       "      <td>641.0</td>\n",
       "    </tr>\n",
       "    <tr>\n",
       "      <th>1_target</th>\n",
       "      <td>290.0</td>\n",
       "      <td>2636.0</td>\n",
       "    </tr>\n",
       "  </tbody>\n",
       "</table>\n",
       "</div>"
      ],
      "text/plain": [
       "          0_algorythm  1_algorythm\n",
       "0_target     394688.0        641.0\n",
       "1_target        290.0       2636.0"
      ]
     },
     "metadata": {},
     "output_type": "display_data"
    },
    {
     "name": "stdout",
     "output_type": "stream",
     "text": [
      "\n",
      "              precision    recall  f1-score   support\n",
      "\n",
      "           0       1.00      1.00      1.00    395329\n",
      "           1       0.80      0.90      0.85      2926\n",
      "\n",
      "    accuracy                           1.00    398255\n",
      "   macro avg       0.90      0.95      0.92    398255\n",
      "weighted avg       1.00      1.00      1.00    398255\n",
      "\n",
      "******************************************************\n",
      "\n",
      "\n",
      "\u001b[1mMatrix confusion on test(cv) data\u001b[m\n"
     ]
    },
    {
     "data": {
      "text/html": [
       "<div>\n",
       "<style scoped>\n",
       "    .dataframe tbody tr th:only-of-type {\n",
       "        vertical-align: middle;\n",
       "    }\n",
       "\n",
       "    .dataframe tbody tr th {\n",
       "        vertical-align: top;\n",
       "    }\n",
       "\n",
       "    .dataframe thead th {\n",
       "        text-align: right;\n",
       "    }\n",
       "</style>\n",
       "<table border=\"1\" class=\"dataframe\">\n",
       "  <thead>\n",
       "    <tr style=\"text-align: right;\">\n",
       "      <th></th>\n",
       "      <th>0_algorythm</th>\n",
       "      <th>1_algorythm</th>\n",
       "    </tr>\n",
       "  </thead>\n",
       "  <tbody>\n",
       "    <tr>\n",
       "      <th>0_target</th>\n",
       "      <td>98672.0</td>\n",
       "      <td>160.0</td>\n",
       "    </tr>\n",
       "    <tr>\n",
       "      <th>1_target</th>\n",
       "      <td>71.0</td>\n",
       "      <td>661.0</td>\n",
       "    </tr>\n",
       "  </tbody>\n",
       "</table>\n",
       "</div>"
      ],
      "text/plain": [
       "          0_algorythm  1_algorythm\n",
       "0_target      98672.0        160.0\n",
       "1_target         71.0        661.0"
      ]
     },
     "metadata": {},
     "output_type": "display_data"
    },
    {
     "name": "stdout",
     "output_type": "stream",
     "text": [
      "\n",
      "              precision    recall  f1-score   support\n",
      "\n",
      "           0       1.00      1.00      1.00     98832\n",
      "           1       0.81      0.90      0.85       732\n",
      "\n",
      "    accuracy                           1.00     99564\n",
      "   macro avg       0.90      0.95      0.93     99564\n",
      "weighted avg       1.00      1.00      1.00     99564\n",
      "\n",
      "******************************************************\n"
     ]
    }
   ],
   "source": [
    "# check the report\n",
    "report_score(train_matrix_confusion,\n",
    "             cv_matrix_confusion,\n",
    "             baseline_train,\n",
    "             tridx,cvidx,\n",
    "             X_tr,X_cv)"
   ]
  },
  {
   "cell_type": "code",
   "execution_count": 84,
   "metadata": {
    "scrolled": false
   },
   "outputs": [
    {
     "data": {
      "image/png": "[encoded data removed]",
      "text/plain": [
       "<Figure size 864x432 with 1 Axes>"
      ]
     },
     "metadata": {},
     "output_type": "display_data"
    },
    {
     "data": {
      "text/html": [
       "<div>\n",
       "<style scoped>\n",
       "    .dataframe tbody tr th:only-of-type {\n",
       "        vertical-align: middle;\n",
       "    }\n",
       "\n",
       "    .dataframe tbody tr th {\n",
       "        vertical-align: top;\n",
       "    }\n",
       "\n",
       "    .dataframe thead th {\n",
       "        text-align: right;\n",
       "    }\n",
       "</style>\n",
       "<table border=\"1\" class=\"dataframe\">\n",
       "  <thead>\n",
       "    <tr style=\"text-align: right;\">\n",
       "      <th></th>\n",
       "      <th>Features</th>\n",
       "      <th>Gain</th>\n",
       "    </tr>\n",
       "  </thead>\n",
       "  <tbody>\n",
       "    <tr>\n",
       "      <th>8</th>\n",
       "      <td>duplicate_name_company</td>\n",
       "      <td>281556.000000</td>\n",
       "    </tr>\n",
       "    <tr>\n",
       "      <th>11</th>\n",
       "      <td>ratio_lvstn_drop_sw_to_label_zero</td>\n",
       "      <td>20763.248383</td>\n",
       "    </tr>\n",
       "    <tr>\n",
       "      <th>3</th>\n",
       "      <td>duplicate_mean</td>\n",
       "      <td>3629.288025</td>\n",
       "    </tr>\n",
       "    <tr>\n",
       "      <th>2</th>\n",
       "      <td>duplicate_sum</td>\n",
       "      <td>2454.520935</td>\n",
       "    </tr>\n",
       "    <tr>\n",
       "      <th>9</th>\n",
       "      <td>stop_word_sum</td>\n",
       "      <td>2431.027954</td>\n",
       "    </tr>\n",
       "    <tr>\n",
       "      <th>5</th>\n",
       "      <td>dif_sum</td>\n",
       "      <td>2094.691956</td>\n",
       "    </tr>\n",
       "    <tr>\n",
       "      <th>1</th>\n",
       "      <td>duplicate_count</td>\n",
       "      <td>2080.580078</td>\n",
       "    </tr>\n",
       "    <tr>\n",
       "      <th>10</th>\n",
       "      <td>ratio_all_words_stop_words</td>\n",
       "      <td>1696.354980</td>\n",
       "    </tr>\n",
       "    <tr>\n",
       "      <th>4</th>\n",
       "      <td>dif_count</td>\n",
       "      <td>1526.122040</td>\n",
       "    </tr>\n",
       "    <tr>\n",
       "      <th>7</th>\n",
       "      <td>ratio_duplicate/dif_count</td>\n",
       "      <td>1511.890015</td>\n",
       "    </tr>\n",
       "    <tr>\n",
       "      <th>6</th>\n",
       "      <td>dif_mean</td>\n",
       "      <td>1378.701004</td>\n",
       "    </tr>\n",
       "    <tr>\n",
       "      <th>0</th>\n",
       "      <td>empty_after_all</td>\n",
       "      <td>0.000000</td>\n",
       "    </tr>\n",
       "  </tbody>\n",
       "</table>\n",
       "</div>"
      ],
      "text/plain": [
       "                             Features           Gain\n",
       "8              duplicate_name_company  281556.000000\n",
       "11  ratio_lvstn_drop_sw_to_label_zero   20763.248383\n",
       "3                      duplicate_mean    3629.288025\n",
       "2                       duplicate_sum    2454.520935\n",
       "9                       stop_word_sum    2431.027954\n",
       "5                             dif_sum    2094.691956\n",
       "1                     duplicate_count    2080.580078\n",
       "10         ratio_all_words_stop_words    1696.354980\n",
       "4                           dif_count    1526.122040\n",
       "7           ratio_duplicate/dif_count    1511.890015\n",
       "6                            dif_mean    1378.701004\n",
       "0                     empty_after_all       0.000000"
      ]
     },
     "metadata": {},
     "output_type": "display_data"
    }
   ],
   "source": [
    "start = 0\n",
    "stop = 30\n",
    "size = (12,6)\n",
    "\n",
    "df = table_gain_coef(model,features,start,stop)\n",
    "gain_hist(df,size,start,stop)\n",
    "display(df)"
   ]
  },
  {
   "cell_type": "code",
   "execution_count": 85,
   "metadata": {},
   "outputs": [],
   "source": [
    "# make vector of answers (only predict target, no proba predict) for use it in next model\n",
    "model = lgb.LGBMClassifier(**params)\n",
    "model.fit(baseline_train[features].values,\n",
    "          baseline_train[\"target\"].values)\n",
    "\n",
    "\n",
    "baseline_train['predict_1'] = (model.predict_proba(\n",
    "    baseline_train[features].values)[:, 1] > probability_level).astype(np.int)\n",
    "\n",
    "baseline_test['predict_1'] = (model.predict_proba(\n",
    "    baseline_test[features].values)[:, 1] > probability_level).astype(np.int)"
   ]
  },
  {
   "cell_type": "code",
   "execution_count": 86,
   "metadata": {},
   "outputs": [],
   "source": [
    "# make vector of answers (only predict target, no proba predict) for use it in next model\n",
    "model = lgb.LGBMClassifier(**params)\n",
    "model.fit(baseline_train[features].values,\n",
    "          baseline_train[\"target\"].values)\n",
    "\n",
    "\n",
    "baseline_train['predict_1_proba'] = (model.predict_proba(\n",
    "    baseline_train[features].values)[:, 1]*100).astype(np.int)\n",
    "\n",
    "baseline_test['predict_1_proba'] = (model.predict_proba(\n",
    "    baseline_test[features].values)[:, 1]*100).astype(np.int)"
   ]
  },
  {
   "cell_type": "markdown",
   "metadata": {},
   "source": [
    "### *Second model: decission tree*\n",
    "##### *Features to model:*\n",
    " - *predict from light gbm model* \n",
    " - *h/f words count (650 features with label 0,1 or 2)*"
   ]
  },
  {
   "cell_type": "code",
   "execution_count": 87,
   "metadata": {},
   "outputs": [
    {
     "data": {
      "text/plain": [
       "Index(['de_sum', 'sa_sum', 'cv_sum', 'rubber_sum', 's_sum', 'a_sum', 'imp_sum',\n",
       "       'exp_sum', 'plastic_sum', 'e_sum',\n",
       "       ...\n",
       "       'abc_sum', 'swan_sum', 'ceat_sum', 'mat_sum', 'tedder_sum',\n",
       "       'abrasives_sum', 'neumaticos_sum', 'ktn_sum', 'ming_sum', 'amster_sum'],\n",
       "      dtype='object', length=650)"
      ]
     },
     "execution_count": 87,
     "metadata": {},
     "output_type": "execute_result"
    }
   ],
   "source": [
    "baseline_train.columns[23:-13]"
   ]
  },
  {
   "cell_type": "code",
   "execution_count": 88,
   "metadata": {},
   "outputs": [],
   "source": [
    "# select the features\n",
    "features = ['predict_1']\n",
    "\n",
    "\n",
    "for i in list(baseline_train.columns[23:-13]):\n",
    "    features.append(i)\n",
    "\n",
    "seed = 42"
   ]
  },
  {
   "cell_type": "code",
   "execution_count": 89,
   "metadata": {},
   "outputs": [
    {
     "name": "stdout",
     "output_type": "stream",
     "text": [
      "Split baseline data train 497819\n",
      " - new train data: 398255\n",
      " - new test data: 99564\n"
     ]
    }
   ],
   "source": [
    "# provides train/test indices to split data in train/test sets\n",
    "split = StratifiedShuffleSplit(n_splits=1, train_size=0.8, random_state=seed)\n",
    "\n",
    "tridx, cvidx = list(split.split(baseline_train[features],\n",
    "                                baseline_train[\"target\"]))[0]\n",
    "\n",
    "print ('Split baseline data train',baseline_train.shape[0])\n",
    "print (' - new train data:',tridx.shape[0])\n",
    "print (' - new test data:',cvidx.shape[0])"
   ]
  },
  {
   "cell_type": "code",
   "execution_count": 90,
   "metadata": {},
   "outputs": [
    {
     "data": {
      "text/plain": [
       "DecisionTreeClassifier(ccp_alpha=0.0, class_weight=None, criterion='gini',\n",
       "                       max_depth=50, max_features=None, max_leaf_nodes=None,\n",
       "                       min_impurity_decrease=0.0, min_impurity_split=None,\n",
       "                       min_samples_leaf=1, min_samples_split=25,\n",
       "                       min_weight_fraction_leaf=0.0, presort='deprecated',\n",
       "                       random_state=50, splitter='best')"
      ]
     },
     "execution_count": 90,
     "metadata": {},
     "output_type": "execute_result"
    }
   ],
   "source": [
    "# learning decision tree classifier from sklearn\n",
    "seed = 50\n",
    "\n",
    "model = DecisionTreeClassifier(random_state=seed, min_samples_split=25, max_depth = 50)\n",
    "model.fit(baseline_train.iloc[tridx][features].values,\n",
    "          baseline_train.iloc[tridx][\"target\"].values)"
   ]
  },
  {
   "cell_type": "code",
   "execution_count": 91,
   "metadata": {},
   "outputs": [],
   "source": [
    "# make predict proba and predict target\n",
    "probability_level = 0.47\n",
    "X = baseline_train\n",
    "tridx = tridx\n",
    "cvidx = cvidx\n",
    "model = model\n",
    "\n",
    "X_tr, X_cv = contingency_table(X,features,probability_level,tridx,cvidx,model)\n",
    "\n",
    "train_matrix_confusion = matrix_confusion(X_tr)\n",
    "cv_matrix_confusion = matrix_confusion(X_cv)"
   ]
  },
  {
   "cell_type": "code",
   "execution_count": 92,
   "metadata": {},
   "outputs": [
    {
     "name": "stdout",
     "output_type": "stream",
     "text": [
      "\u001b[1mMatrix confusion on train data\u001b[m\n"
     ]
    },
    {
     "data": {
      "text/html": [
       "<div>\n",
       "<style scoped>\n",
       "    .dataframe tbody tr th:only-of-type {\n",
       "        vertical-align: middle;\n",
       "    }\n",
       "\n",
       "    .dataframe tbody tr th {\n",
       "        vertical-align: top;\n",
       "    }\n",
       "\n",
       "    .dataframe thead th {\n",
       "        text-align: right;\n",
       "    }\n",
       "</style>\n",
       "<table border=\"1\" class=\"dataframe\">\n",
       "  <thead>\n",
       "    <tr style=\"text-align: right;\">\n",
       "      <th></th>\n",
       "      <th>0_algorythm</th>\n",
       "      <th>1_algorythm</th>\n",
       "    </tr>\n",
       "  </thead>\n",
       "  <tbody>\n",
       "    <tr>\n",
       "      <th>0_target</th>\n",
       "      <td>394931.0</td>\n",
       "      <td>398.0</td>\n",
       "    </tr>\n",
       "    <tr>\n",
       "      <th>1_target</th>\n",
       "      <td>254.0</td>\n",
       "      <td>2672.0</td>\n",
       "    </tr>\n",
       "  </tbody>\n",
       "</table>\n",
       "</div>"
      ],
      "text/plain": [
       "          0_algorythm  1_algorythm\n",
       "0_target     394931.0        398.0\n",
       "1_target        254.0       2672.0"
      ]
     },
     "metadata": {},
     "output_type": "display_data"
    },
    {
     "name": "stdout",
     "output_type": "stream",
     "text": [
      "\n",
      "              precision    recall  f1-score   support\n",
      "\n",
      "           0       1.00      1.00      1.00    395329\n",
      "           1       0.87      0.91      0.89      2926\n",
      "\n",
      "    accuracy                           1.00    398255\n",
      "   macro avg       0.93      0.96      0.95    398255\n",
      "weighted avg       1.00      1.00      1.00    398255\n",
      "\n",
      "******************************************************\n",
      "\n",
      "\n",
      "\u001b[1mMatrix confusion on test(cv) data\u001b[m\n"
     ]
    },
    {
     "data": {
      "text/html": [
       "<div>\n",
       "<style scoped>\n",
       "    .dataframe tbody tr th:only-of-type {\n",
       "        vertical-align: middle;\n",
       "    }\n",
       "\n",
       "    .dataframe tbody tr th {\n",
       "        vertical-align: top;\n",
       "    }\n",
       "\n",
       "    .dataframe thead th {\n",
       "        text-align: right;\n",
       "    }\n",
       "</style>\n",
       "<table border=\"1\" class=\"dataframe\">\n",
       "  <thead>\n",
       "    <tr style=\"text-align: right;\">\n",
       "      <th></th>\n",
       "      <th>0_algorythm</th>\n",
       "      <th>1_algorythm</th>\n",
       "    </tr>\n",
       "  </thead>\n",
       "  <tbody>\n",
       "    <tr>\n",
       "      <th>0_target</th>\n",
       "      <td>98726.0</td>\n",
       "      <td>106.0</td>\n",
       "    </tr>\n",
       "    <tr>\n",
       "      <th>1_target</th>\n",
       "      <td>73.0</td>\n",
       "      <td>659.0</td>\n",
       "    </tr>\n",
       "  </tbody>\n",
       "</table>\n",
       "</div>"
      ],
      "text/plain": [
       "          0_algorythm  1_algorythm\n",
       "0_target      98726.0        106.0\n",
       "1_target         73.0        659.0"
      ]
     },
     "metadata": {},
     "output_type": "display_data"
    },
    {
     "name": "stdout",
     "output_type": "stream",
     "text": [
      "\n",
      "              precision    recall  f1-score   support\n",
      "\n",
      "           0       1.00      1.00      1.00     98832\n",
      "           1       0.86      0.90      0.88       732\n",
      "\n",
      "    accuracy                           1.00     99564\n",
      "   macro avg       0.93      0.95      0.94     99564\n",
      "weighted avg       1.00      1.00      1.00     99564\n",
      "\n",
      "******************************************************\n"
     ]
    }
   ],
   "source": [
    "# check the report\n",
    "report_score(train_matrix_confusion,\n",
    "             cv_matrix_confusion,\n",
    "             baseline_train,\n",
    "             tridx,cvidx,\n",
    "             X_tr,X_cv)"
   ]
  },
  {
   "cell_type": "code",
   "execution_count": null,
   "metadata": {
    "scrolled": false
   },
   "outputs": [],
   "source": [
    "# X_tr[X_tr['False_Negative']==1][X_tr['mitsubishi_sum']==2][[\n",
    "#     'pair_id','name_1','name_2','name_1_finish','name_2_finish',\n",
    "#     'target','predict_1','predict_target','predict_proba'\n",
    "# ]]"
   ]
  },
  {
   "cell_type": "code",
   "execution_count": null,
   "metadata": {},
   "outputs": [],
   "source": [
    "# X_tr[X_tr['False_Negative']==1][[\n",
    "#     'pair_id','name_1','name_2','name_1_finish','name_2_finish',\n",
    "#     'target','predict_1','predict_target','predict_proba'\n",
    "# ]]"
   ]
  },
  {
   "cell_type": "code",
   "execution_count": 93,
   "metadata": {
    "scrolled": false
   },
   "outputs": [
    {
     "data": {
      "image/png": "[encoded data removed]",
      "text/plain": [
       "<Figure size 864x432 with 1 Axes>"
      ]
     },
     "metadata": {},
     "output_type": "display_data"
    },
    {
     "data": {
      "text/html": [
       "<div>\n",
       "<style scoped>\n",
       "    .dataframe tbody tr th:only-of-type {\n",
       "        vertical-align: middle;\n",
       "    }\n",
       "\n",
       "    .dataframe tbody tr th {\n",
       "        vertical-align: top;\n",
       "    }\n",
       "\n",
       "    .dataframe thead th {\n",
       "        text-align: right;\n",
       "    }\n",
       "</style>\n",
       "<table border=\"1\" class=\"dataframe\">\n",
       "  <thead>\n",
       "    <tr style=\"text-align: right;\">\n",
       "      <th></th>\n",
       "      <th>feature</th>\n",
       "      <th>gini</th>\n",
       "    </tr>\n",
       "  </thead>\n",
       "  <tbody>\n",
       "    <tr>\n",
       "      <th>0</th>\n",
       "      <td>predict_1</td>\n",
       "      <td>0.872506</td>\n",
       "    </tr>\n",
       "    <tr>\n",
       "      <th>183</th>\n",
       "      <td>continental_sum</td>\n",
       "      <td>0.019464</td>\n",
       "    </tr>\n",
       "    <tr>\n",
       "      <th>109</th>\n",
       "      <td>basf_sum</td>\n",
       "      <td>0.009331</td>\n",
       "    </tr>\n",
       "    <tr>\n",
       "      <th>69</th>\n",
       "      <td>bridgestone_sum</td>\n",
       "      <td>0.008218</td>\n",
       "    </tr>\n",
       "    <tr>\n",
       "      <th>298</th>\n",
       "      <td>hannifin_sum</td>\n",
       "      <td>0.007217</td>\n",
       "    </tr>\n",
       "    <tr>\n",
       "      <th>500</th>\n",
       "      <td>accessories_sum</td>\n",
       "      <td>0.003848</td>\n",
       "    </tr>\n",
       "    <tr>\n",
       "      <th>54</th>\n",
       "      <td>soprema_sum</td>\n",
       "      <td>0.003524</td>\n",
       "    </tr>\n",
       "    <tr>\n",
       "      <th>170</th>\n",
       "      <td>michelin_sum</td>\n",
       "      <td>0.003196</td>\n",
       "    </tr>\n",
       "    <tr>\n",
       "      <th>172</th>\n",
       "      <td>sumitomo_sum</td>\n",
       "      <td>0.002930</td>\n",
       "    </tr>\n",
       "    <tr>\n",
       "      <th>410</th>\n",
       "      <td>pirelli_sum</td>\n",
       "      <td>0.002893</td>\n",
       "    </tr>\n",
       "    <tr>\n",
       "      <th>394</th>\n",
       "      <td>arlanxeo_sum</td>\n",
       "      <td>0.002883</td>\n",
       "    </tr>\n",
       "    <tr>\n",
       "      <th>240</th>\n",
       "      <td>sika_sum</td>\n",
       "      <td>0.002763</td>\n",
       "    </tr>\n",
       "    <tr>\n",
       "      <th>242</th>\n",
       "      <td>zeon_sum</td>\n",
       "      <td>0.002713</td>\n",
       "    </tr>\n",
       "    <tr>\n",
       "      <th>474</th>\n",
       "      <td>api_sum</td>\n",
       "      <td>0.002467</td>\n",
       "    </tr>\n",
       "    <tr>\n",
       "      <th>636</th>\n",
       "      <td>synthomer_sum</td>\n",
       "      <td>0.002411</td>\n",
       "    </tr>\n",
       "    <tr>\n",
       "      <th>453</th>\n",
       "      <td>exxonmobil_sum</td>\n",
       "      <td>0.002399</td>\n",
       "    </tr>\n",
       "    <tr>\n",
       "      <th>250</th>\n",
       "      <td>kraton_sum</td>\n",
       "      <td>0.002324</td>\n",
       "    </tr>\n",
       "    <tr>\n",
       "      <th>271</th>\n",
       "      <td>reliance_sum</td>\n",
       "      <td>0.002285</td>\n",
       "    </tr>\n",
       "    <tr>\n",
       "      <th>226</th>\n",
       "      <td>dow_sum</td>\n",
       "      <td>0.002250</td>\n",
       "    </tr>\n",
       "    <tr>\n",
       "      <th>637</th>\n",
       "      <td>contitech_sum</td>\n",
       "      <td>0.002123</td>\n",
       "    </tr>\n",
       "    <tr>\n",
       "      <th>52</th>\n",
       "      <td>spa_sum</td>\n",
       "      <td>0.001472</td>\n",
       "    </tr>\n",
       "    <tr>\n",
       "      <th>280</th>\n",
       "      <td>paul_sum</td>\n",
       "      <td>0.001397</td>\n",
       "    </tr>\n",
       "    <tr>\n",
       "      <th>515</th>\n",
       "      <td>versalis_sum</td>\n",
       "      <td>0.001388</td>\n",
       "    </tr>\n",
       "    <tr>\n",
       "      <th>388</th>\n",
       "      <td>yokohama_sum</td>\n",
       "      <td>0.001340</td>\n",
       "    </tr>\n",
       "    <tr>\n",
       "      <th>165</th>\n",
       "      <td>bitumen_sum</td>\n",
       "      <td>0.001320</td>\n",
       "    </tr>\n",
       "  </tbody>\n",
       "</table>\n",
       "</div>"
      ],
      "text/plain": [
       "             feature      gini\n",
       "0          predict_1  0.872506\n",
       "183  continental_sum  0.019464\n",
       "109         basf_sum  0.009331\n",
       "69   bridgestone_sum  0.008218\n",
       "298     hannifin_sum  0.007217\n",
       "500  accessories_sum  0.003848\n",
       "54       soprema_sum  0.003524\n",
       "170     michelin_sum  0.003196\n",
       "172     sumitomo_sum  0.002930\n",
       "410      pirelli_sum  0.002893\n",
       "394     arlanxeo_sum  0.002883\n",
       "240         sika_sum  0.002763\n",
       "242         zeon_sum  0.002713\n",
       "474          api_sum  0.002467\n",
       "636    synthomer_sum  0.002411\n",
       "453   exxonmobil_sum  0.002399\n",
       "250       kraton_sum  0.002324\n",
       "271     reliance_sum  0.002285\n",
       "226          dow_sum  0.002250\n",
       "637    contitech_sum  0.002123\n",
       "52           spa_sum  0.001472\n",
       "280         paul_sum  0.001397\n",
       "515     versalis_sum  0.001388\n",
       "388     yokohama_sum  0.001340\n",
       "165      bitumen_sum  0.001320"
      ]
     },
     "metadata": {},
     "output_type": "display_data"
    }
   ],
   "source": [
    "start = 0\n",
    "stop = 25\n",
    "size = (12,6)\n",
    "\n",
    "df = gini_df(model,features,start,stop)\n",
    "gini_hist(df,size)\n",
    "display(df)"
   ]
  },
  {
   "cell_type": "markdown",
   "metadata": {},
   "source": [
    "## Check the model on all train samples before download predicts to validation\n",
    "*light gbm and decission tree models*"
   ]
  },
  {
   "cell_type": "code",
   "execution_count": 94,
   "metadata": {},
   "outputs": [
    {
     "data": {
      "text/plain": [
       "DecisionTreeClassifier(ccp_alpha=0.0, class_weight=None, criterion='gini',\n",
       "                       max_depth=50, max_features=None, max_leaf_nodes=None,\n",
       "                       min_impurity_decrease=0.0, min_impurity_split=None,\n",
       "                       min_samples_leaf=1, min_samples_split=25,\n",
       "                       min_weight_fraction_leaf=0.0, presort='deprecated',\n",
       "                       random_state=50, splitter='best')"
      ]
     },
     "execution_count": 94,
     "metadata": {},
     "output_type": "execute_result"
    }
   ],
   "source": [
    "model = DecisionTreeClassifier(random_state=seed, min_samples_split=25, max_depth=50)\n",
    "model.fit(baseline_train[features].values,\n",
    "          baseline_train[\"target\"].values)"
   ]
  },
  {
   "cell_type": "code",
   "execution_count": 95,
   "metadata": {},
   "outputs": [],
   "source": [
    "# make predict proba and predict target on train data\n",
    "baseline_train['predict_to_csv'] = (model.predict_proba(\n",
    "    baseline_train[features].values)[:, 1] > probability_level).astype(np.int)\n",
    "\n",
    "# make predict proba and predict target on TEST data\n",
    "baseline_test['predict_to_csv'] = (model.predict_proba(\n",
    "    baseline_test[features].values)[:, 1] > probability_level).astype(np.int)"
   ]
  },
  {
   "cell_type": "code",
   "execution_count": 96,
   "metadata": {},
   "outputs": [
    {
     "data": {
      "text/plain": [
       "0    494010\n",
       "1      3809\n",
       "Name: predict_to_csv, dtype: int64"
      ]
     },
     "execution_count": 96,
     "metadata": {},
     "output_type": "execute_result"
    }
   ],
   "source": [
    "# predict balance on train\n",
    "baseline_train['predict_to_csv'].value_counts()"
   ]
  },
  {
   "cell_type": "code",
   "execution_count": 97,
   "metadata": {},
   "outputs": [
    {
     "data": {
      "text/plain": [
       "0    212179\n",
       "1      1070\n",
       "Name: predict_to_csv, dtype: int64"
      ]
     },
     "execution_count": 97,
     "metadata": {},
     "output_type": "execute_result"
    }
   ],
   "source": [
    "# predict balance on test\n",
    "baseline_test['predict_to_csv'].value_counts()"
   ]
  },
  {
   "cell_type": "code",
   "execution_count": 98,
   "metadata": {},
   "outputs": [
    {
     "name": "stdout",
     "output_type": "stream",
     "text": [
      "              precision    recall  f1-score   support\n",
      "\n",
      "           0       1.00      1.00      1.00    494161\n",
      "           1       0.87      0.91      0.89      3658\n",
      "\n",
      "    accuracy                           1.00    497819\n",
      "   macro avg       0.94      0.95      0.95    497819\n",
      "weighted avg       1.00      1.00      1.00    497819\n",
      "\n"
     ]
    }
   ],
   "source": [
    "# report about precision, recall and f-1 score\n",
    "print (classification_report(baseline_train[\"target\"].values, baseline_train['predict_to_csv']))"
   ]
  },
  {
   "cell_type": "code",
   "execution_count": 99,
   "metadata": {},
   "outputs": [],
   "source": [
    "# make predict proba and predict target on train data\n",
    "baseline_train['predict_proba_to_csv'] = 1-(model.predict_proba(\n",
    "    baseline_train[features].values)[:, 0].astype(np.float))\n",
    "\n",
    "# make predict proba and predict target on test data\n",
    "baseline_test['predict_proba_to_csv'] = 1-(model.predict_proba(\n",
    "    baseline_test[features].values)[:, 0].astype(np.float))"
   ]
  },
  {
   "cell_type": "code",
   "execution_count": 100,
   "metadata": {},
   "outputs": [
    {
     "data": {
      "image/png": "[encoded data removed]",
      "text/plain": [
       "<Figure size 1152x432 with 1 Axes>"
      ]
     },
     "metadata": {},
     "output_type": "display_data"
    },
    {
     "data": {
      "text/html": [
       "<div>\n",
       "<style scoped>\n",
       "    .dataframe tbody tr th:only-of-type {\n",
       "        vertical-align: middle;\n",
       "    }\n",
       "\n",
       "    .dataframe tbody tr th {\n",
       "        vertical-align: top;\n",
       "    }\n",
       "\n",
       "    .dataframe thead th {\n",
       "        text-align: right;\n",
       "    }\n",
       "</style>\n",
       "<table border=\"1\" class=\"dataframe\">\n",
       "  <thead>\n",
       "    <tr style=\"text-align: right;\">\n",
       "      <th>predict_proba_to_csv_round</th>\n",
       "      <th>0.0</th>\n",
       "      <th>0.1</th>\n",
       "      <th>0.2</th>\n",
       "      <th>0.3</th>\n",
       "      <th>0.4</th>\n",
       "      <th>0.5</th>\n",
       "      <th>0.6</th>\n",
       "      <th>0.7</th>\n",
       "      <th>0.8</th>\n",
       "      <th>0.9</th>\n",
       "      <th>1.0</th>\n",
       "    </tr>\n",
       "    <tr>\n",
       "      <th>target</th>\n",
       "      <th></th>\n",
       "      <th></th>\n",
       "      <th></th>\n",
       "      <th></th>\n",
       "      <th></th>\n",
       "      <th></th>\n",
       "      <th></th>\n",
       "      <th></th>\n",
       "      <th></th>\n",
       "      <th></th>\n",
       "      <th></th>\n",
       "    </tr>\n",
       "  </thead>\n",
       "  <tbody>\n",
       "    <tr>\n",
       "      <th>0</th>\n",
       "      <td>493405.00</td>\n",
       "      <td>170.00</td>\n",
       "      <td>69.00</td>\n",
       "      <td>27.00</td>\n",
       "      <td>7.00</td>\n",
       "      <td>1.0</td>\n",
       "      <td>460.00</td>\n",
       "      <td>3.00</td>\n",
       "      <td>7.00</td>\n",
       "      <td>10.0</td>\n",
       "      <td>2.00</td>\n",
       "    </tr>\n",
       "    <tr>\n",
       "      <th>1</th>\n",
       "      <td>281.00</td>\n",
       "      <td>19.00</td>\n",
       "      <td>16.00</td>\n",
       "      <td>12.00</td>\n",
       "      <td>4.00</td>\n",
       "      <td>1.0</td>\n",
       "      <td>601.00</td>\n",
       "      <td>6.00</td>\n",
       "      <td>27.00</td>\n",
       "      <td>127.0</td>\n",
       "      <td>2564.00</td>\n",
       "    </tr>\n",
       "    <tr>\n",
       "      <th>sum</th>\n",
       "      <td>493686.00</td>\n",
       "      <td>189.00</td>\n",
       "      <td>85.00</td>\n",
       "      <td>39.00</td>\n",
       "      <td>11.00</td>\n",
       "      <td>2.0</td>\n",
       "      <td>1061.00</td>\n",
       "      <td>9.00</td>\n",
       "      <td>34.00</td>\n",
       "      <td>137.0</td>\n",
       "      <td>2566.00</td>\n",
       "    </tr>\n",
       "    <tr>\n",
       "      <th>duplicates_%_(1)</th>\n",
       "      <td>0.06</td>\n",
       "      <td>10.05</td>\n",
       "      <td>18.82</td>\n",
       "      <td>30.77</td>\n",
       "      <td>36.36</td>\n",
       "      <td>50.0</td>\n",
       "      <td>56.64</td>\n",
       "      <td>66.67</td>\n",
       "      <td>79.41</td>\n",
       "      <td>92.7</td>\n",
       "      <td>99.92</td>\n",
       "    </tr>\n",
       "    <tr>\n",
       "      <th>share_of_objects_%</th>\n",
       "      <td>99.20</td>\n",
       "      <td>0.00</td>\n",
       "      <td>0.00</td>\n",
       "      <td>0.00</td>\n",
       "      <td>0.00</td>\n",
       "      <td>0.0</td>\n",
       "      <td>0.20</td>\n",
       "      <td>0.00</td>\n",
       "      <td>0.00</td>\n",
       "      <td>0.0</td>\n",
       "      <td>0.50</td>\n",
       "    </tr>\n",
       "  </tbody>\n",
       "</table>\n",
       "</div>"
      ],
      "text/plain": [
       "predict_proba_to_csv_round        0.0     0.1    0.2    0.3    0.4   0.5  \\\n",
       "target                                                                     \n",
       "0                           493405.00  170.00  69.00  27.00   7.00   1.0   \n",
       "1                              281.00   19.00  16.00  12.00   4.00   1.0   \n",
       "sum                         493686.00  189.00  85.00  39.00  11.00   2.0   \n",
       "duplicates_%_(1)                 0.06   10.05  18.82  30.77  36.36  50.0   \n",
       "share_of_objects_%              99.20    0.00   0.00   0.00   0.00   0.0   \n",
       "\n",
       "predict_proba_to_csv_round      0.6    0.7    0.8    0.9      1.0  \n",
       "target                                                             \n",
       "0                            460.00   3.00   7.00   10.0     2.00  \n",
       "1                            601.00   6.00  27.00  127.0  2564.00  \n",
       "sum                         1061.00   9.00  34.00  137.0  2566.00  \n",
       "duplicates_%_(1)              56.64  66.67  79.41   92.7    99.92  \n",
       "share_of_objects_%             0.20   0.00   0.00    0.0     0.50  "
      ]
     },
     "metadata": {},
     "output_type": "display_data"
    }
   ],
   "source": [
    "baseline_train['predict_proba_to_csv_round'] = baseline_train['predict_proba_to_csv'].round(1)\n",
    "data = baseline_train\n",
    "analyse = 'predict_proba_to_csv_round'\n",
    "title_print = 'no'\n",
    "size = (16,6)\n",
    "\n",
    "ct = contingency_table_2(data,analyse,title_print)\n",
    "pair_hist(ct,size,title_print)\n",
    "display(ct)"
   ]
  },
  {
   "cell_type": "code",
   "execution_count": 101,
   "metadata": {},
   "outputs": [
    {
     "data": {
      "image/png": "[encoded data removed]",
      "text/plain": [
       "<Figure size 1152x432 with 1 Axes>"
      ]
     },
     "metadata": {},
     "output_type": "display_data"
    }
   ],
   "source": [
    "# scatter plot of two features (target and h/f word count)\n",
    "data = baseline_train\n",
    "analyse1 = 'predict_proba_to_csv'\n",
    "analyse2 = 'ratio_lvstn_drop_sw_to_label_zero'\n",
    "size = (16,6)\n",
    "two_features(data,analyse1,analyse2,size)"
   ]
  },
  {
   "cell_type": "code",
   "execution_count": 102,
   "metadata": {},
   "outputs": [
    {
     "data": {
      "text/plain": [
       "0    212179\n",
       "1      1070\n",
       "Name: predict_to_csv, dtype: int64"
      ]
     },
     "execution_count": 102,
     "metadata": {},
     "output_type": "execute_result"
    }
   ],
   "source": [
    "# predict balance on test\n",
    "baseline_test['predict_to_csv'].value_counts()"
   ]
  },
  {
   "cell_type": "code",
   "execution_count": 103,
   "metadata": {},
   "outputs": [
    {
     "data": {
      "text/html": [
       "<div>\n",
       "<style scoped>\n",
       "    .dataframe tbody tr th:only-of-type {\n",
       "        vertical-align: middle;\n",
       "    }\n",
       "\n",
       "    .dataframe tbody tr th {\n",
       "        vertical-align: top;\n",
       "    }\n",
       "\n",
       "    .dataframe thead th {\n",
       "        text-align: right;\n",
       "    }\n",
       "</style>\n",
       "<table border=\"1\" class=\"dataframe\">\n",
       "  <thead>\n",
       "    <tr style=\"text-align: right;\">\n",
       "      <th></th>\n",
       "      <th>pair_id</th>\n",
       "      <th>name_1</th>\n",
       "      <th>name_2</th>\n",
       "      <th>predict_to_csv</th>\n",
       "    </tr>\n",
       "  </thead>\n",
       "  <tbody>\n",
       "    <tr>\n",
       "      <th>114</th>\n",
       "      <td>115</td>\n",
       "      <td>nokian tyres plc</td>\n",
       "      <td>ооо нокиан тайерс</td>\n",
       "      <td>1</td>\n",
       "    </tr>\n",
       "    <tr>\n",
       "      <th>285</th>\n",
       "      <td>286</td>\n",
       "      <td>ineos styrolution  ltd</td>\n",
       "      <td>styrolution america llc</td>\n",
       "      <td>1</td>\n",
       "    </tr>\n",
       "    <tr>\n",
       "      <th>306</th>\n",
       "      <td>307</td>\n",
       "      <td>canadian saddlery  supply inc</td>\n",
       "      <td>canadian saddlery  supply in</td>\n",
       "      <td>1</td>\n",
       "    </tr>\n",
       "    <tr>\n",
       "      <th>362</th>\n",
       "      <td>363</td>\n",
       "      <td>trelleborg ysh sa de cv</td>\n",
       "      <td>trelleborg engineeed products a</td>\n",
       "      <td>1</td>\n",
       "    </tr>\n",
       "    <tr>\n",
       "      <th>634</th>\n",
       "      <td>635</td>\n",
       "      <td>repsol ypf lubricantes y</td>\n",
       "      <td>repsol lubricantes y especialidades</td>\n",
       "      <td>1</td>\n",
       "    </tr>\n",
       "    <tr>\n",
       "      <th>...</th>\n",
       "      <td>...</td>\n",
       "      <td>...</td>\n",
       "      <td>...</td>\n",
       "      <td>...</td>\n",
       "    </tr>\n",
       "    <tr>\n",
       "      <th>211827</th>\n",
       "      <td>211828</td>\n",
       "      <td>sojitz co ltd</td>\n",
       "      <td>sojitz</td>\n",
       "      <td>1</td>\n",
       "    </tr>\n",
       "    <tr>\n",
       "      <th>211891</th>\n",
       "      <td>211892</td>\n",
       "      <td>jm logistics services sa de cv</td>\n",
       "      <td>jm lord international llc</td>\n",
       "      <td>1</td>\n",
       "    </tr>\n",
       "    <tr>\n",
       "      <th>211951</th>\n",
       "      <td>211952</td>\n",
       "      <td>sanyo corp</td>\n",
       "      <td>sanyo trading</td>\n",
       "      <td>1</td>\n",
       "    </tr>\n",
       "    <tr>\n",
       "      <th>212072</th>\n",
       "      <td>212073</td>\n",
       "      <td>goodyear do brasil productos de borracha ltda</td>\n",
       "      <td>goodyear  inc</td>\n",
       "      <td>1</td>\n",
       "    </tr>\n",
       "    <tr>\n",
       "      <th>212365</th>\n",
       "      <td>212366</td>\n",
       "      <td>samson rubber products</td>\n",
       "      <td>samson international ltd</td>\n",
       "      <td>1</td>\n",
       "    </tr>\n",
       "  </tbody>\n",
       "</table>\n",
       "<p>1070 rows × 4 columns</p>\n",
       "</div>"
      ],
      "text/plain": [
       "        pair_id                                         name_1  \\\n",
       "114         115                               nokian tyres plc   \n",
       "285         286                         ineos styrolution  ltd   \n",
       "306         307                  canadian saddlery  supply inc   \n",
       "362         363                        trelleborg ysh sa de cv   \n",
       "634         635                       repsol ypf lubricantes y   \n",
       "...         ...                                            ...   \n",
       "211827   211828                                  sojitz co ltd   \n",
       "211891   211892                 jm logistics services sa de cv   \n",
       "211951   211952                                     sanyo corp   \n",
       "212072   212073  goodyear do brasil productos de borracha ltda   \n",
       "212365   212366                         samson rubber products   \n",
       "\n",
       "                                     name_2  predict_to_csv  \n",
       "114                       ооо нокиан тайерс               1  \n",
       "285                 styrolution america llc               1  \n",
       "306            canadian saddlery  supply in               1  \n",
       "362         trelleborg engineeed products a               1  \n",
       "634     repsol lubricantes y especialidades               1  \n",
       "...                                     ...             ...  \n",
       "211827                               sojitz               1  \n",
       "211891            jm lord international llc               1  \n",
       "211951                       sanyo trading                1  \n",
       "212072                        goodyear  inc               1  \n",
       "212365             samson international ltd               1  \n",
       "\n",
       "[1070 rows x 4 columns]"
      ]
     },
     "execution_count": 103,
     "metadata": {},
     "output_type": "execute_result"
    }
   ],
   "source": [
    "# select only dublicates names and look id, each name of companies and predict is the duplicate\n",
    "baseline_test[baseline_test['predict_to_csv']==1][[\n",
    "    'pair_id','name_1','name_2','predict_to_csv'\n",
    "]]"
   ]
  },
  {
   "cell_type": "code",
   "execution_count": 104,
   "metadata": {},
   "outputs": [
    {
     "data": {
      "text/html": [
       "<div>\n",
       "<style scoped>\n",
       "    .dataframe tbody tr th:only-of-type {\n",
       "        vertical-align: middle;\n",
       "    }\n",
       "\n",
       "    .dataframe tbody tr th {\n",
       "        vertical-align: top;\n",
       "    }\n",
       "\n",
       "    .dataframe thead th {\n",
       "        text-align: right;\n",
       "    }\n",
       "</style>\n",
       "<table border=\"1\" class=\"dataframe\">\n",
       "  <thead>\n",
       "    <tr style=\"text-align: right;\">\n",
       "      <th></th>\n",
       "      <th>pair_id</th>\n",
       "      <th>name_1</th>\n",
       "      <th>name_2</th>\n",
       "      <th>predict_to_csv</th>\n",
       "    </tr>\n",
       "  </thead>\n",
       "  <tbody>\n",
       "    <tr>\n",
       "      <th>0</th>\n",
       "      <td>1</td>\n",
       "      <td>sun blinds decoration inc</td>\n",
       "      <td>indl de cuautitlan sa cv</td>\n",
       "      <td>0</td>\n",
       "    </tr>\n",
       "    <tr>\n",
       "      <th>1</th>\n",
       "      <td>2</td>\n",
       "      <td>eih ltd</td>\n",
       "      <td>dongguan wei shi plastic product co ltd</td>\n",
       "      <td>0</td>\n",
       "    </tr>\n",
       "    <tr>\n",
       "      <th>2</th>\n",
       "      <td>3</td>\n",
       "      <td>jsh ltd</td>\n",
       "      <td>arab shipbuilding and repair yard c</td>\n",
       "      <td>0</td>\n",
       "    </tr>\n",
       "    <tr>\n",
       "      <th>3</th>\n",
       "      <td>4</td>\n",
       "      <td>better industrial ltd</td>\n",
       "      <td>farmacap industria e comercio ltda</td>\n",
       "      <td>0</td>\n",
       "    </tr>\n",
       "    <tr>\n",
       "      <th>4</th>\n",
       "      <td>5</td>\n",
       "      <td>equipos inoxidables del norte sa de cv</td>\n",
       "      <td>bel inc</td>\n",
       "      <td>0</td>\n",
       "    </tr>\n",
       "    <tr>\n",
       "      <th>...</th>\n",
       "      <td>...</td>\n",
       "      <td>...</td>\n",
       "      <td>...</td>\n",
       "      <td>...</td>\n",
       "    </tr>\n",
       "    <tr>\n",
       "      <th>213244</th>\n",
       "      <td>213245</td>\n",
       "      <td>dyna logistics inc</td>\n",
       "      <td>jiangsu easero logistics ltd</td>\n",
       "      <td>0</td>\n",
       "    </tr>\n",
       "    <tr>\n",
       "      <th>213245</th>\n",
       "      <td>213246</td>\n",
       "      <td>dsi</td>\n",
       "      <td>kavalani  sons wll</td>\n",
       "      <td>0</td>\n",
       "    </tr>\n",
       "    <tr>\n",
       "      <th>213246</th>\n",
       "      <td>213247</td>\n",
       "      <td>saint gobain abrasives</td>\n",
       "      <td>zarabi</td>\n",
       "      <td>0</td>\n",
       "    </tr>\n",
       "    <tr>\n",
       "      <th>213247</th>\n",
       "      <td>213248</td>\n",
       "      <td>covestro private ltd</td>\n",
       "      <td>terabytes  private ltd</td>\n",
       "      <td>0</td>\n",
       "    </tr>\n",
       "    <tr>\n",
       "      <th>213248</th>\n",
       "      <td>213249</td>\n",
       "      <td>zandur</td>\n",
       "      <td>qingyuan xierong plastics  rubber products co ltd</td>\n",
       "      <td>0</td>\n",
       "    </tr>\n",
       "  </tbody>\n",
       "</table>\n",
       "<p>212179 rows × 4 columns</p>\n",
       "</div>"
      ],
      "text/plain": [
       "        pair_id                                  name_1  \\\n",
       "0             1               sun blinds decoration inc   \n",
       "1             2                                 eih ltd   \n",
       "2             3                                 jsh ltd   \n",
       "3             4                   better industrial ltd   \n",
       "4             5  equipos inoxidables del norte sa de cv   \n",
       "...         ...                                     ...   \n",
       "213244   213245                      dyna logistics inc   \n",
       "213245   213246                                     dsi   \n",
       "213246   213247                  saint gobain abrasives   \n",
       "213247   213248                    covestro private ltd   \n",
       "213248   213249                                  zandur   \n",
       "\n",
       "                                                   name_2  predict_to_csv  \n",
       "0                                indl de cuautitlan sa cv               0  \n",
       "1                 dongguan wei shi plastic product co ltd               0  \n",
       "2                     arab shipbuilding and repair yard c               0  \n",
       "3                      farmacap industria e comercio ltda               0  \n",
       "4                                                 bel inc               0  \n",
       "...                                                   ...             ...  \n",
       "213244                       jiangsu easero logistics ltd               0  \n",
       "213245                                 kavalani  sons wll               0  \n",
       "213246                                             zarabi               0  \n",
       "213247                             terabytes  private ltd               0  \n",
       "213248  qingyuan xierong plastics  rubber products co ltd               0  \n",
       "\n",
       "[212179 rows x 4 columns]"
      ]
     },
     "execution_count": 104,
     "metadata": {},
     "output_type": "execute_result"
    }
   ],
   "source": [
    "# select only NOT dublicates names and look id, each name of companies and predict is the duplicate\n",
    "baseline_test[baseline_test['predict_to_csv']==0][[\n",
    "    'pair_id','name_1','name_2','predict_to_csv'\n",
    "]]"
   ]
  },
  {
   "cell_type": "code",
   "execution_count": 105,
   "metadata": {},
   "outputs": [],
   "source": [
    "# download sample submission from csv file \n",
    "sample_sub = pd.read_csv('sample_submission.csv', index_col=\"pair_id\")\n",
    "# make the predict - our vector of answers\n",
    "sample_sub['is_duplicate'] = (model.predict_proba(\n",
    "    baseline_test[features].values)[:, 1] > probability_level).astype(np.int)"
   ]
  },
  {
   "cell_type": "code",
   "execution_count": 106,
   "metadata": {},
   "outputs": [],
   "source": [
    "# download predict to csv file\n",
    "sample_sub.to_csv('submission_lgbm_and_deep_tree.csv')"
   ]
  },
  {
   "cell_type": "markdown",
   "metadata": {},
   "source": [
    "## Check the score  (f1 on test samples): 0.6699"
   ]
  },
  {
   "cell_type": "markdown",
   "metadata": {},
   "source": [
    "# Заключение\n",
    "\n",
    "Предложенное решение обладает существенным недостатком - оно сильно заточено под названия крупных холдингов, указанных в обучающей выборке и также сильно заточено под количество высокочастотных слов в паре. Это обстоятельство, как показала практика, делает решение сильно не стабильным.\n",
    "\n",
    "Фактически, в последний день соревнования, пришло понимание, что для лучшего качества, следует не столько времени уделять составлению и использованию списка компаний из списка высокочастотных слов, сколько наиболее важно провести более тщательную предобработку и провести несколько подходов по удалению высокочастотных стоп-слов. На разных предобработках можно было бы создавать признаки, которые использовались в настоящем исследовании и объединять их, например, используя метод главных компонент (pca). Также стоило бы добавить коэффициент Жаро. На основании полученных признаков, обучать модель. \n",
    "\n",
    "Известно, что некоторые участники с топовыми решениями использовали нейронные сети. \n",
    "\n",
    "К сожалению, возможность загрузки и проверки решений, была отключена по завершению соревнования и мне не удалось проверить все свои идеи, а также идеи, которыми после соревнования поделились участники друг с другом."
   ]
  },
  {
   "cell_type": "markdown",
   "metadata": {},
   "source": [
    "## Идеи от участников соревнования\n",
    "\n",
    "#### *1 IDEA (@vilka044)*\n",
    "\n",
    "Несколько идей, выбили 0.63.\n",
    "1. Очистка данных графом. Строим граф по связанным словам. Т.е. в словосочетании ООО Рога и копыта, связанными будут ООО - Рога, Рога - и, и - копыта. Потом убираем слова с числом связей больше N. Порог можно найти по boxplot, это 50-80. Очистка эффективно убирает слова типа ООО, industrial, ltd и пр.\n",
    "(- к этому можно добавить еще видоизменение слов типа industrial: industria, industry, industrial etc, \n",
    "- а я их маркировал одинаковыми нечетким поиском. относил industry, industri, indastry и проч. схожее к одинаковым. в сомнительных случаях делал сравнение фонем, я использовал библиотеку fuzzywuzzy и pyjarowinklerpyjarowinkler. Джаро-Винкле вообще хорошо зашёл, он и в поиске опечаток хороший результат даёт, лучше, чем левенштейн и н-граммы)\n",
    "\n",
    "2. Валидация. После очистки группируем пары по признаку \"первые N символов 1 слова есть во 2\". Получается примерно 1700 групп разного размера. Затем жадным алгоритмом раскидываем группы по фолдам. Вот, например, кросс-валидация по решению на 0.63.\n",
    "Сори что оси не подписаны, рабочий вариант - по y F1, по x - пороги от 0.1 до 0.9 для proba. Для предикта взят порог 0.7 (по x – 6)\n",
    "\n",
    "#### *2 IDEA (@Affernus)*\n",
    "\n",
    "Я пробовал косинусное и евклидово, не взлетели. Tfidf сильно переучивался, пробовал tfidf по буквам и n-gram, полученные векторы испрльзовал для косинусного и евклидова. Но лучше себя показали расстояние джаро и левенштейн из fuzzy\n",
    "\n",
    "Для очистки elfs (форм собственности) юзал словарь с ними. Города и страны тоже выделял по словарю. Пробовал по ним делать отдельные признаки.\n",
    "\n",
    "А вчера я выяснил, что pca на расстояние джаро + расстояние левенштейна позволяет отсечь 99 процентов данных как ноли. От трейна оставалось около 7 тысяч данных, где классы распределены пополам. Но это произошло в 8 вечера и единственное, что я потом успел - положить на остаток стек из всего, что попалось под руку (катбус, лгбм, иксжибуст, логрег и т.д.). Эта композиция шикарно поделила трейн и не очень - тест (там 0.7-0.72). На таких данных можно было уже и берт и скайпай попробовать обучить, но времени не хватило(\n",
    "\n",
    "Ну да) я делал частоты слов, расстояния джаро, левенштейна, схожесть по н граммам, косинусное и евклидово на тфидф по буквам и нграммам, доли совпадающих слов, попадание в список бинго из самых частых совпадающих слов..\n",
    "\n",
    "#### *3 IDEA (@TorricK)*\n",
    "\n",
    "0.85. Базовая обработка на пробелы, lowercase, символы. Выкидывал страны и типы организаций. Затем аугментации, где добавлял грязные данные и менял порядок слов. Оверсэмплинг. mBERT base файнтюнинг и ансамбль из трёх лучших моделей с разной инициализацией весов. Вдохновлялся кагглом токсик коммент детекшен.\n",
    "\n",
    "#### *4 IDEA (@ivanglebov)*\n",
    "\n",
    "ask: А на чем Берт учил, ну типа какой таргет и что на вход, если не секрет, я обучал sentence bert, и потом использовал косинусное расстояние между эмбедингами name1 name2, но выше 0.64 это не давало\n",
    "answer:: Не учил, а файнтюнил) через huggingface интерфейс подавал на вход пару и получал CLS выход\n",
    "answer:Таргет 1 или 0\n",
    "ask: Ну тоесть одна сеть, на вход name1, name2, объединенные в один текст, и класификация cks токена?\n",
    "answer: Там можно подавать два отдельных предложения и таргет\n",
    "answer: Задача paraphrasing detection на BErt как пример\n",
    "https://github.com/UKPLab/sentence-transformers\n",
    "вообще просто закинул в первом пример документации было,  две эпохи и трешхол 0.6 - 0.64 лб\n",
    "У меня с  Roberta скор 0.72. Данные никак не обрабатывал, просто сконкатинировал name_1 и name_2 как есть)).  Colab + TPU.\n",
    "\n",
    "#### *IDEA 6*\n",
    "По словарям хорошо зашли вариации. Т.е. добавить разных окончаний (s, ing, ings), заменить сочетания букв на другие (zh-> j и наоборот). Расширяло словарь в 10ки раз, при этом давало на +0.15 на паблике\n",
    "\n",
    "#### *IDEA 7*\n",
    "Транслитерация всего и вся: https://github.com/wikimedia/pywikibot/blob/master/pywikibot/userinterfaces/transliteration.py"
   ]
  }
 ],
 "metadata": {
  "kernelspec": {
   "display_name": "Python 3",
   "language": "python",
   "name": "python3"
  },
  "language_info": {
   "codemirror_mode": {
    "name": "ipython",
    "version": 3
   },
   "file_extension": ".py",
   "mimetype": "text/x-python",
   "name": "python",
   "nbconvert_exporter": "python",
   "pygments_lexer": "ipython3",
   "version": "3.7.6"
  }
 },
 "nbformat": 4,
 "nbformat_minor": 4
}
