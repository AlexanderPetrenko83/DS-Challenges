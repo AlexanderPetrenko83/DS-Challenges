{
 "cells": [
  {
   "cell_type": "markdown",
   "metadata": {},
   "source": [
    "# Import libraries"
   ]
  },
  {
   "cell_type": "code",
   "execution_count": 5,
   "metadata": {},
   "outputs": [],
   "source": [
    "import pandas as pd\n",
    "import numpy as np\n",
    "\n",
    "import warnings\n",
    "warnings.filterwarnings('ignore')\n",
    "\n",
    "import pycountry\n",
    "import re\n",
    "\n",
    "from tqdm import tqdm\n",
    "tqdm.pandas()\n",
    "\n",
    "from strsimpy.levenshtein import Levenshtein\n",
    "from strsimpy.normalized_levenshtein import NormalizedLevenshtein\n",
    "\n",
    "import matplotlib.pyplot as plt\n",
    "from matplotlib.pyplot import figure\n",
    "\n",
    "import seaborn as sns\n",
    "sns.set()\n",
    "sns.set_style(\"whitegrid\")\n",
    "\n",
    "from sklearn.model_selection import train_test_split\n",
    "from sklearn.model_selection import StratifiedKFold\n",
    "from sklearn.model_selection import StratifiedShuffleSplit\n",
    "\n",
    "from scipy.sparse import csr_matrix\n",
    "\n",
    "import lightgbm as lgb\n",
    "from sklearn.tree import DecisionTreeClassifier\n",
    "\n",
    "\n",
    "from sklearn.metrics import accuracy_score\n",
    "from sklearn.metrics import recall_score\n",
    "from sklearn.metrics import precision_score\n",
    "from sklearn.metrics import roc_auc_score\n",
    "\n",
    "from sklearn.metrics import classification_report, f1_score\n",
    "\n",
    "\n",
    "# import googletrans\n",
    "# from googletrans import Translator\n",
    "import cyrtranslit"
   ]
  },
  {
   "cell_type": "markdown",
   "metadata": {},
   "source": [
    "# Functions"
   ]
  },
  {
   "cell_type": "code",
   "execution_count": 6,
   "metadata": {},
   "outputs": [],
   "source": [
    "# convert text to lowercase\n",
    "def lower_str(data,column):\n",
    "    data[column] = data[column].str.lower()"
   ]
  },
  {
   "cell_type": "code",
   "execution_count": 7,
   "metadata": {},
   "outputs": [],
   "source": [
    "# statistic table for analyse float values (it needs to make histogramms and boxplots)\n",
    "def data_statistics(data,analyse,title_print):\n",
    "\n",
    "    data0 = data[data['target']==0][analyse]\n",
    "    data1 = data[data['target']==1][analyse]\n",
    "\n",
    "    data_describe = pd.DataFrame()\n",
    "    data_describe['target_0'] = data0.describe()\n",
    "    data_describe['target_1'] = data1.describe()\n",
    "    data_describe = data_describe.T\n",
    "    \n",
    "    if title_print == 'yes':\n",
    "        print ('\\033[1m' + 'Дополнительные статистики по признаку',analyse,'\\033[m') \n",
    "    elif title_print == 'no':\n",
    "        None\n",
    "    \n",
    "    return data_describe"
   ]
  },
  {
   "cell_type": "code",
   "execution_count": 8,
   "metadata": {},
   "outputs": [],
   "source": [
    "# histogramms for float values\n",
    "def hist_fz(data,data_describe,analyse,size):\n",
    "    print ()\n",
    "    print ('\\033[1m' + 'Information about',analyse,'\\033[m')\n",
    "    print ()\n",
    "    \n",
    "    data_0 = data[data['target'] == 0][analyse]\n",
    "    data_1 = data[data['target'] == 1][analyse]\n",
    "    \n",
    "    min_data = data_describe['min'].min()\n",
    "    max_data = data_describe['max'].max()\n",
    "    \n",
    "    data0_mean = data_describe.loc['target_0']['mean']\n",
    "    data0_median = data_describe.loc['target_0']['50%']\n",
    "    data0_min = data_describe.loc['target_0']['min']\n",
    "    data0_max = data_describe.loc['target_0']['max']\n",
    "    data0_count = data_describe.loc['target_0']['count']\n",
    "    \n",
    "    \n",
    "    data1_mean = data_describe.loc['target_1']['mean']\n",
    "    data1_median = data_describe.loc['target_1']['50%'] \n",
    "    data1_min = data_describe.loc['target_1']['min']\n",
    "    data1_max = data_describe.loc['target_1']['max']\n",
    "    data1_count = data_describe.loc['target_1']['count']\n",
    "    \n",
    "    \n",
    "    print ('\\033[4m' + 'Analyse'+ '\\033[m','No duplicates')\n",
    "    \n",
    "    figure(figsize=size)\n",
    "    sns.distplot(data_0,color='darkgreen',kde = False)\n",
    "    \n",
    "    plt.scatter(data0_mean,0,s=200,marker='o',c='dimgray',label='Mean')\n",
    "    plt.scatter(data0_median,0,s=250,marker='|',c='black',label='Median')\n",
    "    plt.legend(scatterpoints=1,\n",
    "               loc='upper right',\n",
    "               ncol=3,\n",
    "               fontsize=16)\n",
    "    plt.xlim(min_data, max_data)\n",
    "    plt.show()\n",
    "    print ('Quantity:', data0_count,\n",
    "           '         Min:', round(data0_min,2),\n",
    "           '         Max:', round(data0_max,2),\n",
    "           '         Mean:', round(data0_mean,2),\n",
    "           '         Median:', round(data0_median,2))\n",
    "    \n",
    "    print ()\n",
    "    print ('\\033[4m' + 'Analyse'+ '\\033[m','Duplicates')\n",
    "    \n",
    "    figure(figsize=size)\n",
    "    sns.distplot(data_1,color='darkred',kde = False)\n",
    "    plt.scatter(data1_mean,0,s=200,marker='o',c='dimgray',label='Mean')\n",
    "    plt.scatter(data1_median,0,s=250,marker='|',c='black',label='Median')\n",
    "    plt.legend(scatterpoints=1,\n",
    "               loc='upper right',\n",
    "               ncol=3,\n",
    "               fontsize=16)\n",
    "    plt.xlim(min_data, max_data)\n",
    "    plt.show()\n",
    "    print ('Quantity:', data_1.count(),\n",
    "           '         Min:', round(data1_min,2),\n",
    "           '         Max:', round(data1_max,2),\n",
    "           '         Mean:', round(data1_mean,2),\n",
    "           '         Median:', round(data1_median,2))"
   ]
  },
  {
   "cell_type": "code",
   "execution_count": 9,
   "metadata": {},
   "outputs": [],
   "source": [
    "# draw boxplot\n",
    "def boxplot(data,analyse,size):\n",
    "    print ('\\033[4m' + 'Analyse'+ '\\033[m','All pairs')\n",
    "    \n",
    "    data_0 = data[data['target'] == 0][analyse]\n",
    "    data_1 = data[data['target'] == 1][analyse]\n",
    "    \n",
    "    figure(figsize=size)\n",
    "    sns.boxplot(x=analyse,y='target',data=data,orient='h',\n",
    "                showmeans=True,                \n",
    "                meanprops={\"marker\":\"o\",\n",
    "                           \"markerfacecolor\":\"dimgray\", \n",
    "                           \"markeredgecolor\":\"black\",\n",
    "                          \"markersize\":\"14\"},\n",
    "               palette=['palegreen', 'salmon'])\n",
    "    plt.ylabel('target', size=14)\n",
    "    plt.xlabel(analyse, size=14)\n",
    "    plt.show()"
   ]
  },
  {
   "cell_type": "code",
   "execution_count": 10,
   "metadata": {},
   "outputs": [],
   "source": [
    "# draw graph for analyse two choosing features for predict traget label\n",
    "def two_features(data,analyse1,analyse2,size):\n",
    "    fig = plt.subplots(figsize=size)\n",
    "    \n",
    "    x0 = data[data['target']==0][analyse1]\n",
    "    y0 = data[data['target']==0][analyse2]\n",
    "    x1 = data[data['target']==1][analyse1]\n",
    "    y1 = data[data['target']==1][analyse2]\n",
    "    \n",
    "    plt.scatter(x0,y0,c='green',marker='.')\n",
    "    plt.scatter(x1,y1,c='black',marker='+')\n",
    "    plt.xlabel(analyse1)\n",
    "    plt.ylabel(analyse2)\n",
    "    title = [analyse1,analyse2]\n",
    "    plt.title(title)\n",
    "    plt.show()"
   ]
  },
  {
   "cell_type": "code",
   "execution_count": 11,
   "metadata": {},
   "outputs": [],
   "source": [
    "def contingency_table(X,features,probability_level,tridx,cvidx,model):\n",
    "    tr_predict_proba = model.predict_proba(X.iloc[tridx][features].values)\n",
    "    cv_predict_proba = model.predict_proba(X.iloc[cvidx][features].values)\n",
    "\n",
    "    tr_predict_target = (tr_predict_proba[:, 1] > probability_level).astype(np.int)\n",
    "    cv_predict_target = (cv_predict_proba[:, 1] > probability_level).astype(np.int)\n",
    "\n",
    "    X_tr = X.iloc[tridx]\n",
    "    X_cv = X.iloc[cvidx]\n",
    "\n",
    "    X_tr['predict_proba'] = tr_predict_proba[:,1]\n",
    "    X_cv['predict_proba'] = cv_predict_proba[:,1]\n",
    "\n",
    "    X_tr['predict_target'] = tr_predict_target\n",
    "    X_cv['predict_target'] = cv_predict_target\n",
    "\n",
    "    # make true positive column\n",
    "    data = pd.DataFrame(X_tr[X_tr['target']==1][X_tr['predict_target']==1]['pair_id'])\n",
    "    data['True_Positive'] = 1\n",
    "    X_tr = X_tr.merge(data,on='pair_id',how='left')\n",
    "\n",
    "    data = pd.DataFrame(X_cv[X_cv['target']==1][X_cv['predict_target']==1]['pair_id'])\n",
    "    data['True_Positive'] = 1\n",
    "    X_cv = X_cv.merge(data,on='pair_id',how='left')\n",
    "\n",
    "    # make false positive column\n",
    "    data = pd.DataFrame(X_tr[X_tr['target']==0][X_tr['predict_target']==1]['pair_id'])\n",
    "    data['False_Positive'] = 1\n",
    "    X_tr = X_tr.merge(data,on='pair_id',how='left')\n",
    "\n",
    "    data = pd.DataFrame(X_cv[X_cv['target']==0][X_cv['predict_target']==1]['pair_id'])\n",
    "    data['False_Positive'] = 1\n",
    "    X_cv = X_cv.merge(data,on='pair_id',how='left')\n",
    "\n",
    "    # make true negative column\n",
    "    data = pd.DataFrame(X_tr[X_tr['target']==0][X_tr['predict_target']==0]['pair_id'])\n",
    "    data['True_Negative'] = 1\n",
    "    X_tr = X_tr.merge(data,on='pair_id',how='left')\n",
    "\n",
    "    data = pd.DataFrame(X_cv[X_cv['target']==0][X_cv['predict_target']==0]['pair_id'])\n",
    "    data['True_Negative'] = 1\n",
    "    X_cv = X_cv.merge(data,on='pair_id',how='left')\n",
    "\n",
    "    # make false negative column\n",
    "    data = pd.DataFrame(X_tr[X_tr['target']==1][X_tr['predict_target']==0]['pair_id'])\n",
    "    data['False_Negative'] = 1\n",
    "    X_tr = X_tr.merge(data,on='pair_id',how='left')\n",
    "\n",
    "    data = pd.DataFrame(X_cv[X_cv['target']==1][X_cv['predict_target']==0]['pair_id'])\n",
    "    data['False_Negative'] = 1\n",
    "    X_cv = X_cv.merge(data,on='pair_id',how='left')\n",
    "    \n",
    "    return X_tr,X_cv"
   ]
  },
  {
   "cell_type": "code",
   "execution_count": 12,
   "metadata": {},
   "outputs": [],
   "source": [
    "def matrix_confusion(X):\n",
    "\n",
    "    list_matrix = ['True_Positive','False_Positive','True_Negative','False_Negative']\n",
    "\n",
    "    tr_pos = X[list_matrix].sum().loc['True_Positive']\n",
    "    f_pos = X[list_matrix].sum().loc['False_Positive']\n",
    "    tr_neg = X[list_matrix].sum().loc['True_Negative']\n",
    "    f_neg = X[list_matrix].sum().loc['False_Negative']\n",
    "    matrix_confusion = pd.DataFrame()\n",
    "    matrix_confusion['0_algorythm'] = np.array([tr_neg,f_neg]).T\n",
    "    matrix_confusion['1_algorythm'] = np.array([f_pos,tr_pos]).T\n",
    "    matrix_confusion = matrix_confusion.rename(index={0: '0_target', 1: '1_target'})\n",
    "    \n",
    "    return matrix_confusion"
   ]
  },
  {
   "cell_type": "code",
   "execution_count": 13,
   "metadata": {},
   "outputs": [],
   "source": [
    "def report_score(tr_matrix_confusion,\n",
    "                 cv_matrix_confusion,\n",
    "                 data,tridx,cvidx,\n",
    "                 X_tr,X_cv):\n",
    "    # print some imporatant information\n",
    "    print ('\\033[1m'+'Matrix confusion on train data'+'\\033[m')\n",
    "    display(tr_matrix_confusion)\n",
    "    print ()\n",
    "    print(classification_report(data.iloc[tridx][\"target\"].values, X_tr['predict_target']))\n",
    "    print ('******************************************************')\n",
    "    print ()\n",
    "    print ()\n",
    "    print ('\\033[1m'+'Matrix confusion on test(cv) data'+'\\033[m')\n",
    "    display(cv_matrix_confusion)\n",
    "    print ()\n",
    "    print(classification_report(data.iloc[cvidx][\"target\"].values, X_cv['predict_target']))\n",
    "    print ('******************************************************')"
   ]
  },
  {
   "cell_type": "code",
   "execution_count": 14,
   "metadata": {},
   "outputs": [],
   "source": [
    "def table_gain_coef(model,features,start,stop):\n",
    "    \n",
    "    data_gain = pd.DataFrame()\n",
    "    data_gain['Features'] = features\n",
    "    data_gain['Gain'] = model.booster_.feature_importance(importance_type='gain')\n",
    "    return data_gain.sort_values('Gain', ascending=False)[start:stop]"
   ]
  },
  {
   "cell_type": "code",
   "execution_count": 15,
   "metadata": {},
   "outputs": [],
   "source": [
    "def gain_hist(df,size,start,stop):\n",
    "    fig, ax = plt.subplots(figsize=(size))\n",
    "    x = (df.sort_values('Gain', ascending=False)['Features'][start:stop])\n",
    "    y = (df.sort_values('Gain', ascending=False)['Gain'][start:stop])\n",
    "    plt.bar(x,y)\n",
    "    plt.xlabel('Features')\n",
    "    plt.ylabel('Gain')\n",
    "    plt.xticks(rotation=90)\n",
    "    plt.show()"
   ]
  },
  {
   "cell_type": "code",
   "execution_count": 732,
   "metadata": {},
   "outputs": [],
   "source": [
    "def gini_hist(df,size):\n",
    "    fig, ax = plt.subplots(figsize=(size))\n",
    "    x = (df.sort_values('gini', ascending=False)['feature'])\n",
    "    y = (df.sort_values('gini', ascending=False)['gini'])\n",
    "    plt.bar(x,y)\n",
    "    plt.xlabel('feature')\n",
    "    plt.ylabel('gini')\n",
    "    plt.xticks(rotation=90)\n",
    "    plt.show()"
   ]
  },
  {
   "cell_type": "code",
   "execution_count": 715,
   "metadata": {},
   "outputs": [],
   "source": [
    "def gini_df(model,features,start,stop):\n",
    "    \n",
    "    data_gini = pd.DataFrame()\n",
    "    data_gini['feature'] = features\n",
    "    data_gini['gini'] = model.feature_importances_\n",
    "    return data_gini.sort_values('gini', ascending=False)[start:stop]"
   ]
  },
  {
   "cell_type": "code",
   "execution_count": 16,
   "metadata": {},
   "outputs": [],
   "source": [
    "def compair_metrics(data):\n",
    "    duplicate_count = []\n",
    "    duplicate_sum = []\n",
    "    for i in range(len(data)):\n",
    "        count=len(data[i])\n",
    "        duplicate_count.append(count)\n",
    "        if count <= 0:\n",
    "            duplicate_sum.append(0)\n",
    "        elif count > 0:\n",
    "            temp_sum = 0\n",
    "            for j in range(len(data[i])):\n",
    "                temp_sum +=len(data[i][j])\n",
    "            duplicate_sum.append(temp_sum)\n",
    "\n",
    "    return duplicate_count,duplicate_sum    "
   ]
  },
  {
   "cell_type": "code",
   "execution_count": 17,
   "metadata": {},
   "outputs": [],
   "source": [
    "def transliterate(data):\n",
    "    text_transliterate = []\n",
    "    for i in range(data.shape[0]):\n",
    "        temp_list = list(data[i:i+1])\n",
    "        temp_str = ''.join(temp_list)\n",
    "        result = cyrtranslit.to_latin(temp_str,'ru')\n",
    "        text_transliterate.append(result)\n",
    "    return text_transliterate"
   ]
  },
  {
   "cell_type": "code",
   "execution_count": 18,
   "metadata": {},
   "outputs": [],
   "source": [
    "def rename_agg_columns(id_client,data,rename):\n",
    "    columns = [id_client]\n",
    "    for lev_0 in data.columns.levels[0]:\n",
    "        if lev_0 != id_client:\n",
    "            for lev_1 in data.columns.levels[1][:-1]:\n",
    "                columns.append(rename % (lev_0, lev_1))\n",
    "    data.columns = columns\n",
    "    return data"
   ]
  },
  {
   "cell_type": "code",
   "execution_count": 19,
   "metadata": {},
   "outputs": [],
   "source": [
    "def dist_name_to_top_list_view(data,column1,column2,list_top_companies):\n",
    "    id_pair = []\n",
    "    r1 = []\n",
    "    r2 = []\n",
    "    words1 = []\n",
    "    words2 = []\n",
    "    top_words = []\n",
    "\n",
    "    for n in range(0, data.shape[0], 1):\n",
    "        for line1 in data[column1][n:n+1]:\n",
    "            line1 = line1.split()\n",
    "            for word1 in line1:\n",
    "                if len(word1) >=3:\n",
    "                    for top_word in list_top_companies:\n",
    "                        dist1 = levenshtein.distance(word1, top_word)\n",
    "                        ratio = max(dist1/float(len(top_word)),dist1/float(len(word1)))\n",
    "                        if ratio <= 0.4:\n",
    "                            ratio1 = ratio\n",
    "                            break\n",
    "                    if ratio <= 0.4:\n",
    "                        for line2 in data[column2][n:n+1]:\n",
    "                            line2 = line2.split()\n",
    "                            for word2 in line2:\n",
    "                                dist2 = levenshtein.distance(word2, top_word)\n",
    "                                ratio = max(dist2/float(len(top_word)),dist2/float(len(word2)))\n",
    "                                if ratio <= 0.4:\n",
    "                                    ratio2 = ratio\n",
    "                                    id_pair.append(int(data['pair_id'][n:n+1].values))\n",
    "                                    r1.append(ratio1)\n",
    "                                    r2.append(ratio2)\n",
    "                                    break\n",
    "\n",
    "    df = pd.DataFrame()\n",
    "    df['pair_id'] = id_pair\n",
    "    df['levenstein_dist_w1_top_w'] = dist1\n",
    "    df['levenstein_dist_w2_top_w'] = dist2\n",
    "    df['length_w1_top_w'] = len(word1)\n",
    "    df['length_w2_top_w'] = len(word2)\n",
    "    df['length_top_w'] = len(top_word)\n",
    "    df['ratio_dist_w1_to_top_w'] = r1\n",
    "    df['ratio_dist_w2_to_top_w'] = r2\n",
    "    feature = df.groupby(['pair_id']).agg([min]).reset_index()\n",
    "    feature = rename_agg_columns(id_client='pair_id',data=feature,rename='%s_%s')\n",
    "\n",
    "    data = data.merge(feature,on='pair_id',how='left')\n",
    "    display(data)\n",
    "    print ('Words:', word1,word2,top_word)\n",
    "    print ('Levenstein distance:',dist1,dist2)\n",
    "    print ('Length of word:',len(word1),len(word2),len(top_word))\n",
    "    print ('Ratio (distance/length word):',ratio1,ratio2)"
   ]
  },
  {
   "cell_type": "code",
   "execution_count": 20,
   "metadata": {},
   "outputs": [],
   "source": [
    "def dist_name_to_top_list_make(data,column1,column2,list_top_companies):\n",
    "    id_pair = []\n",
    "    r1 = []\n",
    "    r2 = []\n",
    "    dist_w1 = []\n",
    "    dist_w2 = []\n",
    "    length_w1 = []\n",
    "    length_w2 = []\n",
    "    length_top_w = []\n",
    "\n",
    "    for n in range(0, data.shape[0], 1):\n",
    "        for line1 in data[column1][n:n+1]:\n",
    "            line1 = line1.split()\n",
    "            for word1 in line1:\n",
    "                if len(word1) >=3:\n",
    "                    for top_word in list_top_companies:\n",
    "                        dist1 = levenshtein.distance(word1, top_word)\n",
    "                        ratio = max(dist1/float(len(top_word)),dist1/float(len(word1)))\n",
    "                        if ratio <= 0.4:\n",
    "                            ratio1 = ratio\n",
    "                            break\n",
    "                    if ratio <= 0.4:\n",
    "                        for line2 in data[column2][n:n+1]:\n",
    "                            line2 = line2.split()\n",
    "                            for word2 in line2:\n",
    "                                dist2 = levenshtein.distance(word2, top_word)\n",
    "                                ratio = max(dist2/float(len(top_word)),dist2/float(len(word2)))\n",
    "                                if ratio <= 0.4:\n",
    "                                    ratio2 = ratio\n",
    "                                    id_pair.append(int(data['pair_id'][n:n+1].values))\n",
    "                                    r1.append(ratio1)\n",
    "                                    r2.append(ratio2)\n",
    "                                    dist_w1.append(dist1)\n",
    "                                    dist_w2.append(dist2)\n",
    "                                    length_w1.append(float(len(word1)))\n",
    "                                    length_w2.append(float(len(word2)))\n",
    "                                    length_top_w.append(float(len(top_word)))\n",
    "                                    break\n",
    "\n",
    "    df = pd.DataFrame()\n",
    "    df['pair_id'] = id_pair\n",
    "    df['levenstein_dist_w1_top_w'] = dist_w1\n",
    "    df['levenstein_dist_w2_top_w'] = dist_w2\n",
    "    df['length_w1_top_w'] = length_w1\n",
    "    df['length_w2_top_w'] = length_w2\n",
    "    df['length_top_w'] = length_top_w\n",
    "    df['ratio_dist_w1_to_top_w'] = r1\n",
    "    df['ratio_dist_w2_to_top_w'] = r2\n",
    "    feature = df.groupby(['pair_id']).agg([min]).reset_index()\n",
    "    feature = rename_agg_columns(id_client='pair_id',data=feature,rename='%s_%s')\n",
    "\n",
    "    data = data.merge(feature,on='pair_id',how='left')\n",
    "    return data"
   ]
  },
  {
   "cell_type": "markdown",
   "metadata": {},
   "source": [
    "# Download data"
   ]
  },
  {
   "cell_type": "code",
   "execution_count": 21,
   "metadata": {},
   "outputs": [],
   "source": [
    "# DOWNLOAD DATA\n",
    "text_train = pd.read_csv('train.csv')\n",
    "text_test = pd.read_csv('test.csv')"
   ]
  },
  {
   "cell_type": "code",
   "execution_count": 22,
   "metadata": {},
   "outputs": [],
   "source": [
    "# RENAME DATA\n",
    "text_train = text_train.rename(columns={\"is_duplicate\": \"target\"})"
   ]
  },
  {
   "cell_type": "code",
   "execution_count": 23,
   "metadata": {},
   "outputs": [
    {
     "name": "stdout",
     "output_type": "stream",
     "text": [
      "There are 3658 objects with target 1\n",
      "There are 494161 objects with target 0\n",
      "Balance is 0.74 %\n"
     ]
    }
   ],
   "source": [
    "# ANALYSE BALANCE OF DATA\n",
    "target_1 = text_train[text_train['target']==1]['target'].count()\n",
    "target_0 = text_train[text_train['target']==0]['target'].count()\n",
    "\n",
    "print ('There are', target_1, 'objects with target 1')\n",
    "print ('There are', target_0, 'objects with target 0')\n",
    "print ('Balance is', round(100*target_1/target_0,2),'%')"
   ]
  },
  {
   "cell_type": "markdown",
   "metadata": {},
   "source": [
    "# Baseline data"
   ]
  },
  {
   "cell_type": "code",
   "execution_count": 24,
   "metadata": {},
   "outputs": [],
   "source": [
    "baseline_train = text_train.copy()\n",
    "baseline_test = text_test.copy()"
   ]
  },
  {
   "cell_type": "code",
   "execution_count": 25,
   "metadata": {},
   "outputs": [],
   "source": [
    "# convert text to lowercase\n",
    "columns = ['name_1','name_2']\n",
    "for column in columns:\n",
    "    lower_str(baseline_train,column)\n",
    "for column in columns:\n",
    "    lower_str(baseline_test,column)"
   ]
  },
  {
   "cell_type": "code",
   "execution_count": 26,
   "metadata": {},
   "outputs": [
    {
     "name": "stderr",
     "output_type": "stream",
     "text": [
      "100%|██████████| 249/249 [07:43<00:00,  1.86s/it]\n"
     ]
    }
   ],
   "source": [
    "# drop any names of countries\n",
    "countries = [country.name.lower() for country in pycountry.countries]\n",
    "for country in tqdm(countries):\n",
    "    baseline_train.replace(re.compile(country), \"\", inplace=True)\n",
    "    baseline_test.replace(re.compile(country), \"\", inplace=True)"
   ]
  },
  {
   "cell_type": "code",
   "execution_count": 27,
   "metadata": {},
   "outputs": [],
   "source": [
    "# drop punctuation marks\n",
    "baseline_train.replace(re.compile(r\"\\s+\\(.*\\)\"), \"\", inplace=True)\n",
    "baseline_test.replace(re.compile(r\"\\s+\\(.*\\)\"), \"\", inplace=True)\n",
    "\n",
    "baseline_train.replace(re.compile(r\"[^\\w\\s]\"), \"\", inplace=True)\n",
    "baseline_test.replace(re.compile(r\"[^\\w\\s]\"), \"\", inplace=True)"
   ]
  },
  {
   "cell_type": "code",
   "execution_count": 28,
   "metadata": {},
   "outputs": [],
   "source": [
    "# drop some stop-words\n",
    "drop_list = [\"ltd.\", \"co.\", \"inc.\", \"b.v.\", \"s.c.r.l.\", \"gmbh\", \"pvt.\",\n",
    "             \n",
    "             'retail','usa','asia','ceska republika','limited','tradig','llc','group',\n",
    "             'international','plc','retail','tire','mills','chemical','korea','brasil',\n",
    "             'holding','vietnam','tyre','venezuela','polska','americas','industrial','taiwan',\n",
    "             'europe','america','north','czech republic','retailers','retails',\n",
    "            \n",
    "            'mexicana','corporation','corp','ltd','co','toronto','nederland','shanghai','gmb','pacific',\n",
    "            'industries','industrias',\n",
    "            \n",
    "            'inc', 'ltda', 'ооо', 'зао', 'оао', 'пао', 'ceska republika', 'ltda', \n",
    "            'sibur', 'enterprises', 'electronics', 'products', 'distribution', 'logistics', 'development',\n",
    "            'technologies', 'pvt', 'technologies', 'comercio', 'industria', 'trading', 'internacionais', \n",
    "            'bank', 'sports',\n",
    "            \n",
    "            'express','east', 'west', 'south', 'north', 'factory', 'transportes', 'trade', 'banco',\n",
    "            'management', 'engineering', 'investments', 'enterprise', 'city', 'national', 'express', 'tech', \n",
    "            'auto', 'transporte', 'technology', 'and', 'central', 'american',\n",
    "            \n",
    "            'logistica','global','exportacao', 'ceska republika', 'vancouver', 'deutschland',\n",
    "            \n",
    "            'sro','rus','chemicals','private','distributors','tyres','industry','services','italia','beijing',\n",
    "            \n",
    "            'рус','company','the','und']\n",
    "\n",
    "baseline_train['name_1_non_stop_words'] =\\\n",
    "    baseline_train['name_1'].apply(\n",
    "    lambda x: ' '.join([word for word in x.split() if word not in (drop_list)]))\n",
    "baseline_train['name_2_non_stop_words'] =\\\n",
    "    baseline_train['name_2'].apply(\n",
    "    lambda x: ' '.join([word for word in x.split() if word not in (drop_list)]))\n",
    "\n",
    "baseline_test['name_1_non_stop_words'] =\\\n",
    "    baseline_test['name_1'].apply(\n",
    "    lambda x: ' '.join([word for word in x.split() if word not in (drop_list)]))\n",
    "baseline_test['name_2_non_stop_words'] =\\\n",
    "    baseline_test['name_2'].apply(\n",
    "    lambda x: ' '.join([word for word in x.split() if word not in (drop_list)]))"
   ]
  },
  {
   "cell_type": "code",
   "execution_count": 29,
   "metadata": {},
   "outputs": [],
   "source": [
    "# baseline_train[baseline_train.name_1.str.contains(\"vancouver\")]"
   ]
  },
  {
   "cell_type": "code",
   "execution_count": 30,
   "metadata": {},
   "outputs": [],
   "source": [
    "# transliteration to latin\n",
    "baseline_train['name_1_transliterated'] = transliterate(baseline_train['name_1_non_stop_words'])\n",
    "baseline_train['name_2_transliterated'] = transliterate(baseline_train['name_2_non_stop_words'])\n",
    "baseline_test['name_1_transliterated'] = transliterate(baseline_test['name_1_non_stop_words'])\n",
    "baseline_test['name_2_transliterated'] = transliterate(baseline_test['name_2_non_stop_words'])"
   ]
  },
  {
   "cell_type": "code",
   "execution_count": 31,
   "metadata": {},
   "outputs": [],
   "source": [
    "# pair_id = 353150\n",
    "# baseline_train[baseline_train['pair_id']==353150]"
   ]
  },
  {
   "cell_type": "code",
   "execution_count": 32,
   "metadata": {},
   "outputs": [],
   "source": [
    "# drop top 50 common words (NAME 1 & NAME 2) exept names of top companies\n",
    "\n",
    "# first: make dictionary of frequency every word\n",
    "list_words = baseline_train['name_1_transliterated'].to_string(index=False).split() +\\\n",
    "                baseline_train['name_2_transliterated'].to_string(index=False).split()\n",
    "freq_words = {}\n",
    "for w in list_words:\n",
    "    freq_words[w] = freq_words.get(w, 0) + 1\n",
    "    \n",
    "# # second: make data frame\n",
    "df_freq = pd.DataFrame.from_dict(freq_words,orient='index').reset_index()\n",
    "df_freq.columns = ['word','frequency']\n",
    "df_freq_agg = df_freq.groupby(['word']).agg([sum]).reset_index()\n",
    "df_freq_agg = rename_agg_columns(id_client='word',data=df_freq_agg,rename='%s_%s')\n",
    "df_freq_agg = df_freq_agg.sort_values(by=['frequency_sum'], ascending=False)\n",
    "drop_list = list(df_freq_agg[0:50]['word'].to_string(index=False).split())\n",
    "\n",
    "# # check list of top 50 common words\n",
    "# print (drop_list)\n",
    " \n",
    "# drop the top 50 words\n",
    "baseline_train['name_1_finish'] =\\\n",
    "    baseline_train['name_1_transliterated'].apply(\n",
    "    lambda x: ' '.join([word for word in x.split() if word not in (drop_list)]))\n",
    "baseline_train['name_2_finish'] =\\\n",
    "    baseline_train['name_2_transliterated'].apply(\n",
    "    lambda x: ' '.join([word for word in x.split() if word not in (drop_list)]))\n",
    "\n",
    "baseline_test['name_1_finish'] =\\\n",
    "    baseline_test['name_1_transliterated'].apply(\n",
    "    lambda x: ' '.join([word for word in x.split() if word not in (drop_list)]))\n",
    "baseline_test['name_2_finish'] =\\\n",
    "    baseline_test['name_2_transliterated'].apply(\n",
    "    lambda x: ' '.join([word for word in x.split() if word not in (drop_list)]))"
   ]
  },
  {
   "cell_type": "code",
   "execution_count": 194,
   "metadata": {},
   "outputs": [],
   "source": [
    "# list(df_freq_agg[50:75]['word'].to_string(index=False).split())"
   ]
  },
  {
   "cell_type": "code",
   "execution_count": 660,
   "metadata": {},
   "outputs": [],
   "source": [
    "# create matrix stop-words for TRAIN and merge it with main train dataset\n",
    "# There are three meanings for each stop word: 0,1,2\n",
    "# 0 - means no stop words in both companies of the pair\n",
    "# 1 - means one stop word in any company name from a pair\n",
    "# 2 - means that each company name from a pair has a stop word\n",
    "df_stop_words = pd.DataFrame()\n",
    "df_stop_words['pair_id'] = baseline_train['pair_id']\n",
    "\n",
    "list_stop_words = list(df_freq_agg[50:350]['word'].to_string(index=False).split())\n",
    "\n",
    "start = 0\n",
    "stop = baseline_train.shape[0]+1\n",
    "name_company = 'name_1_finish'\n",
    "df_stop_words[name_company] = baseline_train[name_company][start:stop]\n",
    "for stop_word in list_stop_words:\n",
    "    column = 'n1_%s' % stop_word\n",
    "    df_stop_words[column] = baseline_train[name_company][start:stop]\n",
    "    df_stop_words[column] = baseline_train[name_company][start:stop].apply(\n",
    "        lambda x: ' '.join(['1' for i in x.split() if i == stop_word]))\n",
    "    df_stop_words.loc[df_stop_words[column]!='',column]=1\n",
    "    df_stop_words.loc[df_stop_words[column]=='',column]=0\n",
    "\n",
    "    \n",
    "name_company = 'name_2_finish'\n",
    "df_stop_words[name_company] = baseline_train[name_company][start:stop]\n",
    "for stop_word in list_stop_words:\n",
    "    column = 'n2_%s' % stop_word\n",
    "    df_stop_words[column] = baseline_train[name_company][start:stop]\n",
    "    df_stop_words[column] = baseline_train[name_company][start:stop].apply(\n",
    "        lambda x: ' '.join(['1' for i in x.split() if i == stop_word]))\n",
    "    df_stop_words.loc[df_stop_words[column]!='',column]=1\n",
    "    df_stop_words.loc[df_stop_words[column]=='',column]=0    \n",
    "    \n",
    "\n",
    "    \n",
    "for stop_word in list_stop_words:   \n",
    "    column = '%s_sum' % stop_word\n",
    "    n1 = 'n1_%s' % stop_word\n",
    "    n2 = 'n2_%s' % stop_word\n",
    "    df_stop_words[column] = df_stop_words[n1] + df_stop_words[n2]\n",
    "    \n",
    "columns = list(df_stop_words.columns[-len(list_stop_words):])\n",
    "columns.append('pair_id')\n",
    "df_stop_words = df_stop_words[columns]\n",
    "\n",
    "baseline_train = baseline_train.merge(df_stop_words, on='pair_id', how='left')"
   ]
  },
  {
   "cell_type": "code",
   "execution_count": 661,
   "metadata": {},
   "outputs": [],
   "source": [
    "# create matrix stop-words for TEST and merge it with main train dataset\n",
    "# There are three meanings for each stop word: 0,1,2\n",
    "# 0 - means no stop words in both companies of the pair\n",
    "# 1 - means one stop word in any company name from a pair\n",
    "# 2 - means that each company name from a pair has a stop word\n",
    "df_stop_words = pd.DataFrame()\n",
    "df_stop_words['pair_id'] = baseline_test['pair_id']\n",
    "\n",
    "name_company = 'name_1_finish'\n",
    "df_stop_words[name_company] = baseline_test[name_company][start:stop]\n",
    "for stop_word in list_stop_words:\n",
    "    column = 'n1_%s' % stop_word\n",
    "    df_stop_words[column] = baseline_test[name_company][start:stop]\n",
    "    df_stop_words[column] = baseline_test[name_company][start:stop].apply(\n",
    "        lambda x: ' '.join(['1' for i in x.split() if i == stop_word]))\n",
    "    df_stop_words.loc[df_stop_words[column]!='',column]=1\n",
    "    df_stop_words.loc[df_stop_words[column]=='',column]=0\n",
    "\n",
    "    \n",
    "name_company = 'name_2_finish'\n",
    "df_stop_words[name_company] = baseline_test[name_company][start:stop]\n",
    "for stop_word in list_stop_words:\n",
    "    column = 'n2_%s' % stop_word\n",
    "    df_stop_words[column] = baseline_test[name_company][start:stop]\n",
    "    df_stop_words[column] = baseline_test[name_company][start:stop].apply(\n",
    "        lambda x: ' '.join(['1' for i in x.split() if i == stop_word]))\n",
    "    df_stop_words.loc[df_stop_words[column]!='',column]=1\n",
    "    df_stop_words.loc[df_stop_words[column]=='',column]=0    \n",
    "    \n",
    "\n",
    "    \n",
    "for stop_word in list_stop_words:   \n",
    "    column = '%s_sum' % stop_word\n",
    "    n1 = 'n1_%s' % stop_word\n",
    "    n2 = 'n2_%s' % stop_word\n",
    "    df_stop_words[column] = df_stop_words[n1] + df_stop_words[n2]\n",
    "    \n",
    "columns = list(df_stop_words.columns[-len(list_stop_words):])\n",
    "columns.append('pair_id')\n",
    "df_stop_words = df_stop_words[columns]\n",
    "\n",
    "baseline_test = baseline_test.merge(df_stop_words, on='pair_id', how='left')"
   ]
  },
  {
   "cell_type": "code",
   "execution_count": 659,
   "metadata": {},
   "outputs": [],
   "source": [
    "# print (list(baseline_test.columns))"
   ]
  },
  {
   "cell_type": "code",
   "execution_count": 657,
   "metadata": {},
   "outputs": [],
   "source": [
    "# baseline_test = baseline_test.drop(['i_sum', 'spa_sum', 'shoes_sum', 'soprema_sum', 'spinning_sum', 'industriales_sum', 'sociedad_sum', 'cargo_sum', 'sr_sum', 'freight_sum', 'sac_sum', 'equipment_sum', 'systems_sum', 'ta_sum', 'polymer_sum', 'z_sum', 'intl_sum', 'ticaret_sum', 'bridgestone_sum', 'transport_sum', 'new_sum', 'synthetic_sum', 'riintl_sum', 'm_sum', 'xiamen_sum', 'g_sum', 'precision_sum', 'material_sum', 'us_sum', 'supply_sum', 'sanayi_sum', 'sport_sum', 'total_sum', 'bv_sum', 'one_sum', 'to_sum', 'ace_sum', 'shipping_sum', 'parts_sum', 'world_sum', 'united_sum', 'nv_sum', 'anonima_sum', 'rubbers_sum', 'llp_sum', 'logistic_sum', 'kg_sum', 'comercial_sum', 'for_sum', '1_sum', 'com_sum', 'ds_sum', 'eia_sum', 'nad_sum', 'sto_sum', 'adhesives_sum', 'ningbo_sum', 'worldwide_sum', 'basf_sum', 'hardware_sum', 'electronic_sum', 'm2_sum', 'asphalt_sum', 'star_sum', 'nri_sum', 'pte_sum', 'oo_sum', 'chem_sum', 'gp_sum', 'acs_sum', 'mti_sum', 'marketing_sum', 'ict_sum', 'kia_sum', 'dsi_sum', 'product_sum', 'sam_sum', 'o_sum', 'asa_sum', 'traders_sum', 'textiles_sum', 'zhejiang_sum', 'dsa_sum', 'wa_sum', 'air_sum', 'trp_sum', 'pl_sum', 'forwarding_sum', 'stp_sum', 'trb_sum', 'productos_sum', 'oun_sum', 'energy_sum', 'construction_sum', 'gti_sum', 'hr_sum', 'gap_sum', 'sho_sum', 'ilg_sum', 'in_sum', 'zhongshan_sum', 'ca_sum', 'lg_sum', 'order_sum', 'quimica_sum', 'parker_sum', 'machinery_sum', 'del_sum', 'trans_sum', 'foshan_sum', 'sales_sum', 'zone_sum', 'aim_sum', 'importacao_sum', 'bitumen_sum', 'san_sum', 'overseas_sum', 'guangdong_sum', 'tex_sum', 'michelin_sum', 'performance_sum', 'sumitomo_sum', 'power_sum', 'elastomers_sum', 'psa_sum', 'building_sum', 'leather_sum', 'free_sum', 'medical_sum', 'light_sum', 'chain_sum', 'commercial_sum', 'continental_sum', 'metal_sum', 'sim_sum', 'hs_sum', 'eet_sum', 'lp_sum', 'tag_sum', 'suzhou_sum', 'afi_sum', 'lanka_sum', 'ib_sum', 'ocean_sum', 'electric_sum', 'utc_sum', 'prt_sum', 'limitada_sum', 'super_sum', 'shandong_sum', 'goods_sum', 'servicios_sum', 'quimicos_sum', 'union_sum', 'center_sum', 'universal_sum', 'brands_sum', 'est_sum', 'plasticos_sum', 'warehouse_sum', 'sarl_sum', 'produtos_sum', 'latex_sum', 'bonded_sum', 'jiangsu_sum', 'wll_sum', 'colas_sum', 'line_sum', 'footwear_sum', 'fu_sum', 'rfe_sum', 'rugby_sum', 'ecu_sum', 'adk_sum', 'iko_sum', 'dow_sum', '10_sum', 'specialty_sum', 'mrf_sum', 'bc_sum', 'dip_sum', 'uci_sum', 'henkel_sum', 'me_sum', 'samson_sum', 'mir_sum', 'port_sum', 'taban_sum', 'xin_sum', 'bel_sum', 'sika_sum', 'zeon_sum', '3_sum', 'sea_sum', 'taraki_sum', 'ind_sum', 'borracha_sum', 'dsl_sum', 'petrochemical_sum', 'kraton_sum', 'proba_1'],axis=1)"
   ]
  },
  {
   "cell_type": "code",
   "execution_count": 33,
   "metadata": {},
   "outputs": [],
   "source": [
    "# # fix the top 50 words\n",
    "# drop_list = ['srl', 'sa', 'al', 'k', 'do', 'rl', 'shenzhen', 'j', 'as', 'de', 'mfg', 'h', \n",
    "# 'dongguan', 'sdn', 'polymers', 'e', 'automotive', 'of', 'sas', 'guangzhou', 'ram', 'pt', 'rubber', \n",
    "# 'c', 'y', 'r', 'p', 'cv', 'qingdao', 'l', 'service', 'materials', 'exp', 'imp', 'textile', 'sp', 'd',\n",
    "# 'b', 'ag', 've', 's', 'a', 'itc', 'bhd', 'v', 'n', 'plastic', 'solutions', 'general', 'plastics']"
   ]
  },
  {
   "cell_type": "code",
   "execution_count": 34,
   "metadata": {},
   "outputs": [],
   "source": [
    "# baseline_train[baseline_train.name_1_finish.str.contains(\"logistic\")]"
   ]
  },
  {
   "cell_type": "markdown",
   "metadata": {},
   "source": [
    "# Features"
   ]
  },
  {
   "cell_type": "code",
   "execution_count": 35,
   "metadata": {},
   "outputs": [
    {
     "name": "stderr",
     "output_type": "stream",
     "text": [
      "100%|██████████| 497819/497819 [00:36<00:00, 13712.65it/s]\n",
      "100%|██████████| 213249/213249 [00:15<00:00, 13801.10it/s]\n"
     ]
    }
   ],
   "source": [
    "# create feature with LEVENSTAIN DISTANCE\n",
    "levenshtein = Levenshtein()\n",
    "column_1 = 'name_1_finish'\n",
    "column_2 = 'name_2_finish'\n",
    "\n",
    "baseline_train[\"levenstein\"] = baseline_train.progress_apply(\n",
    "    lambda r: levenshtein.distance(r[column_1], r[column_2]), axis=1)\n",
    "baseline_test[\"levenstein\"] = baseline_test.progress_apply(\n",
    "    lambda r: levenshtein.distance(r[column_1], r[column_2]), axis=1)"
   ]
  },
  {
   "cell_type": "code",
   "execution_count": 36,
   "metadata": {},
   "outputs": [
    {
     "name": "stderr",
     "output_type": "stream",
     "text": [
      "100%|██████████| 497819/497819 [00:36<00:00, 13477.52it/s]\n",
      "100%|██████████| 213249/213249 [00:15<00:00, 13668.28it/s]\n"
     ]
    }
   ],
   "source": [
    "# create feature with NORMALIZATION LEVENSTAIN DISTANCE\n",
    "normalized_levenshtein = NormalizedLevenshtein()\n",
    "column_1 = 'name_1_finish'\n",
    "column_2 = 'name_2_finish'\n",
    "\n",
    "baseline_train[\"norm_levenstein\"] = baseline_train.progress_apply(\n",
    "    lambda r: normalized_levenshtein.distance(r[column_1], r[column_2]),axis=1)\n",
    "baseline_test[\"norm_levenstein\"] = baseline_test.progress_apply(\n",
    "    lambda r: normalized_levenshtein.distance(r[column_1], r[column_2]),axis=1)"
   ]
  },
  {
   "cell_type": "code",
   "execution_count": 37,
   "metadata": {},
   "outputs": [],
   "source": [
    "# make some information about duplicates and differences for TRAIN\n",
    "column_1 = 'name_1_finish'\n",
    "column_2 = 'name_2_finish'\n",
    "\n",
    "duplicates = []\n",
    "difference = []\n",
    "\n",
    "for i in range(baseline_train.shape[0]):\n",
    "    list1 = list(baseline_train[i:i+1][column_1])\n",
    "    str1 = ''.join(list1).split()\n",
    "    list2 = list(baseline_train[i:i+1][column_2])\n",
    "    str2 = ''.join(list2).split()\n",
    "    \n",
    "    duplicates.append(list(set(str1) & set(str2)))\n",
    "    difference.append(list(set(str1).symmetric_difference(set(str2))))\n",
    "    \n",
    "# continue make information about duplicates\n",
    "duplicate_count,duplicate_sum = compair_metrics(duplicates)\n",
    "dif_count,dif_sum = compair_metrics(difference)"
   ]
  },
  {
   "cell_type": "code",
   "execution_count": 38,
   "metadata": {},
   "outputs": [],
   "source": [
    "# create features have information about duplicates and differences for TRAIN\n",
    "baseline_train['duplicate'] = duplicates\n",
    "baseline_train['difference'] = difference\n",
    "\n",
    "baseline_train['duplicate_count'] = duplicate_count\n",
    "baseline_train['duplicate_sum'] = duplicate_sum\n",
    "baseline_train['duplicate_mean'] = baseline_train['duplicate_sum'] / baseline_train['duplicate_count']\n",
    "baseline_train['duplicate_mean'] = baseline_train['duplicate_mean'].fillna(0)\n",
    "\n",
    "baseline_train['dif_count'] = dif_count\n",
    "baseline_train['dif_sum'] = dif_sum\n",
    "baseline_train['dif_mean'] = baseline_train['dif_sum'] / baseline_train['dif_count']\n",
    "baseline_train['dif_mean'] = baseline_train['dif_mean'].fillna(0)"
   ]
  },
  {
   "cell_type": "code",
   "execution_count": 39,
   "metadata": {},
   "outputs": [],
   "source": [
    "baseline_train['ratio_duplicate/dif_count'] = baseline_train['duplicate_count'] / baseline_train['dif_count']"
   ]
  },
  {
   "cell_type": "code",
   "execution_count": 40,
   "metadata": {},
   "outputs": [],
   "source": [
    "# make some information about duplicates and differences for TEST\n",
    "column_1 = 'name_1_finish'\n",
    "column_2 = 'name_2_finish'\n",
    "\n",
    "duplicates = []\n",
    "difference = []\n",
    "\n",
    "for i in range(baseline_test.shape[0]):\n",
    "    list1 = list(baseline_test[i:i+1][column_1])\n",
    "    str1 = ''.join(list1).split()\n",
    "    list2 = list(baseline_test[i:i+1][column_2])\n",
    "    str2 = ''.join(list2).split()\n",
    "    \n",
    "    duplicates.append(list(set(str1) & set(str2)))\n",
    "    difference.append(list(set(str1).symmetric_difference(set(str2))))\n",
    "    \n",
    "# continue make information about duplicates\n",
    "duplicate_count,duplicate_sum = compair_metrics(duplicates)\n",
    "dif_count,dif_sum = compair_metrics(difference)"
   ]
  },
  {
   "cell_type": "code",
   "execution_count": 41,
   "metadata": {},
   "outputs": [],
   "source": [
    "# create features have information about duplicates and differences for TEST\n",
    "baseline_test['duplicate'] = duplicates\n",
    "baseline_test['difference'] = difference\n",
    "\n",
    "baseline_test['duplicate_count'] = duplicate_count\n",
    "baseline_test['duplicate_sum'] = duplicate_sum\n",
    "baseline_test['duplicate_mean'] = baseline_test['duplicate_sum'] / baseline_test['duplicate_count']\n",
    "baseline_test['duplicate_mean'] = baseline_test['duplicate_mean'].fillna(0)\n",
    "\n",
    "baseline_test['dif_count'] = dif_count\n",
    "baseline_test['dif_sum'] = dif_sum\n",
    "baseline_test['dif_mean'] = baseline_test['dif_sum'] / baseline_test['dif_count']\n",
    "baseline_test['dif_mean'] = baseline_test['dif_mean'].fillna(0)"
   ]
  },
  {
   "cell_type": "code",
   "execution_count": 42,
   "metadata": {},
   "outputs": [],
   "source": [
    "baseline_test['ratio_duplicate/dif_count'] = baseline_test['duplicate_count'] / baseline_test['dif_count']"
   ]
  },
  {
   "cell_type": "markdown",
   "metadata": {},
   "source": [
    "# Baseline model cv for make predict as a feature for next model "
   ]
  },
  {
   "cell_type": "code",
   "execution_count": 665,
   "metadata": {
    "scrolled": true
   },
   "outputs": [
    {
     "data": {
      "text/plain": [
       "Index(['pair_id', 'name_1', 'name_2', 'target', 'name_1_non_stop_words',\n",
       "       'name_2_non_stop_words', 'name_1_transliterated',\n",
       "       'name_2_transliterated', 'name_1_finish', 'name_2_finish',\n",
       "       ...\n",
       "       'spolka_sum', 'holdings_sum', 'agility_sum', 'cjintl_sum', 'sons_sum',\n",
       "       'tires_sum', 'abb_sum', 'bva_sum', 'dba_sum', 'delta_sum'],\n",
       "      dtype='object', length=322)"
      ]
     },
     "execution_count": 665,
     "metadata": {},
     "output_type": "execute_result"
    }
   ],
   "source": [
    "baseline_train.columns"
   ]
  },
  {
   "cell_type": "code",
   "execution_count": 386,
   "metadata": {},
   "outputs": [],
   "source": [
    "# fix some features for FIRST model\n",
    "features = ['levenstein', 'norm_levenstein',\n",
    "    'duplicate_count', 'duplicate_sum', 'duplicate_mean', \n",
    "    'dif_count', 'dif_sum', 'dif_mean',\n",
    "    'ratio_duplicate/dif_count'\n",
    "            \n",
    "            ]\n",
    "seed = 42"
   ]
  },
  {
   "cell_type": "code",
   "execution_count": 387,
   "metadata": {},
   "outputs": [
    {
     "name": "stdout",
     "output_type": "stream",
     "text": [
      "Split baseline data train 497819\n",
      " - new train data: 398255\n",
      " - new test data: 99564\n"
     ]
    }
   ],
   "source": [
    "# provides train/test indices to split data in train/test sets\n",
    "split = StratifiedShuffleSplit(n_splits=1, train_size=0.8, random_state=seed)\n",
    "\n",
    "tridx, cvidx = list(split.split(baseline_train[features],\n",
    "                                baseline_train[\"target\"]))[0]\n",
    "\n",
    "print ('Split baseline data train',baseline_train.shape[0])\n",
    "print (' - new train data:',tridx.shape[0])\n",
    "print (' - new test data:',cvidx.shape[0])"
   ]
  },
  {
   "cell_type": "markdown",
   "metadata": {},
   "source": [
    "## Gradient boosting"
   ]
  },
  {
   "cell_type": "code",
   "execution_count": 388,
   "metadata": {},
   "outputs": [
    {
     "data": {
      "text/plain": [
       "LGBMClassifier(boosting_type='gbdt', class_weight=None, colsample_bytree=1.0,\n",
       "               importance_type='split', learning_rate=1, max_depth=10,\n",
       "               min_child_samples=5, min_child_weight=0.001, min_split_gain=0.0,\n",
       "               n_estimators=1, n_jobs=-1, num_leaves=31, objective='binary',\n",
       "               random_state=50, reg_alpha=0.0, reg_lambda=0.75, silent=True,\n",
       "               subsample=1.0, subsample_for_bin=200000, subsample_freq=0)"
      ]
     },
     "execution_count": 388,
     "metadata": {},
     "output_type": "execute_result"
    }
   ],
   "source": [
    "# learning Light GBM Classificier\n",
    "seed = 50\n",
    "params = {'n_estimators': 1,\n",
    "          'objective': 'binary',\n",
    "          'max_depth': 10,\n",
    "          'min_child_samples': 5,\n",
    "          'learning_rate': 1, \n",
    "          'reg_lambda': 0.75,\n",
    "#           'subsample': 0.75,\n",
    "#           'colsample_bytree': 0.4,\n",
    "#           'min_split_gain': 0.02,\n",
    "#           'min_child_weight': 40,\n",
    "          'random_state': seed}\n",
    "\n",
    "\n",
    "model = lgb.LGBMClassifier(**params)\n",
    "model.fit(baseline_train.iloc[tridx][features].values,\n",
    "          baseline_train.iloc[tridx][\"target\"].values)"
   ]
  },
  {
   "cell_type": "code",
   "execution_count": 389,
   "metadata": {},
   "outputs": [],
   "source": [
    "# make predict proba and predict target\n",
    "probability_level = 0.99\n",
    "X = baseline_train\n",
    "tridx = tridx\n",
    "cvidx = cvidx\n",
    "model = model\n",
    "\n",
    "X_tr, X_cv = contingency_table(X,features,probability_level,tridx,cvidx,model)\n",
    "\n",
    "train_matrix_confusion = matrix_confusion(X_tr)\n",
    "cv_matrix_confusion = matrix_confusion(X_cv)"
   ]
  },
  {
   "cell_type": "code",
   "execution_count": 390,
   "metadata": {},
   "outputs": [
    {
     "name": "stdout",
     "output_type": "stream",
     "text": [
      "\u001b[1mMatrix confusion on train data\u001b[m\n"
     ]
    },
    {
     "data": {
      "text/html": [
       "<div>\n",
       "<style scoped>\n",
       "    .dataframe tbody tr th:only-of-type {\n",
       "        vertical-align: middle;\n",
       "    }\n",
       "\n",
       "    .dataframe tbody tr th {\n",
       "        vertical-align: top;\n",
       "    }\n",
       "\n",
       "    .dataframe thead th {\n",
       "        text-align: right;\n",
       "    }\n",
       "</style>\n",
       "<table border=\"1\" class=\"dataframe\">\n",
       "  <thead>\n",
       "    <tr style=\"text-align: right;\">\n",
       "      <th></th>\n",
       "      <th>0_algorythm</th>\n",
       "      <th>1_algorythm</th>\n",
       "    </tr>\n",
       "  </thead>\n",
       "  <tbody>\n",
       "    <tr>\n",
       "      <th>0_target</th>\n",
       "      <td>393128.0</td>\n",
       "      <td>2201.0</td>\n",
       "    </tr>\n",
       "    <tr>\n",
       "      <th>1_target</th>\n",
       "      <td>522.0</td>\n",
       "      <td>2404.0</td>\n",
       "    </tr>\n",
       "  </tbody>\n",
       "</table>\n",
       "</div>"
      ],
      "text/plain": [
       "          0_algorythm  1_algorythm\n",
       "0_target     393128.0       2201.0\n",
       "1_target        522.0       2404.0"
      ]
     },
     "metadata": {},
     "output_type": "display_data"
    },
    {
     "name": "stdout",
     "output_type": "stream",
     "text": [
      "\n",
      "              precision    recall  f1-score   support\n",
      "\n",
      "           0       1.00      0.99      1.00    395329\n",
      "           1       0.52      0.82      0.64      2926\n",
      "\n",
      "    accuracy                           0.99    398255\n",
      "   macro avg       0.76      0.91      0.82    398255\n",
      "weighted avg       1.00      0.99      0.99    398255\n",
      "\n",
      "******************************************************\n",
      "\n",
      "\n",
      "\u001b[1mMatrix confusion on test(cv) data\u001b[m\n"
     ]
    },
    {
     "data": {
      "text/html": [
       "<div>\n",
       "<style scoped>\n",
       "    .dataframe tbody tr th:only-of-type {\n",
       "        vertical-align: middle;\n",
       "    }\n",
       "\n",
       "    .dataframe tbody tr th {\n",
       "        vertical-align: top;\n",
       "    }\n",
       "\n",
       "    .dataframe thead th {\n",
       "        text-align: right;\n",
       "    }\n",
       "</style>\n",
       "<table border=\"1\" class=\"dataframe\">\n",
       "  <thead>\n",
       "    <tr style=\"text-align: right;\">\n",
       "      <th></th>\n",
       "      <th>0_algorythm</th>\n",
       "      <th>1_algorythm</th>\n",
       "    </tr>\n",
       "  </thead>\n",
       "  <tbody>\n",
       "    <tr>\n",
       "      <th>0_target</th>\n",
       "      <td>98291.0</td>\n",
       "      <td>541.0</td>\n",
       "    </tr>\n",
       "    <tr>\n",
       "      <th>1_target</th>\n",
       "      <td>131.0</td>\n",
       "      <td>601.0</td>\n",
       "    </tr>\n",
       "  </tbody>\n",
       "</table>\n",
       "</div>"
      ],
      "text/plain": [
       "          0_algorythm  1_algorythm\n",
       "0_target      98291.0        541.0\n",
       "1_target        131.0        601.0"
      ]
     },
     "metadata": {},
     "output_type": "display_data"
    },
    {
     "name": "stdout",
     "output_type": "stream",
     "text": [
      "\n",
      "              precision    recall  f1-score   support\n",
      "\n",
      "           0       1.00      0.99      1.00     98832\n",
      "           1       0.53      0.82      0.64       732\n",
      "\n",
      "    accuracy                           0.99     99564\n",
      "   macro avg       0.76      0.91      0.82     99564\n",
      "weighted avg       1.00      0.99      0.99     99564\n",
      "\n",
      "******************************************************\n"
     ]
    }
   ],
   "source": [
    "# check the report\n",
    "report_score(train_matrix_confusion,\n",
    "             cv_matrix_confusion,\n",
    "             baseline_train,\n",
    "             tridx,cvidx,\n",
    "             X_tr,X_cv)"
   ]
  },
  {
   "cell_type": "code",
   "execution_count": 391,
   "metadata": {},
   "outputs": [],
   "source": [
    "# make vector of answers (only predict target, no proba predict) for use it in next model\n",
    "model = lgb.LGBMClassifier(**params)\n",
    "model.fit(baseline_train[features].values,\n",
    "          baseline_train[\"target\"].values)\n",
    "\n",
    "\n",
    "baseline_train['predict_1'] = (model.predict_proba(\n",
    "    baseline_train[features].values)[:, 1] > probability_level).astype(np.int)\n",
    "\n",
    "baseline_test['predict_1'] = (model.predict_proba(\n",
    "    baseline_test[features].values)[:, 1] > probability_level).astype(np.int)"
   ]
  },
  {
   "cell_type": "markdown",
   "metadata": {},
   "source": [
    "# Baseline model cv for make finish predict"
   ]
  },
  {
   "cell_type": "code",
   "execution_count": 666,
   "metadata": {
    "scrolled": false
   },
   "outputs": [
    {
     "name": "stdout",
     "output_type": "stream",
     "text": [
      "['pair_id', 'name_1', 'name_2', 'target', 'name_1_non_stop_words', 'name_2_non_stop_words', 'name_1_transliterated', 'name_2_transliterated', 'name_1_finish', 'name_2_finish', 'levenstein', 'norm_levenstein', 'duplicate', 'difference', 'duplicate_count', 'duplicate_sum', 'duplicate_mean', 'dif_count', 'dif_sum', 'dif_mean', 'ratio_duplicate/dif_count', 'predict_1', 'i_sum', 'spa_sum', 'shoes_sum', 'soprema_sum', 'spinning_sum', 'industriales_sum', 'sociedad_sum', 'cargo_sum', 'sr_sum', 'freight_sum', 'sac_sum', 'equipment_sum', 'systems_sum', 'ta_sum', 'polymer_sum', 'z_sum', 'intl_sum', 'ticaret_sum', 'bridgestone_sum', 'transport_sum', 'new_sum', 'synthetic_sum', 'riintl_sum', 'm_sum', 'xiamen_sum', 'g_sum', 'precision_sum', 'material_sum', 'us_sum', 'supply_sum', 'sanayi_sum', 'sport_sum', 'total_sum', 'bv_sum', 'one_sum', 'to_sum', 'ace_sum', 'shipping_sum', 'parts_sum', 'world_sum', 'united_sum', 'nv_sum', 'anonima_sum', 'rubbers_sum', 'llp_sum', 'logistic_sum', 'kg_sum', 'comercial_sum', 'for_sum', '1_sum', 'com_sum', 'ds_sum', 'eia_sum', 'nad_sum', 'sto_sum', 'adhesives_sum', 'ningbo_sum', 'worldwide_sum', 'basf_sum', 'hardware_sum', 'electronic_sum', 'm2_sum', 'asphalt_sum', 'star_sum', 'nri_sum', 'pte_sum', 'oo_sum', 'chem_sum', 'gp_sum', 'acs_sum', 'mti_sum', 'marketing_sum', 'ict_sum', 'kia_sum', 'dsi_sum', 'product_sum', 'sam_sum', 'o_sum', 'asa_sum', 'traders_sum', 'textiles_sum', 'zhejiang_sum', 'dsa_sum', 'wa_sum', 'air_sum', 'trp_sum', 'pl_sum', 'forwarding_sum', 'stp_sum', 'trb_sum', 'productos_sum', 'oun_sum', 'energy_sum', 'construction_sum', 'gti_sum', 'hr_sum', 'gap_sum', 'sho_sum', 'ilg_sum', 'in_sum', 'zhongshan_sum', 'ca_sum', 'lg_sum', 'order_sum', 'quimica_sum', 'parker_sum', 'machinery_sum', 'del_sum', 'trans_sum', 'foshan_sum', 'sales_sum', 'zone_sum', 'aim_sum', 'importacao_sum', 'bitumen_sum', 'san_sum', 'overseas_sum', 'guangdong_sum', 'tex_sum', 'michelin_sum', 'performance_sum', 'sumitomo_sum', 'power_sum', 'elastomers_sum', 'psa_sum', 'building_sum', 'leather_sum', 'free_sum', 'medical_sum', 'light_sum', 'chain_sum', 'commercial_sum', 'continental_sum', 'metal_sum', 'sim_sum', 'hs_sum', 'eet_sum', 'lp_sum', 'tag_sum', 'suzhou_sum', 'afi_sum', 'lanka_sum', 'ib_sum', 'ocean_sum', 'electric_sum', 'utc_sum', 'prt_sum', 'limitada_sum', 'super_sum', 'shandong_sum', 'goods_sum', 'servicios_sum', 'quimicos_sum', 'union_sum', 'center_sum', 'universal_sum', 'brands_sum', 'est_sum', 'plasticos_sum', 'warehouse_sum', 'sarl_sum', 'produtos_sum', 'latex_sum', 'bonded_sum', 'jiangsu_sum', 'wll_sum', 'colas_sum', 'line_sum', 'footwear_sum', 'fu_sum', 'rfe_sum', 'rugby_sum', 'ecu_sum', 'adk_sum', 'iko_sum', 'dow_sum', '10_sum', 'specialty_sum', 'mrf_sum', 'bc_sum', 'dip_sum', 'uci_sum', 'henkel_sum', 'me_sum', 'samson_sum', 'mir_sum', 'port_sum', 'taban_sum', 'xin_sum', 'bel_sum', 'sika_sum', 'zeon_sum', '3_sum', 'sea_sum', 'taraki_sum', 'ind_sum', 'borracha_sum', 'dsl_sum', 'petrochemical_sum', 'kraton_sum', 'steel_sum', 'alfa_sum', 'mb_sum', 'advanced_sum', 'motors_sum', 'yi_sum', 'comercializadora_sum', 'ex_sum', 'insaat_sum', 'amk_sum', 'pam_sum', 'plant_sum', 'fns_sum', 'wei_sum', 'ab_sum', 'artefatos_sum', 'eterna_sum', 'dong_sum', 'indage_sum', 'oriental_sum', 'reliance_sum', 'distribuidora_sum', 'tianjin_sum', 'epp_sum', 'oil_sum', 'master_sum', 't_sum', 'zhuhai_sum', 'vision_sum', 'eih_sum', 'paul_sum', 'goodyear_sum', 'da_sum', 'lt_sum', 'furniture_sum', 'paper_sum', 'gates_sum', 'carpet_sum', 'top_sum', 'lda_sum', 'packaging_sum', 'components_sum', 'foreign_sum', 'sl_sum', 'all_sum', 'tel_sum', 'home_sum', 'cnr_sum', 'hannifin_sum', 'techno_sum', 'huizhou_sum', 'shri_sum', 'el_sum', 'gap2_sum', 'upl_sum', 'asian_sum', 'grupo_sum', 'fujian_sum', 'toys_sum', 'tss_sum', 'bauder_sum', 'w_sum', 'kunshan_sum', 'na_sum', 'road_sum', 'samsung_sum', 'three_sum', 'technical_sum', 'mitsubishi_sum', 'vanguard_sum', 'pak_sum', 'yu_sum', 'tic_sum', 'compounds_sum', 'uip_sum', 'shoe_sum', 'science_sum', 'fashion_sum', 'mol_sum', 'kerry_sum', 'polyone_sum', 'green_sum', 'associates_sum', 'supplies_sum', 'pro_sum', 'sheng_sum', 'li_sum', 'mould_sum', 'sk_sum', 'doo_sum', 'spolka_sum', 'holdings_sum', 'agility_sum', 'cjintl_sum', 'sons_sum', 'tires_sum', 'abb_sum', 'bva_sum', 'dba_sum', 'delta_sum']\n"
     ]
    }
   ],
   "source": [
    "# check the columns\n",
    "print (list(baseline_train.columns))"
   ]
  },
  {
   "cell_type": "code",
   "execution_count": 669,
   "metadata": {},
   "outputs": [],
   "source": [
    "# fix some features\n",
    "features = ['predict_1',\n",
    "            \n",
    "            'i_sum', 'spa_sum', 'shoes_sum', 'soprema_sum', 'spinning_sum', 'industriales_sum', 'sociedad_sum', 'cargo_sum', 'sr_sum', 'freight_sum', 'sac_sum', 'equipment_sum', 'systems_sum', 'ta_sum', 'polymer_sum', 'z_sum', 'intl_sum', 'ticaret_sum', 'bridgestone_sum', 'transport_sum', 'new_sum', 'synthetic_sum', 'riintl_sum', 'm_sum', 'xiamen_sum', 'g_sum', 'precision_sum', 'material_sum', 'us_sum', 'supply_sum', 'sanayi_sum', 'sport_sum', 'total_sum', 'bv_sum', 'one_sum', 'to_sum', 'ace_sum', 'shipping_sum', 'parts_sum', 'world_sum', 'united_sum', 'nv_sum', 'anonima_sum', 'rubbers_sum', 'llp_sum', 'logistic_sum', 'kg_sum', 'comercial_sum', 'for_sum', '1_sum', 'com_sum', 'ds_sum', 'eia_sum', 'nad_sum', 'sto_sum', 'adhesives_sum', 'ningbo_sum', 'worldwide_sum', 'basf_sum', 'hardware_sum', 'electronic_sum', 'm2_sum', 'asphalt_sum', 'star_sum', 'nri_sum', 'pte_sum', 'oo_sum', 'chem_sum', 'gp_sum', 'acs_sum', 'mti_sum', 'marketing_sum', 'ict_sum', 'kia_sum', 'dsi_sum', 'product_sum', 'sam_sum', 'o_sum', 'asa_sum', 'traders_sum', 'textiles_sum', 'zhejiang_sum', 'dsa_sum', 'wa_sum', 'air_sum', 'trp_sum', 'pl_sum', 'forwarding_sum', 'stp_sum', 'trb_sum', 'productos_sum', 'oun_sum', 'energy_sum', 'construction_sum', 'gti_sum', 'hr_sum', 'gap_sum', 'sho_sum', 'ilg_sum', 'in_sum', 'zhongshan_sum', 'ca_sum', 'lg_sum', 'order_sum', 'quimica_sum', 'parker_sum', 'machinery_sum', 'del_sum', 'trans_sum', 'foshan_sum', 'sales_sum', 'zone_sum', 'aim_sum', 'importacao_sum', 'bitumen_sum', 'san_sum', 'overseas_sum', 'guangdong_sum', 'tex_sum', 'michelin_sum', 'performance_sum', 'sumitomo_sum', 'power_sum', 'elastomers_sum', 'psa_sum', 'building_sum', 'leather_sum', 'free_sum', 'medical_sum', 'light_sum', 'chain_sum', 'commercial_sum', 'continental_sum', 'metal_sum', 'sim_sum', 'hs_sum', 'eet_sum', 'lp_sum', 'tag_sum', 'suzhou_sum', 'afi_sum', 'lanka_sum', 'ib_sum', 'ocean_sum', 'electric_sum', 'utc_sum', 'prt_sum', 'limitada_sum', 'super_sum', 'shandong_sum', 'goods_sum', 'servicios_sum', 'quimicos_sum', 'union_sum', 'center_sum', 'universal_sum', 'brands_sum', 'est_sum', 'plasticos_sum', 'warehouse_sum', 'sarl_sum', 'produtos_sum', 'latex_sum', 'bonded_sum', 'jiangsu_sum', 'wll_sum', 'colas_sum', 'line_sum', 'footwear_sum', 'fu_sum', 'rfe_sum', 'rugby_sum', 'ecu_sum', 'adk_sum', 'iko_sum', 'dow_sum', '10_sum', 'specialty_sum', 'mrf_sum', 'bc_sum', 'dip_sum', 'uci_sum', 'henkel_sum', 'me_sum', 'samson_sum', 'mir_sum', 'port_sum', 'taban_sum', 'xin_sum', 'bel_sum', 'sika_sum', 'zeon_sum', '3_sum', 'sea_sum', 'taraki_sum', 'ind_sum', 'borracha_sum', 'dsl_sum', 'petrochemical_sum', 'kraton_sum', 'steel_sum', 'alfa_sum', 'mb_sum', 'advanced_sum', 'motors_sum', 'yi_sum', 'comercializadora_sum', 'ex_sum', 'insaat_sum', 'amk_sum', 'pam_sum', 'plant_sum', 'fns_sum', 'wei_sum', 'ab_sum', 'artefatos_sum', 'eterna_sum', 'dong_sum', 'indage_sum', 'oriental_sum', 'reliance_sum', 'distribuidora_sum', 'tianjin_sum', 'epp_sum', 'oil_sum', 'master_sum', 't_sum', 'zhuhai_sum', 'vision_sum', 'eih_sum', 'paul_sum', 'goodyear_sum', 'da_sum', 'lt_sum', 'furniture_sum', 'paper_sum', 'gates_sum', 'carpet_sum', 'top_sum', 'lda_sum', 'packaging_sum', 'components_sum', 'foreign_sum', 'sl_sum', 'all_sum', 'tel_sum', 'home_sum', 'cnr_sum', 'hannifin_sum', 'techno_sum', 'huizhou_sum', 'shri_sum', 'el_sum', 'gap2_sum', 'upl_sum', 'asian_sum', 'grupo_sum', 'fujian_sum', 'toys_sum', 'tss_sum', 'bauder_sum', 'w_sum', 'kunshan_sum', 'na_sum', 'road_sum', 'samsung_sum', 'three_sum', 'technical_sum', 'mitsubishi_sum', 'vanguard_sum', 'pak_sum', 'yu_sum', 'tic_sum', 'compounds_sum', 'uip_sum', 'shoe_sum', 'science_sum', 'fashion_sum', 'mol_sum', 'kerry_sum', 'polyone_sum', 'green_sum', 'associates_sum', 'supplies_sum', 'pro_sum', 'sheng_sum', 'li_sum', 'mould_sum', 'sk_sum', 'doo_sum', 'spolka_sum', 'holdings_sum', 'agility_sum', 'cjintl_sum', 'sons_sum', 'tires_sum', 'abb_sum', 'bva_sum', 'dba_sum', 'delta_sum'\n",
    "            \n",
    "            ]\n",
    "seed = 42"
   ]
  },
  {
   "cell_type": "code",
   "execution_count": 670,
   "metadata": {},
   "outputs": [
    {
     "name": "stdout",
     "output_type": "stream",
     "text": [
      "Split baseline data train 497819\n",
      " - new train data: 398255\n",
      " - new test data: 99564\n"
     ]
    }
   ],
   "source": [
    "# provides train/test indices to split data in train/test sets\n",
    "split = StratifiedShuffleSplit(n_splits=1, train_size=0.8, random_state=seed)\n",
    "\n",
    "tridx, cvidx = list(split.split(baseline_train[features],\n",
    "                                baseline_train[\"target\"]))[0]\n",
    "\n",
    "print ('Split baseline data train',baseline_train.shape[0])\n",
    "print (' - new train data:',tridx.shape[0])\n",
    "print (' - new test data:',cvidx.shape[0])"
   ]
  },
  {
   "cell_type": "markdown",
   "metadata": {},
   "source": [
    "## Gradient boosting"
   ]
  },
  {
   "cell_type": "code",
   "execution_count": 671,
   "metadata": {},
   "outputs": [
    {
     "data": {
      "text/plain": [
       "DecisionTreeClassifier(ccp_alpha=0.0, class_weight=None, criterion='gini',\n",
       "                       max_depth=None, max_features=None, max_leaf_nodes=None,\n",
       "                       min_impurity_decrease=0.0, min_impurity_split=None,\n",
       "                       min_samples_leaf=1, min_samples_split=2,\n",
       "                       min_weight_fraction_leaf=0.0, presort='deprecated',\n",
       "                       random_state=50, splitter='best')"
      ]
     },
     "execution_count": 671,
     "metadata": {},
     "output_type": "execute_result"
    }
   ],
   "source": [
    "# learning decision tree classifier from sklearn\n",
    "seed = 50\n",
    "\n",
    "model = DecisionTreeClassifier(random_state=seed)\n",
    "model.fit(baseline_train.iloc[tridx][features].values,\n",
    "          baseline_train.iloc[tridx][\"target\"].values)"
   ]
  },
  {
   "cell_type": "code",
   "execution_count": 752,
   "metadata": {},
   "outputs": [],
   "source": [
    "# make predict proba and predict target\n",
    "probability_level = 0.47\n",
    "X = baseline_train\n",
    "tridx = tridx\n",
    "cvidx = cvidx\n",
    "model = model\n",
    "\n",
    "X_tr, X_cv = contingency_table(X,features,probability_level,tridx,cvidx,model)\n",
    "\n",
    "train_matrix_confusion = matrix_confusion(X_tr)\n",
    "cv_matrix_confusion = matrix_confusion(X_cv)"
   ]
  },
  {
   "cell_type": "code",
   "execution_count": 753,
   "metadata": {},
   "outputs": [
    {
     "name": "stdout",
     "output_type": "stream",
     "text": [
      "\u001b[1mMatrix confusion on train data\u001b[m\n"
     ]
    },
    {
     "data": {
      "text/html": [
       "<div>\n",
       "<style scoped>\n",
       "    .dataframe tbody tr th:only-of-type {\n",
       "        vertical-align: middle;\n",
       "    }\n",
       "\n",
       "    .dataframe tbody tr th {\n",
       "        vertical-align: top;\n",
       "    }\n",
       "\n",
       "    .dataframe thead th {\n",
       "        text-align: right;\n",
       "    }\n",
       "</style>\n",
       "<table border=\"1\" class=\"dataframe\">\n",
       "  <thead>\n",
       "    <tr style=\"text-align: right;\">\n",
       "      <th></th>\n",
       "      <th>0_algorythm</th>\n",
       "      <th>1_algorythm</th>\n",
       "    </tr>\n",
       "  </thead>\n",
       "  <tbody>\n",
       "    <tr>\n",
       "      <th>0_target</th>\n",
       "      <td>394650.0</td>\n",
       "      <td>679.0</td>\n",
       "    </tr>\n",
       "    <tr>\n",
       "      <th>1_target</th>\n",
       "      <td>344.0</td>\n",
       "      <td>2582.0</td>\n",
       "    </tr>\n",
       "  </tbody>\n",
       "</table>\n",
       "</div>"
      ],
      "text/plain": [
       "          0_algorythm  1_algorythm\n",
       "0_target     394650.0        679.0\n",
       "1_target        344.0       2582.0"
      ]
     },
     "metadata": {},
     "output_type": "display_data"
    },
    {
     "name": "stdout",
     "output_type": "stream",
     "text": [
      "\n",
      "              precision    recall  f1-score   support\n",
      "\n",
      "           0       1.00      1.00      1.00    395329\n",
      "           1       0.79      0.88      0.83      2926\n",
      "\n",
      "    accuracy                           1.00    398255\n",
      "   macro avg       0.90      0.94      0.92    398255\n",
      "weighted avg       1.00      1.00      1.00    398255\n",
      "\n",
      "******************************************************\n",
      "\n",
      "\n",
      "\u001b[1mMatrix confusion on test(cv) data\u001b[m\n"
     ]
    },
    {
     "data": {
      "text/html": [
       "<div>\n",
       "<style scoped>\n",
       "    .dataframe tbody tr th:only-of-type {\n",
       "        vertical-align: middle;\n",
       "    }\n",
       "\n",
       "    .dataframe tbody tr th {\n",
       "        vertical-align: top;\n",
       "    }\n",
       "\n",
       "    .dataframe thead th {\n",
       "        text-align: right;\n",
       "    }\n",
       "</style>\n",
       "<table border=\"1\" class=\"dataframe\">\n",
       "  <thead>\n",
       "    <tr style=\"text-align: right;\">\n",
       "      <th></th>\n",
       "      <th>0_algorythm</th>\n",
       "      <th>1_algorythm</th>\n",
       "    </tr>\n",
       "  </thead>\n",
       "  <tbody>\n",
       "    <tr>\n",
       "      <th>0_target</th>\n",
       "      <td>98632.0</td>\n",
       "      <td>200.0</td>\n",
       "    </tr>\n",
       "    <tr>\n",
       "      <th>1_target</th>\n",
       "      <td>95.0</td>\n",
       "      <td>637.0</td>\n",
       "    </tr>\n",
       "  </tbody>\n",
       "</table>\n",
       "</div>"
      ],
      "text/plain": [
       "          0_algorythm  1_algorythm\n",
       "0_target      98632.0        200.0\n",
       "1_target         95.0        637.0"
      ]
     },
     "metadata": {},
     "output_type": "display_data"
    },
    {
     "name": "stdout",
     "output_type": "stream",
     "text": [
      "\n",
      "              precision    recall  f1-score   support\n",
      "\n",
      "           0       1.00      1.00      1.00     98832\n",
      "           1       0.76      0.87      0.81       732\n",
      "\n",
      "    accuracy                           1.00     99564\n",
      "   macro avg       0.88      0.93      0.91     99564\n",
      "weighted avg       1.00      1.00      1.00     99564\n",
      "\n",
      "******************************************************\n"
     ]
    }
   ],
   "source": [
    "# check the report\n",
    "report_score(train_matrix_confusion,\n",
    "             cv_matrix_confusion,\n",
    "             baseline_train,\n",
    "             tridx,cvidx,\n",
    "             X_tr,X_cv)"
   ]
  },
  {
   "cell_type": "code",
   "execution_count": 736,
   "metadata": {},
   "outputs": [
    {
     "data": {
      "text/plain": [
       "Index(['pair_id', 'name_1', 'name_2', 'target', 'name_1_non_stop_words',\n",
       "       'name_2_non_stop_words', 'name_1_transliterated',\n",
       "       'name_2_transliterated', 'name_1_finish', 'name_2_finish',\n",
       "       ...\n",
       "       'abb_sum', 'bva_sum', 'dba_sum', 'delta_sum', 'predict_proba',\n",
       "       'predict_target', 'True_Positive', 'False_Positive', 'True_Negative',\n",
       "       'False_Negative'],\n",
       "      dtype='object', length=328)"
      ]
     },
     "execution_count": 736,
     "metadata": {},
     "output_type": "execute_result"
    }
   ],
   "source": [
    "X_tr.columns"
   ]
  },
  {
   "cell_type": "code",
   "execution_count": 756,
   "metadata": {},
   "outputs": [],
   "source": [
    "# X_cv[X_cv['False_Positive']==1][[\n",
    "#     'pair_id','name_1','name_2','target','name_1_finish','name_2_finish','predict_proba','predict_1',\n",
    "#     'predict_target'\n",
    "# ]][50:100]"
   ]
  },
  {
   "cell_type": "code",
   "execution_count": 755,
   "metadata": {},
   "outputs": [],
   "source": [
    "# X_cv[X_cv['total_sum']==2][[\n",
    "#     'pair_id','name_1','name_2','target','name_1_finish','name_2_finish','total_sum','predict_proba','predict_target'\n",
    "# ]][0:50]"
   ]
  },
  {
   "cell_type": "code",
   "execution_count": 734,
   "metadata": {
    "scrolled": false
   },
   "outputs": [
    {
     "data": {
      "image/png": "[encoded data removed]",
      "text/plain": [
       "<Figure size 864x432 with 1 Axes>"
      ]
     },
     "metadata": {},
     "output_type": "display_data"
    },
    {
     "data": {
      "text/html": [
       "<div>\n",
       "<style scoped>\n",
       "    .dataframe tbody tr th:only-of-type {\n",
       "        vertical-align: middle;\n",
       "    }\n",
       "\n",
       "    .dataframe tbody tr th {\n",
       "        vertical-align: top;\n",
       "    }\n",
       "\n",
       "    .dataframe thead th {\n",
       "        text-align: right;\n",
       "    }\n",
       "</style>\n",
       "<table border=\"1\" class=\"dataframe\">\n",
       "  <thead>\n",
       "    <tr style=\"text-align: right;\">\n",
       "      <th></th>\n",
       "      <th>feature</th>\n",
       "      <th>gini</th>\n",
       "    </tr>\n",
       "  </thead>\n",
       "  <tbody>\n",
       "    <tr>\n",
       "      <th>19</th>\n",
       "      <td>bridgestone_sum</td>\n",
       "      <td>0.076210</td>\n",
       "    </tr>\n",
       "    <tr>\n",
       "      <th>59</th>\n",
       "      <td>basf_sum</td>\n",
       "      <td>0.043418</td>\n",
       "    </tr>\n",
       "    <tr>\n",
       "      <th>4</th>\n",
       "      <td>soprema_sum</td>\n",
       "      <td>0.042593</td>\n",
       "    </tr>\n",
       "    <tr>\n",
       "      <th>120</th>\n",
       "      <td>michelin_sum</td>\n",
       "      <td>0.036383</td>\n",
       "    </tr>\n",
       "    <tr>\n",
       "      <th>122</th>\n",
       "      <td>sumitomo_sum</td>\n",
       "      <td>0.021798</td>\n",
       "    </tr>\n",
       "    <tr>\n",
       "      <th>191</th>\n",
       "      <td>sika_sum</td>\n",
       "      <td>0.021270</td>\n",
       "    </tr>\n",
       "    <tr>\n",
       "      <th>221</th>\n",
       "      <td>reliance_sum</td>\n",
       "      <td>0.016626</td>\n",
       "    </tr>\n",
       "    <tr>\n",
       "      <th>176</th>\n",
       "      <td>dow_sum</td>\n",
       "      <td>0.012227</td>\n",
       "    </tr>\n",
       "    <tr>\n",
       "      <th>33</th>\n",
       "      <td>total_sum</td>\n",
       "      <td>0.010648</td>\n",
       "    </tr>\n",
       "    <tr>\n",
       "      <th>200</th>\n",
       "      <td>kraton_sum</td>\n",
       "      <td>0.010415</td>\n",
       "    </tr>\n",
       "    <tr>\n",
       "      <th>192</th>\n",
       "      <td>zeon_sum</td>\n",
       "      <td>0.009937</td>\n",
       "    </tr>\n",
       "    <tr>\n",
       "      <th>225</th>\n",
       "      <td>oil_sum</td>\n",
       "      <td>0.009320</td>\n",
       "    </tr>\n",
       "    <tr>\n",
       "      <th>66</th>\n",
       "      <td>pte_sum</td>\n",
       "      <td>0.008878</td>\n",
       "    </tr>\n",
       "    <tr>\n",
       "      <th>38</th>\n",
       "      <td>shipping_sum</td>\n",
       "      <td>0.004970</td>\n",
       "    </tr>\n",
       "    <tr>\n",
       "      <th>175</th>\n",
       "      <td>iko_sum</td>\n",
       "      <td>0.004613</td>\n",
       "    </tr>\n",
       "    <tr>\n",
       "      <th>2</th>\n",
       "      <td>spa_sum</td>\n",
       "      <td>0.004306</td>\n",
       "    </tr>\n",
       "    <tr>\n",
       "      <th>47</th>\n",
       "      <td>kg_sum</td>\n",
       "      <td>0.003838</td>\n",
       "    </tr>\n",
       "    <tr>\n",
       "      <th>231</th>\n",
       "      <td>paul_sum</td>\n",
       "      <td>0.003169</td>\n",
       "    </tr>\n",
       "    <tr>\n",
       "      <th>133</th>\n",
       "      <td>continental_sum</td>\n",
       "      <td>0.003121</td>\n",
       "    </tr>\n",
       "    <tr>\n",
       "      <th>10</th>\n",
       "      <td>freight_sum</td>\n",
       "      <td>0.002537</td>\n",
       "    </tr>\n",
       "    <tr>\n",
       "      <th>48</th>\n",
       "      <td>comercial_sum</td>\n",
       "      <td>0.002497</td>\n",
       "    </tr>\n",
       "    <tr>\n",
       "      <th>8</th>\n",
       "      <td>cargo_sum</td>\n",
       "      <td>0.002134</td>\n",
       "    </tr>\n",
       "    <tr>\n",
       "      <th>7</th>\n",
       "      <td>sociedad_sum</td>\n",
       "      <td>0.001978</td>\n",
       "    </tr>\n",
       "    <tr>\n",
       "      <th>16</th>\n",
       "      <td>z_sum</td>\n",
       "      <td>0.001788</td>\n",
       "    </tr>\n",
       "    <tr>\n",
       "      <th>117</th>\n",
       "      <td>overseas_sum</td>\n",
       "      <td>0.001727</td>\n",
       "    </tr>\n",
       "    <tr>\n",
       "      <th>121</th>\n",
       "      <td>performance_sum</td>\n",
       "      <td>0.001663</td>\n",
       "    </tr>\n",
       "    <tr>\n",
       "      <th>142</th>\n",
       "      <td>lanka_sum</td>\n",
       "      <td>0.001653</td>\n",
       "    </tr>\n",
       "    <tr>\n",
       "      <th>164</th>\n",
       "      <td>bonded_sum</td>\n",
       "      <td>0.001641</td>\n",
       "    </tr>\n",
       "    <tr>\n",
       "      <th>41</th>\n",
       "      <td>united_sum</td>\n",
       "      <td>0.001571</td>\n",
       "    </tr>\n",
       "    <tr>\n",
       "      <th>5</th>\n",
       "      <td>spinning_sum</td>\n",
       "      <td>0.001521</td>\n",
       "    </tr>\n",
       "    <tr>\n",
       "      <th>58</th>\n",
       "      <td>worldwide_sum</td>\n",
       "      <td>0.001478</td>\n",
       "    </tr>\n",
       "    <tr>\n",
       "      <th>36</th>\n",
       "      <td>to_sum</td>\n",
       "      <td>0.001472</td>\n",
       "    </tr>\n",
       "    <tr>\n",
       "      <th>109</th>\n",
       "      <td>trans_sum</td>\n",
       "      <td>0.001471</td>\n",
       "    </tr>\n",
       "    <tr>\n",
       "      <th>34</th>\n",
       "      <td>bv_sum</td>\n",
       "      <td>0.001469</td>\n",
       "    </tr>\n",
       "    <tr>\n",
       "      <th>88</th>\n",
       "      <td>forwarding_sum</td>\n",
       "      <td>0.001461</td>\n",
       "    </tr>\n",
       "    <tr>\n",
       "      <th>15</th>\n",
       "      <td>polymer_sum</td>\n",
       "      <td>0.001410</td>\n",
       "    </tr>\n",
       "    <tr>\n",
       "      <th>111</th>\n",
       "      <td>sales_sum</td>\n",
       "      <td>0.001328</td>\n",
       "    </tr>\n",
       "    <tr>\n",
       "      <th>105</th>\n",
       "      <td>quimica_sum</td>\n",
       "      <td>0.001317</td>\n",
       "    </tr>\n",
       "    <tr>\n",
       "      <th>80</th>\n",
       "      <td>traders_sum</td>\n",
       "      <td>0.001292</td>\n",
       "    </tr>\n",
       "    <tr>\n",
       "      <th>68</th>\n",
       "      <td>chem_sum</td>\n",
       "      <td>0.001264</td>\n",
       "    </tr>\n",
       "    <tr>\n",
       "      <th>205</th>\n",
       "      <td>motors_sum</td>\n",
       "      <td>0.001237</td>\n",
       "    </tr>\n",
       "    <tr>\n",
       "      <th>196</th>\n",
       "      <td>ind_sum</td>\n",
       "      <td>0.001235</td>\n",
       "    </tr>\n",
       "    <tr>\n",
       "      <th>40</th>\n",
       "      <td>world_sum</td>\n",
       "      <td>0.001218</td>\n",
       "    </tr>\n",
       "    <tr>\n",
       "      <th>132</th>\n",
       "      <td>commercial_sum</td>\n",
       "      <td>0.001215</td>\n",
       "    </tr>\n",
       "    <tr>\n",
       "      <th>212</th>\n",
       "      <td>plant_sum</td>\n",
       "      <td>0.001190</td>\n",
       "    </tr>\n",
       "    <tr>\n",
       "      <th>44</th>\n",
       "      <td>rubbers_sum</td>\n",
       "      <td>0.001162</td>\n",
       "    </tr>\n",
       "    <tr>\n",
       "      <th>1</th>\n",
       "      <td>i_sum</td>\n",
       "      <td>0.001156</td>\n",
       "    </tr>\n",
       "    <tr>\n",
       "      <th>3</th>\n",
       "      <td>shoes_sum</td>\n",
       "      <td>0.001148</td>\n",
       "    </tr>\n",
       "    <tr>\n",
       "      <th>72</th>\n",
       "      <td>marketing_sum</td>\n",
       "      <td>0.001141</td>\n",
       "    </tr>\n",
       "  </tbody>\n",
       "</table>\n",
       "</div>"
      ],
      "text/plain": [
       "             feature      gini\n",
       "19   bridgestone_sum  0.076210\n",
       "59          basf_sum  0.043418\n",
       "4        soprema_sum  0.042593\n",
       "120     michelin_sum  0.036383\n",
       "122     sumitomo_sum  0.021798\n",
       "191         sika_sum  0.021270\n",
       "221     reliance_sum  0.016626\n",
       "176          dow_sum  0.012227\n",
       "33         total_sum  0.010648\n",
       "200       kraton_sum  0.010415\n",
       "192         zeon_sum  0.009937\n",
       "225          oil_sum  0.009320\n",
       "66           pte_sum  0.008878\n",
       "38      shipping_sum  0.004970\n",
       "175          iko_sum  0.004613\n",
       "2            spa_sum  0.004306\n",
       "47            kg_sum  0.003838\n",
       "231         paul_sum  0.003169\n",
       "133  continental_sum  0.003121\n",
       "10       freight_sum  0.002537\n",
       "48     comercial_sum  0.002497\n",
       "8          cargo_sum  0.002134\n",
       "7       sociedad_sum  0.001978\n",
       "16             z_sum  0.001788\n",
       "117     overseas_sum  0.001727\n",
       "121  performance_sum  0.001663\n",
       "142        lanka_sum  0.001653\n",
       "164       bonded_sum  0.001641\n",
       "41        united_sum  0.001571\n",
       "5       spinning_sum  0.001521\n",
       "58     worldwide_sum  0.001478\n",
       "36            to_sum  0.001472\n",
       "109        trans_sum  0.001471\n",
       "34            bv_sum  0.001469\n",
       "88    forwarding_sum  0.001461\n",
       "15       polymer_sum  0.001410\n",
       "111        sales_sum  0.001328\n",
       "105      quimica_sum  0.001317\n",
       "80       traders_sum  0.001292\n",
       "68          chem_sum  0.001264\n",
       "205       motors_sum  0.001237\n",
       "196          ind_sum  0.001235\n",
       "40         world_sum  0.001218\n",
       "132   commercial_sum  0.001215\n",
       "212        plant_sum  0.001190\n",
       "44       rubbers_sum  0.001162\n",
       "1              i_sum  0.001156\n",
       "3          shoes_sum  0.001148\n",
       "72     marketing_sum  0.001141"
      ]
     },
     "metadata": {},
     "output_type": "display_data"
    }
   ],
   "source": [
    "start = 1\n",
    "stop = 50\n",
    "size = (12,6)\n",
    "\n",
    "df = gini_df(model,features,start,stop)\n",
    "gini_hist(df,size)\n",
    "display(df)"
   ]
  },
  {
   "cell_type": "markdown",
   "metadata": {},
   "source": [
    "# Gradient boosting submission to SIBUR"
   ]
  },
  {
   "cell_type": "code",
   "execution_count": 757,
   "metadata": {},
   "outputs": [
    {
     "data": {
      "text/plain": [
       "DecisionTreeClassifier(ccp_alpha=0.0, class_weight=None, criterion='gini',\n",
       "                       max_depth=None, max_features=None, max_leaf_nodes=None,\n",
       "                       min_impurity_decrease=0.0, min_impurity_split=None,\n",
       "                       min_samples_leaf=1, min_samples_split=2,\n",
       "                       min_weight_fraction_leaf=0.0, presort='deprecated',\n",
       "                       random_state=50, splitter='best')"
      ]
     },
     "execution_count": 757,
     "metadata": {},
     "output_type": "execute_result"
    }
   ],
   "source": [
    "model = DecisionTreeClassifier(random_state=seed)\n",
    "model.fit(baseline_train[features].values,\n",
    "          baseline_train[\"target\"].values)"
   ]
  },
  {
   "cell_type": "code",
   "execution_count": 758,
   "metadata": {},
   "outputs": [],
   "source": [
    "sample_sub = pd.read_csv('sample_submission.csv', index_col=\"pair_id\")\n",
    "\n",
    "sample_sub['is_duplicate'] = (model.predict_proba(\n",
    "    baseline_test[features].values)[:, 1] > probability_level).astype(np.int)"
   ]
  },
  {
   "cell_type": "code",
   "execution_count": 759,
   "metadata": {},
   "outputs": [],
   "source": [
    "sample_sub.to_csv('baseline_submission.csv')"
   ]
  },
  {
   "cell_type": "markdown",
   "metadata": {},
   "source": [
    "# SCORE (f1 on test samples): 0.5346"
   ]
  }
 ],
 "metadata": {
  "kernelspec": {
   "display_name": "Python 3",
   "language": "python",
   "name": "python3"
  },
  "language_info": {
   "codemirror_mode": {
    "name": "ipython",
    "version": 3
   },
   "file_extension": ".py",
   "mimetype": "text/x-python",
   "name": "python",
   "nbconvert_exporter": "python",
   "pygments_lexer": "ipython3",
   "version": "3.7.6"
  }
 },
 "nbformat": 4,
 "nbformat_minor": 4
}
