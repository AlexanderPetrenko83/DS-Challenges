{
 "cells": [
  {
   "cell_type": "markdown",
   "metadata": {},
   "source": [
    "# Import libraries"
   ]
  },
  {
   "cell_type": "code",
   "execution_count": 5,
   "metadata": {},
   "outputs": [],
   "source": [
    "import pandas as pd\n",
    "import numpy as np\n",
    "\n",
    "import warnings\n",
    "warnings.filterwarnings('ignore')\n",
    "\n",
    "import pycountry\n",
    "import re\n",
    "\n",
    "from tqdm import tqdm\n",
    "tqdm.pandas()\n",
    "\n",
    "from strsimpy.levenshtein import Levenshtein\n",
    "from strsimpy.normalized_levenshtein import NormalizedLevenshtein\n",
    "\n",
    "import matplotlib.pyplot as plt\n",
    "from matplotlib.pyplot import figure\n",
    "\n",
    "import seaborn as sns\n",
    "sns.set()\n",
    "sns.set_style(\"whitegrid\")\n",
    "\n",
    "from sklearn.model_selection import train_test_split\n",
    "from sklearn.model_selection import StratifiedKFold\n",
    "from sklearn.model_selection import StratifiedShuffleSplit\n",
    "\n",
    "from scipy.sparse import csr_matrix\n",
    "\n",
    "import lightgbm as lgb\n",
    "from sklearn.linear_model import LogisticRegression\n",
    "\n",
    "from sklearn.metrics import accuracy_score\n",
    "from sklearn.metrics import recall_score\n",
    "from sklearn.metrics import precision_score\n",
    "from sklearn.metrics import roc_auc_score\n",
    "\n",
    "from sklearn.metrics import classification_report, f1_score\n",
    "\n",
    "\n",
    "# import googletrans\n",
    "# from googletrans import Translator\n",
    "import cyrtranslit"
   ]
  },
  {
   "cell_type": "markdown",
   "metadata": {},
   "source": [
    "# Functions"
   ]
  },
  {
   "cell_type": "code",
   "execution_count": 6,
   "metadata": {},
   "outputs": [],
   "source": [
    "# convert text to lowercase\n",
    "def lower_str(data,column):\n",
    "    data[column] = data[column].str.lower()"
   ]
  },
  {
   "cell_type": "code",
   "execution_count": 7,
   "metadata": {},
   "outputs": [],
   "source": [
    "# statistic table for analyse float values (it needs to make histogramms and boxplots)\n",
    "def data_statistics(data,analyse,title_print):\n",
    "\n",
    "    data0 = data[data['target']==0][analyse]\n",
    "    data1 = data[data['target']==1][analyse]\n",
    "\n",
    "    data_describe = pd.DataFrame()\n",
    "    data_describe['target_0'] = data0.describe()\n",
    "    data_describe['target_1'] = data1.describe()\n",
    "    data_describe = data_describe.T\n",
    "    \n",
    "    if title_print == 'yes':\n",
    "        print ('\\033[1m' + 'Дополнительные статистики по признаку',analyse,'\\033[m') \n",
    "    elif title_print == 'no':\n",
    "        None\n",
    "    \n",
    "    return data_describe"
   ]
  },
  {
   "cell_type": "code",
   "execution_count": 8,
   "metadata": {},
   "outputs": [],
   "source": [
    "# histogramms for float values\n",
    "def hist_fz(data,data_describe,analyse,size):\n",
    "    print ()\n",
    "    print ('\\033[1m' + 'Information about',analyse,'\\033[m')\n",
    "    print ()\n",
    "    \n",
    "    data_0 = data[data['target'] == 0][analyse]\n",
    "    data_1 = data[data['target'] == 1][analyse]\n",
    "    \n",
    "    min_data = data_describe['min'].min()\n",
    "    max_data = data_describe['max'].max()\n",
    "    \n",
    "    data0_mean = data_describe.loc['target_0']['mean']\n",
    "    data0_median = data_describe.loc['target_0']['50%']\n",
    "    data0_min = data_describe.loc['target_0']['min']\n",
    "    data0_max = data_describe.loc['target_0']['max']\n",
    "    data0_count = data_describe.loc['target_0']['count']\n",
    "    \n",
    "    \n",
    "    data1_mean = data_describe.loc['target_1']['mean']\n",
    "    data1_median = data_describe.loc['target_1']['50%'] \n",
    "    data1_min = data_describe.loc['target_1']['min']\n",
    "    data1_max = data_describe.loc['target_1']['max']\n",
    "    data1_count = data_describe.loc['target_1']['count']\n",
    "    \n",
    "    \n",
    "    print ('\\033[4m' + 'Analyse'+ '\\033[m','No duplicates')\n",
    "    \n",
    "    figure(figsize=size)\n",
    "    sns.distplot(data_0,color='darkgreen',kde = False)\n",
    "    \n",
    "    plt.scatter(data0_mean,0,s=200,marker='o',c='dimgray',label='Mean')\n",
    "    plt.scatter(data0_median,0,s=250,marker='|',c='black',label='Median')\n",
    "    plt.legend(scatterpoints=1,\n",
    "               loc='upper right',\n",
    "               ncol=3,\n",
    "               fontsize=16)\n",
    "    plt.xlim(min_data, max_data)\n",
    "    plt.show()\n",
    "    print ('Quantity:', data0_count,\n",
    "           '         Min:', round(data0_min,2),\n",
    "           '         Max:', round(data0_max,2),\n",
    "           '         Mean:', round(data0_mean,2),\n",
    "           '         Median:', round(data0_median,2))\n",
    "    \n",
    "    print ()\n",
    "    print ('\\033[4m' + 'Analyse'+ '\\033[m','Duplicates')\n",
    "    \n",
    "    figure(figsize=size)\n",
    "    sns.distplot(data_1,color='darkred',kde = False)\n",
    "    plt.scatter(data1_mean,0,s=200,marker='o',c='dimgray',label='Mean')\n",
    "    plt.scatter(data1_median,0,s=250,marker='|',c='black',label='Median')\n",
    "    plt.legend(scatterpoints=1,\n",
    "               loc='upper right',\n",
    "               ncol=3,\n",
    "               fontsize=16)\n",
    "    plt.xlim(min_data, max_data)\n",
    "    plt.show()\n",
    "    print ('Quantity:', data_1.count(),\n",
    "           '         Min:', round(data1_min,2),\n",
    "           '         Max:', round(data1_max,2),\n",
    "           '         Mean:', round(data1_mean,2),\n",
    "           '         Median:', round(data1_median,2))"
   ]
  },
  {
   "cell_type": "code",
   "execution_count": 9,
   "metadata": {},
   "outputs": [],
   "source": [
    "# draw boxplot\n",
    "def boxplot(data,analyse,size):\n",
    "    print ('\\033[4m' + 'Analyse'+ '\\033[m','All pairs')\n",
    "    \n",
    "    data_0 = data[data['target'] == 0][analyse]\n",
    "    data_1 = data[data['target'] == 1][analyse]\n",
    "    \n",
    "    figure(figsize=size)\n",
    "    sns.boxplot(x=analyse,y='target',data=data,orient='h',\n",
    "                showmeans=True,                \n",
    "                meanprops={\"marker\":\"o\",\n",
    "                           \"markerfacecolor\":\"dimgray\", \n",
    "                           \"markeredgecolor\":\"black\",\n",
    "                          \"markersize\":\"14\"},\n",
    "               palette=['palegreen', 'salmon'])\n",
    "    plt.ylabel('target', size=14)\n",
    "    plt.xlabel(analyse, size=14)\n",
    "    plt.show()"
   ]
  },
  {
   "cell_type": "code",
   "execution_count": 10,
   "metadata": {},
   "outputs": [],
   "source": [
    "# draw graph for analyse two choosing features for predict traget label\n",
    "def two_features(data,analyse1,analyse2,size):\n",
    "    fig = plt.subplots(figsize=size)\n",
    "    \n",
    "    x0 = data[data['target']==0][analyse1]\n",
    "    y0 = data[data['target']==0][analyse2]\n",
    "    x1 = data[data['target']==1][analyse1]\n",
    "    y1 = data[data['target']==1][analyse2]\n",
    "    \n",
    "    plt.scatter(x0,y0,c='green',marker='.')\n",
    "    plt.scatter(x1,y1,c='black',marker='+')\n",
    "    plt.xlabel(analyse1)\n",
    "    plt.ylabel(analyse2)\n",
    "    title = [analyse1,analyse2]\n",
    "    plt.title(title)\n",
    "    plt.show()"
   ]
  },
  {
   "cell_type": "code",
   "execution_count": 11,
   "metadata": {},
   "outputs": [],
   "source": [
    "def contingency_table(X,features,probability_level,tridx,cvidx,model):\n",
    "    tr_predict_proba = model.predict_proba(X.iloc[tridx][features].values)\n",
    "    cv_predict_proba = model.predict_proba(X.iloc[cvidx][features].values)\n",
    "\n",
    "    tr_predict_target = (tr_predict_proba[:, 1] > probability_level).astype(np.int)\n",
    "    cv_predict_target = (cv_predict_proba[:, 1] > probability_level).astype(np.int)\n",
    "\n",
    "    X_tr = X.iloc[tridx]\n",
    "    X_cv = X.iloc[cvidx]\n",
    "\n",
    "    X_tr['predict_proba'] = tr_predict_proba[:,1]\n",
    "    X_cv['predict_proba'] = cv_predict_proba[:,1]\n",
    "\n",
    "    X_tr['predict_target'] = tr_predict_target\n",
    "    X_cv['predict_target'] = cv_predict_target\n",
    "\n",
    "    # make true positive column\n",
    "    data = pd.DataFrame(X_tr[X_tr['target']==1][X_tr['predict_target']==1]['pair_id'])\n",
    "    data['True_Positive'] = 1\n",
    "    X_tr = X_tr.merge(data,on='pair_id',how='left')\n",
    "\n",
    "    data = pd.DataFrame(X_cv[X_cv['target']==1][X_cv['predict_target']==1]['pair_id'])\n",
    "    data['True_Positive'] = 1\n",
    "    X_cv = X_cv.merge(data,on='pair_id',how='left')\n",
    "\n",
    "    # make false positive column\n",
    "    data = pd.DataFrame(X_tr[X_tr['target']==0][X_tr['predict_target']==1]['pair_id'])\n",
    "    data['False_Positive'] = 1\n",
    "    X_tr = X_tr.merge(data,on='pair_id',how='left')\n",
    "\n",
    "    data = pd.DataFrame(X_cv[X_cv['target']==0][X_cv['predict_target']==1]['pair_id'])\n",
    "    data['False_Positive'] = 1\n",
    "    X_cv = X_cv.merge(data,on='pair_id',how='left')\n",
    "\n",
    "    # make true negative column\n",
    "    data = pd.DataFrame(X_tr[X_tr['target']==0][X_tr['predict_target']==0]['pair_id'])\n",
    "    data['True_Negative'] = 1\n",
    "    X_tr = X_tr.merge(data,on='pair_id',how='left')\n",
    "\n",
    "    data = pd.DataFrame(X_cv[X_cv['target']==0][X_cv['predict_target']==0]['pair_id'])\n",
    "    data['True_Negative'] = 1\n",
    "    X_cv = X_cv.merge(data,on='pair_id',how='left')\n",
    "\n",
    "    # make false negative column\n",
    "    data = pd.DataFrame(X_tr[X_tr['target']==1][X_tr['predict_target']==0]['pair_id'])\n",
    "    data['False_Negative'] = 1\n",
    "    X_tr = X_tr.merge(data,on='pair_id',how='left')\n",
    "\n",
    "    data = pd.DataFrame(X_cv[X_cv['target']==1][X_cv['predict_target']==0]['pair_id'])\n",
    "    data['False_Negative'] = 1\n",
    "    X_cv = X_cv.merge(data,on='pair_id',how='left')\n",
    "    \n",
    "    return X_tr,X_cv"
   ]
  },
  {
   "cell_type": "code",
   "execution_count": 12,
   "metadata": {},
   "outputs": [],
   "source": [
    "def matrix_confusion(X):\n",
    "\n",
    "    list_matrix = ['True_Positive','False_Positive','True_Negative','False_Negative']\n",
    "\n",
    "    tr_pos = X[list_matrix].sum().loc['True_Positive']\n",
    "    f_pos = X[list_matrix].sum().loc['False_Positive']\n",
    "    tr_neg = X[list_matrix].sum().loc['True_Negative']\n",
    "    f_neg = X[list_matrix].sum().loc['False_Negative']\n",
    "    matrix_confusion = pd.DataFrame()\n",
    "    matrix_confusion['0_algorythm'] = np.array([tr_neg,f_neg]).T\n",
    "    matrix_confusion['1_algorythm'] = np.array([f_pos,tr_pos]).T\n",
    "    matrix_confusion = matrix_confusion.rename(index={0: '0_target', 1: '1_target'})\n",
    "    \n",
    "    return matrix_confusion"
   ]
  },
  {
   "cell_type": "code",
   "execution_count": 13,
   "metadata": {},
   "outputs": [],
   "source": [
    "def report_score(tr_matrix_confusion,\n",
    "                 cv_matrix_confusion,\n",
    "                 data,tridx,cvidx,\n",
    "                 X_tr,X_cv):\n",
    "    # print some imporatant information\n",
    "    print ('\\033[1m'+'Matrix confusion on train data'+'\\033[m')\n",
    "    display(tr_matrix_confusion)\n",
    "    print ()\n",
    "    print(classification_report(data.iloc[tridx][\"target\"].values, X_tr['predict_target']))\n",
    "    print ('******************************************************')\n",
    "    print ()\n",
    "    print ()\n",
    "    print ('\\033[1m'+'Matrix confusion on test(cv) data'+'\\033[m')\n",
    "    display(cv_matrix_confusion)\n",
    "    print ()\n",
    "    print(classification_report(data.iloc[cvidx][\"target\"].values, X_cv['predict_target']))\n",
    "    print ('******************************************************')"
   ]
  },
  {
   "cell_type": "code",
   "execution_count": 14,
   "metadata": {},
   "outputs": [],
   "source": [
    "def table_gain_coef(model,features,start,stop):\n",
    "    \n",
    "    data_gain = pd.DataFrame()\n",
    "    data_gain['Features'] = features\n",
    "    data_gain['Gain'] = model.booster_.feature_importance(importance_type='gain')\n",
    "    return data_gain.sort_values('Gain', ascending=False)[start:stop]"
   ]
  },
  {
   "cell_type": "code",
   "execution_count": 15,
   "metadata": {},
   "outputs": [],
   "source": [
    "def gain_hist(df,size,start,stop):\n",
    "    fig, ax = plt.subplots(figsize=(size))\n",
    "    x = (df.sort_values('Gain', ascending=False)['Features'][start:stop])\n",
    "    y = (df.sort_values('Gain', ascending=False)['Gain'][start:stop])\n",
    "    plt.bar(x,y)\n",
    "    plt.xlabel('Features')\n",
    "    plt.ylabel('Gain')\n",
    "    plt.xticks(rotation=90)\n",
    "    plt.show()"
   ]
  },
  {
   "cell_type": "code",
   "execution_count": 16,
   "metadata": {},
   "outputs": [],
   "source": [
    "def compair_metrics(data):\n",
    "    duplicate_count = []\n",
    "    duplicate_sum = []\n",
    "    for i in range(len(data)):\n",
    "        count=len(data[i])\n",
    "        duplicate_count.append(count)\n",
    "        if count <= 0:\n",
    "            duplicate_sum.append(0)\n",
    "        elif count > 0:\n",
    "            temp_sum = 0\n",
    "            for j in range(len(data[i])):\n",
    "                temp_sum +=len(data[i][j])\n",
    "            duplicate_sum.append(temp_sum)\n",
    "\n",
    "    return duplicate_count,duplicate_sum    "
   ]
  },
  {
   "cell_type": "code",
   "execution_count": 17,
   "metadata": {},
   "outputs": [],
   "source": [
    "def transliterate(data):\n",
    "    text_transliterate = []\n",
    "    for i in range(data.shape[0]):\n",
    "        temp_list = list(data[i:i+1])\n",
    "        temp_str = ''.join(temp_list)\n",
    "        result = cyrtranslit.to_latin(temp_str,'ru')\n",
    "        text_transliterate.append(result)\n",
    "    return text_transliterate"
   ]
  },
  {
   "cell_type": "code",
   "execution_count": 18,
   "metadata": {},
   "outputs": [],
   "source": [
    "def rename_agg_columns(id_client,data,rename):\n",
    "    columns = [id_client]\n",
    "    for lev_0 in data.columns.levels[0]:\n",
    "        if lev_0 != id_client:\n",
    "            for lev_1 in data.columns.levels[1][:-1]:\n",
    "                columns.append(rename % (lev_0, lev_1))\n",
    "    data.columns = columns\n",
    "    return data"
   ]
  },
  {
   "cell_type": "code",
   "execution_count": 19,
   "metadata": {},
   "outputs": [],
   "source": [
    "def dist_name_to_top_list_view(data,column1,column2,list_top_companies):\n",
    "    id_pair = []\n",
    "    r1 = []\n",
    "    r2 = []\n",
    "    words1 = []\n",
    "    words2 = []\n",
    "    top_words = []\n",
    "\n",
    "    for n in range(0, data.shape[0], 1):\n",
    "        for line1 in data[column1][n:n+1]:\n",
    "            line1 = line1.split()\n",
    "            for word1 in line1:\n",
    "                if len(word1) >=3:\n",
    "                    for top_word in list_top_companies:\n",
    "                        dist1 = levenshtein.distance(word1, top_word)\n",
    "                        ratio = max(dist1/float(len(top_word)),dist1/float(len(word1)))\n",
    "                        if ratio <= 0.4:\n",
    "                            ratio1 = ratio\n",
    "                            break\n",
    "                    if ratio <= 0.4:\n",
    "                        for line2 in data[column2][n:n+1]:\n",
    "                            line2 = line2.split()\n",
    "                            for word2 in line2:\n",
    "                                dist2 = levenshtein.distance(word2, top_word)\n",
    "                                ratio = max(dist2/float(len(top_word)),dist2/float(len(word2)))\n",
    "                                if ratio <= 0.4:\n",
    "                                    ratio2 = ratio\n",
    "                                    id_pair.append(int(data['pair_id'][n:n+1].values))\n",
    "                                    r1.append(ratio1)\n",
    "                                    r2.append(ratio2)\n",
    "                                    break\n",
    "\n",
    "    df = pd.DataFrame()\n",
    "    df['pair_id'] = id_pair\n",
    "    df['levenstein_dist_w1_top_w'] = dist1\n",
    "    df['levenstein_dist_w2_top_w'] = dist2\n",
    "    df['length_w1_top_w'] = len(word1)\n",
    "    df['length_w2_top_w'] = len(word2)\n",
    "    df['length_top_w'] = len(top_word)\n",
    "    df['ratio_dist_w1_to_top_w'] = r1\n",
    "    df['ratio_dist_w2_to_top_w'] = r2\n",
    "    feature = df.groupby(['pair_id']).agg([min]).reset_index()\n",
    "    feature = rename_agg_columns(id_client='pair_id',data=feature,rename='%s_%s')\n",
    "\n",
    "    data = data.merge(feature,on='pair_id',how='left')\n",
    "    display(data)\n",
    "    print ('Words:', word1,word2,top_word)\n",
    "    print ('Levenstein distance:',dist1,dist2)\n",
    "    print ('Length of word:',len(word1),len(word2),len(top_word))\n",
    "    print ('Ratio (distance/length word):',ratio1,ratio2)"
   ]
  },
  {
   "cell_type": "code",
   "execution_count": 20,
   "metadata": {},
   "outputs": [],
   "source": [
    "def dist_name_to_top_list_make(data,column1,column2,list_top_companies):\n",
    "    id_pair = []\n",
    "    r1 = []\n",
    "    r2 = []\n",
    "    dist_w1 = []\n",
    "    dist_w2 = []\n",
    "    length_w1 = []\n",
    "    length_w2 = []\n",
    "    length_top_w = []\n",
    "\n",
    "    for n in range(0, data.shape[0], 1):\n",
    "        for line1 in data[column1][n:n+1]:\n",
    "            line1 = line1.split()\n",
    "            for word1 in line1:\n",
    "                if len(word1) >=3:\n",
    "                    for top_word in list_top_companies:\n",
    "                        dist1 = levenshtein.distance(word1, top_word)\n",
    "                        ratio = max(dist1/float(len(top_word)),dist1/float(len(word1)))\n",
    "                        if ratio <= 0.4:\n",
    "                            ratio1 = ratio\n",
    "                            break\n",
    "                    if ratio <= 0.4:\n",
    "                        for line2 in data[column2][n:n+1]:\n",
    "                            line2 = line2.split()\n",
    "                            for word2 in line2:\n",
    "                                dist2 = levenshtein.distance(word2, top_word)\n",
    "                                ratio = max(dist2/float(len(top_word)),dist2/float(len(word2)))\n",
    "                                if ratio <= 0.4:\n",
    "                                    ratio2 = ratio\n",
    "                                    id_pair.append(int(data['pair_id'][n:n+1].values))\n",
    "                                    r1.append(ratio1)\n",
    "                                    r2.append(ratio2)\n",
    "                                    dist_w1.append(dist1)\n",
    "                                    dist_w2.append(dist2)\n",
    "                                    length_w1.append(float(len(word1)))\n",
    "                                    length_w2.append(float(len(word2)))\n",
    "                                    length_top_w.append(float(len(top_word)))\n",
    "                                    break\n",
    "\n",
    "    df = pd.DataFrame()\n",
    "    df['pair_id'] = id_pair\n",
    "    df['levenstein_dist_w1_top_w'] = dist_w1\n",
    "    df['levenstein_dist_w2_top_w'] = dist_w2\n",
    "    df['length_w1_top_w'] = length_w1\n",
    "    df['length_w2_top_w'] = length_w2\n",
    "    df['length_top_w'] = length_top_w\n",
    "    df['ratio_dist_w1_to_top_w'] = r1\n",
    "    df['ratio_dist_w2_to_top_w'] = r2\n",
    "    feature = df.groupby(['pair_id']).agg([min]).reset_index()\n",
    "    feature = rename_agg_columns(id_client='pair_id',data=feature,rename='%s_%s')\n",
    "\n",
    "    data = data.merge(feature,on='pair_id',how='left')\n",
    "    return data"
   ]
  },
  {
   "cell_type": "markdown",
   "metadata": {},
   "source": [
    "# Download data"
   ]
  },
  {
   "cell_type": "code",
   "execution_count": 21,
   "metadata": {},
   "outputs": [],
   "source": [
    "# DOWNLOAD DATA\n",
    "text_train = pd.read_csv('train.csv')\n",
    "text_test = pd.read_csv('test.csv')"
   ]
  },
  {
   "cell_type": "code",
   "execution_count": 22,
   "metadata": {},
   "outputs": [],
   "source": [
    "# RENAME DATA\n",
    "text_train = text_train.rename(columns={\"is_duplicate\": \"target\"})"
   ]
  },
  {
   "cell_type": "code",
   "execution_count": 23,
   "metadata": {},
   "outputs": [
    {
     "name": "stdout",
     "output_type": "stream",
     "text": [
      "There are 3658 objects with target 1\n",
      "There are 494161 objects with target 0\n",
      "Balance is 0.74 %\n"
     ]
    }
   ],
   "source": [
    "# ANALYSE BALANCE OF DATA\n",
    "target_1 = text_train[text_train['target']==1]['target'].count()\n",
    "target_0 = text_train[text_train['target']==0]['target'].count()\n",
    "\n",
    "print ('There are', target_1, 'objects with target 1')\n",
    "print ('There are', target_0, 'objects with target 0')\n",
    "print ('Balance is', round(100*target_1/target_0,2),'%')"
   ]
  },
  {
   "cell_type": "markdown",
   "metadata": {},
   "source": [
    "# Baseline data"
   ]
  },
  {
   "cell_type": "code",
   "execution_count": 24,
   "metadata": {},
   "outputs": [],
   "source": [
    "baseline_train = text_train.copy()\n",
    "baseline_test = text_test.copy()"
   ]
  },
  {
   "cell_type": "code",
   "execution_count": 25,
   "metadata": {},
   "outputs": [],
   "source": [
    "# convert text to lowercase\n",
    "columns = ['name_1','name_2']\n",
    "for column in columns:\n",
    "    lower_str(baseline_train,column)\n",
    "for column in columns:\n",
    "    lower_str(baseline_test,column)"
   ]
  },
  {
   "cell_type": "code",
   "execution_count": 26,
   "metadata": {},
   "outputs": [
    {
     "name": "stderr",
     "output_type": "stream",
     "text": [
      "100%|██████████| 249/249 [07:43<00:00,  1.86s/it]\n"
     ]
    }
   ],
   "source": [
    "# drop any names of countries\n",
    "countries = [country.name.lower() for country in pycountry.countries]\n",
    "for country in tqdm(countries):\n",
    "    baseline_train.replace(re.compile(country), \"\", inplace=True)\n",
    "    baseline_test.replace(re.compile(country), \"\", inplace=True)"
   ]
  },
  {
   "cell_type": "code",
   "execution_count": 27,
   "metadata": {},
   "outputs": [],
   "source": [
    "# drop punctuation marks\n",
    "baseline_train.replace(re.compile(r\"\\s+\\(.*\\)\"), \"\", inplace=True)\n",
    "baseline_test.replace(re.compile(r\"\\s+\\(.*\\)\"), \"\", inplace=True)\n",
    "\n",
    "baseline_train.replace(re.compile(r\"[^\\w\\s]\"), \"\", inplace=True)\n",
    "baseline_test.replace(re.compile(r\"[^\\w\\s]\"), \"\", inplace=True)"
   ]
  },
  {
   "cell_type": "code",
   "execution_count": 28,
   "metadata": {},
   "outputs": [],
   "source": [
    "# drop some stop-words\n",
    "drop_list = [\"ltd.\", \"co.\", \"inc.\", \"b.v.\", \"s.c.r.l.\", \"gmbh\", \"pvt.\",\n",
    "             \n",
    "             'retail','usa','asia','ceska republika','limited','tradig','llc','group',\n",
    "             'international','plc','retail','tire','mills','chemical','korea','brasil',\n",
    "             'holding','vietnam','tyre','venezuela','polska','americas','industrial','taiwan',\n",
    "             'europe','america','north','czech republic','retailers','retails',\n",
    "            \n",
    "            'mexicana','corporation','corp','ltd','co','toronto','nederland','shanghai','gmb','pacific',\n",
    "            'industries','industrias',\n",
    "            \n",
    "            'inc', 'ltda', 'ооо', 'зао', 'оао', 'пао', 'ceska republika', 'ltda', \n",
    "            'sibur', 'enterprises', 'electronics', 'products', 'distribution', 'logistics', 'development',\n",
    "            'technologies', 'pvt', 'technologies', 'comercio', 'industria', 'trading', 'internacionais', \n",
    "            'bank', 'sports',\n",
    "            \n",
    "            'express','east', 'west', 'south', 'north', 'factory', 'transportes', 'trade', 'banco',\n",
    "            'management', 'engineering', 'investments', 'enterprise', 'city', 'national', 'express', 'tech', \n",
    "            'auto', 'transporte', 'technology', 'and', 'central', 'american',\n",
    "            \n",
    "            'logistica','global','exportacao', 'ceska republika', 'vancouver', 'deutschland',\n",
    "            \n",
    "            'sro','rus','chemicals','private','distributors','tyres','industry','services','italia','beijing',\n",
    "            \n",
    "            'рус','company','the','und']\n",
    "\n",
    "baseline_train['name_1_non_stop_words'] =\\\n",
    "    baseline_train['name_1'].apply(\n",
    "    lambda x: ' '.join([word for word in x.split() if word not in (drop_list)]))\n",
    "baseline_train['name_2_non_stop_words'] =\\\n",
    "    baseline_train['name_2'].apply(\n",
    "    lambda x: ' '.join([word for word in x.split() if word not in (drop_list)]))\n",
    "\n",
    "baseline_test['name_1_non_stop_words'] =\\\n",
    "    baseline_test['name_1'].apply(\n",
    "    lambda x: ' '.join([word for word in x.split() if word not in (drop_list)]))\n",
    "baseline_test['name_2_non_stop_words'] =\\\n",
    "    baseline_test['name_2'].apply(\n",
    "    lambda x: ' '.join([word for word in x.split() if word not in (drop_list)]))"
   ]
  },
  {
   "cell_type": "code",
   "execution_count": 29,
   "metadata": {},
   "outputs": [],
   "source": [
    "# baseline_train[baseline_train.name_1.str.contains(\"vancouver\")]"
   ]
  },
  {
   "cell_type": "code",
   "execution_count": 30,
   "metadata": {},
   "outputs": [],
   "source": [
    "# transliteration to latin\n",
    "baseline_train['name_1_transliterated'] = transliterate(baseline_train['name_1_non_stop_words'])\n",
    "baseline_train['name_2_transliterated'] = transliterate(baseline_train['name_2_non_stop_words'])\n",
    "baseline_test['name_1_transliterated'] = transliterate(baseline_test['name_1_non_stop_words'])\n",
    "baseline_test['name_2_transliterated'] = transliterate(baseline_test['name_2_non_stop_words'])"
   ]
  },
  {
   "cell_type": "code",
   "execution_count": 31,
   "metadata": {},
   "outputs": [],
   "source": [
    "# pair_id = 353150\n",
    "# baseline_train[baseline_train['pair_id']==353150]"
   ]
  },
  {
   "cell_type": "code",
   "execution_count": 32,
   "metadata": {},
   "outputs": [],
   "source": [
    "# drop top 50 common words (NAME 1 & NAME 2) exept names of top companies\n",
    "\n",
    "# first: make dictionary of frequency every word\n",
    "list_words = baseline_train['name_1_transliterated'].to_string(index=False).split() +\\\n",
    "                baseline_train['name_2_transliterated'].to_string(index=False).split()\n",
    "freq_words = {}\n",
    "for w in list_words:\n",
    "    freq_words[w] = freq_words.get(w, 0) + 1\n",
    "    \n",
    "# # second: make data frame\n",
    "df_freq = pd.DataFrame.from_dict(freq_words,orient='index').reset_index()\n",
    "df_freq.columns = ['word','frequency']\n",
    "df_freq_agg = df_freq.groupby(['word']).agg([sum]).reset_index()\n",
    "df_freq_agg = rename_agg_columns(id_client='word',data=df_freq_agg,rename='%s_%s')\n",
    "df_freq_agg = df_freq_agg.sort_values(by=['frequency_sum'], ascending=False)\n",
    "drop_list = list(df_freq_agg[0:50]['word'].to_string(index=False).split())\n",
    "\n",
    "# # check list of top 50 common words\n",
    "# print (drop_list)\n",
    " \n",
    "# drop the top 50 words\n",
    "baseline_train['name_1_finish'] =\\\n",
    "    baseline_train['name_1_transliterated'].apply(\n",
    "    lambda x: ' '.join([word for word in x.split() if word not in (drop_list)]))\n",
    "baseline_train['name_2_finish'] =\\\n",
    "    baseline_train['name_2_transliterated'].apply(\n",
    "    lambda x: ' '.join([word for word in x.split() if word not in (drop_list)]))\n",
    "\n",
    "baseline_test['name_1_finish'] =\\\n",
    "    baseline_test['name_1_transliterated'].apply(\n",
    "    lambda x: ' '.join([word for word in x.split() if word not in (drop_list)]))\n",
    "baseline_test['name_2_finish'] =\\\n",
    "    baseline_test['name_2_transliterated'].apply(\n",
    "    lambda x: ' '.join([word for word in x.split() if word not in (drop_list)]))"
   ]
  },
  {
   "cell_type": "code",
   "execution_count": 33,
   "metadata": {},
   "outputs": [],
   "source": [
    "# # fix the top 50 words\n",
    "# drop_list = ['srl', 'sa', 'al', 'k', 'do', 'rl', 'shenzhen', 'j', 'as', 'de', 'mfg', 'h', \n",
    "# 'dongguan', 'sdn', 'polymers', 'e', 'automotive', 'of', 'sas', 'guangzhou', 'ram', 'pt', 'rubber', \n",
    "# 'c', 'y', 'r', 'p', 'cv', 'qingdao', 'l', 'service', 'materials', 'exp', 'imp', 'textile', 'sp', 'd',\n",
    "# 'b', 'ag', 've', 's', 'a', 'itc', 'bhd', 'v', 'n', 'plastic', 'solutions', 'general', 'plastics']"
   ]
  },
  {
   "cell_type": "code",
   "execution_count": 34,
   "metadata": {},
   "outputs": [],
   "source": [
    "# baseline_train[baseline_train.name_1_finish.str.contains(\"logistic\")]"
   ]
  },
  {
   "cell_type": "markdown",
   "metadata": {},
   "source": [
    "# Features"
   ]
  },
  {
   "cell_type": "code",
   "execution_count": 35,
   "metadata": {},
   "outputs": [
    {
     "name": "stderr",
     "output_type": "stream",
     "text": [
      "100%|██████████| 497819/497819 [00:36<00:00, 13712.65it/s]\n",
      "100%|██████████| 213249/213249 [00:15<00:00, 13801.10it/s]\n"
     ]
    }
   ],
   "source": [
    "# create feature with LEVENSTAIN DISTANCE\n",
    "levenshtein = Levenshtein()\n",
    "column_1 = 'name_1_finish'\n",
    "column_2 = 'name_2_finish'\n",
    "\n",
    "baseline_train[\"levenstein\"] = baseline_train.progress_apply(\n",
    "    lambda r: levenshtein.distance(r[column_1], r[column_2]), axis=1)\n",
    "baseline_test[\"levenstein\"] = baseline_test.progress_apply(\n",
    "    lambda r: levenshtein.distance(r[column_1], r[column_2]), axis=1)"
   ]
  },
  {
   "cell_type": "code",
   "execution_count": 36,
   "metadata": {},
   "outputs": [
    {
     "name": "stderr",
     "output_type": "stream",
     "text": [
      "100%|██████████| 497819/497819 [00:36<00:00, 13477.52it/s]\n",
      "100%|██████████| 213249/213249 [00:15<00:00, 13668.28it/s]\n"
     ]
    }
   ],
   "source": [
    "# create feature with NORMALIZATION LEVENSTAIN DISTANCE\n",
    "normalized_levenshtein = NormalizedLevenshtein()\n",
    "column_1 = 'name_1_finish'\n",
    "column_2 = 'name_2_finish'\n",
    "\n",
    "baseline_train[\"norm_levenstein\"] = baseline_train.progress_apply(\n",
    "    lambda r: normalized_levenshtein.distance(r[column_1], r[column_2]),axis=1)\n",
    "baseline_test[\"norm_levenstein\"] = baseline_test.progress_apply(\n",
    "    lambda r: normalized_levenshtein.distance(r[column_1], r[column_2]),axis=1)"
   ]
  },
  {
   "cell_type": "code",
   "execution_count": 37,
   "metadata": {},
   "outputs": [],
   "source": [
    "# make some information about duplicates and differences for TRAIN\n",
    "column_1 = 'name_1_finish'\n",
    "column_2 = 'name_2_finish'\n",
    "\n",
    "duplicates = []\n",
    "difference = []\n",
    "\n",
    "for i in range(baseline_train.shape[0]):\n",
    "    list1 = list(baseline_train[i:i+1][column_1])\n",
    "    str1 = ''.join(list1).split()\n",
    "    list2 = list(baseline_train[i:i+1][column_2])\n",
    "    str2 = ''.join(list2).split()\n",
    "    \n",
    "    duplicates.append(list(set(str1) & set(str2)))\n",
    "    difference.append(list(set(str1).symmetric_difference(set(str2))))\n",
    "    \n",
    "# continue make information about duplicates\n",
    "duplicate_count,duplicate_sum = compair_metrics(duplicates)\n",
    "dif_count,dif_sum = compair_metrics(difference)"
   ]
  },
  {
   "cell_type": "code",
   "execution_count": 38,
   "metadata": {},
   "outputs": [],
   "source": [
    "# create features have information about duplicates and differences for TRAIN\n",
    "baseline_train['duplicate'] = duplicates\n",
    "baseline_train['difference'] = difference\n",
    "\n",
    "baseline_train['duplicate_count'] = duplicate_count\n",
    "baseline_train['duplicate_sum'] = duplicate_sum\n",
    "baseline_train['duplicate_mean'] = baseline_train['duplicate_sum'] / baseline_train['duplicate_count']\n",
    "baseline_train['duplicate_mean'] = baseline_train['duplicate_mean'].fillna(0)\n",
    "\n",
    "baseline_train['dif_count'] = dif_count\n",
    "baseline_train['dif_sum'] = dif_sum\n",
    "baseline_train['dif_mean'] = baseline_train['dif_sum'] / baseline_train['dif_count']\n",
    "baseline_train['dif_mean'] = baseline_train['dif_mean'].fillna(0)"
   ]
  },
  {
   "cell_type": "code",
   "execution_count": 39,
   "metadata": {},
   "outputs": [],
   "source": [
    "baseline_train['ratio_duplicate/dif_count'] = baseline_train['duplicate_count'] / baseline_train['dif_count']"
   ]
  },
  {
   "cell_type": "code",
   "execution_count": 40,
   "metadata": {},
   "outputs": [],
   "source": [
    "# make some information about duplicates and differences for TEST\n",
    "column_1 = 'name_1_finish'\n",
    "column_2 = 'name_2_finish'\n",
    "\n",
    "duplicates = []\n",
    "difference = []\n",
    "\n",
    "for i in range(baseline_test.shape[0]):\n",
    "    list1 = list(baseline_test[i:i+1][column_1])\n",
    "    str1 = ''.join(list1).split()\n",
    "    list2 = list(baseline_test[i:i+1][column_2])\n",
    "    str2 = ''.join(list2).split()\n",
    "    \n",
    "    duplicates.append(list(set(str1) & set(str2)))\n",
    "    difference.append(list(set(str1).symmetric_difference(set(str2))))\n",
    "    \n",
    "# continue make information about duplicates\n",
    "duplicate_count,duplicate_sum = compair_metrics(duplicates)\n",
    "dif_count,dif_sum = compair_metrics(difference)"
   ]
  },
  {
   "cell_type": "code",
   "execution_count": 41,
   "metadata": {},
   "outputs": [],
   "source": [
    "# create features have information about duplicates and differences for TEST\n",
    "baseline_test['duplicate'] = duplicates\n",
    "baseline_test['difference'] = difference\n",
    "\n",
    "baseline_test['duplicate_count'] = duplicate_count\n",
    "baseline_test['duplicate_sum'] = duplicate_sum\n",
    "baseline_test['duplicate_mean'] = baseline_test['duplicate_sum'] / baseline_test['duplicate_count']\n",
    "baseline_test['duplicate_mean'] = baseline_test['duplicate_mean'].fillna(0)\n",
    "\n",
    "baseline_test['dif_count'] = dif_count\n",
    "baseline_test['dif_sum'] = dif_sum\n",
    "baseline_test['dif_mean'] = baseline_test['dif_sum'] / baseline_test['dif_count']\n",
    "baseline_test['dif_mean'] = baseline_test['dif_mean'].fillna(0)"
   ]
  },
  {
   "cell_type": "code",
   "execution_count": 42,
   "metadata": {},
   "outputs": [],
   "source": [
    "baseline_test['ratio_duplicate/dif_count'] = baseline_test['duplicate_count'] / baseline_test['dif_count']"
   ]
  },
  {
   "cell_type": "markdown",
   "metadata": {},
   "source": [
    "# Baseline model cv"
   ]
  },
  {
   "cell_type": "code",
   "execution_count": 43,
   "metadata": {
    "scrolled": true
   },
   "outputs": [
    {
     "data": {
      "text/plain": [
       "Index(['pair_id', 'name_1', 'name_2', 'target', 'name_1_non_stop_words',\n",
       "       'name_2_non_stop_words', 'name_1_transliterated',\n",
       "       'name_2_transliterated', 'name_1_finish', 'name_2_finish', 'levenstein',\n",
       "       'norm_levenstein', 'duplicate', 'difference', 'duplicate_count',\n",
       "       'duplicate_sum', 'duplicate_mean', 'dif_count', 'dif_sum', 'dif_mean',\n",
       "       'ratio_duplicate/dif_count'],\n",
       "      dtype='object')"
      ]
     },
     "execution_count": 43,
     "metadata": {},
     "output_type": "execute_result"
    }
   ],
   "source": [
    "baseline_train.columns"
   ]
  },
  {
   "cell_type": "code",
   "execution_count": 75,
   "metadata": {},
   "outputs": [],
   "source": [
    "# fix some parameters\n",
    "features = ['levenstein', 'norm_levenstein',\n",
    "    'duplicate_count', 'duplicate_sum', 'duplicate_mean', \n",
    "    'dif_count', 'dif_sum', 'dif_mean',\n",
    "    'ratio_duplicate/dif_count'\n",
    "            \n",
    "            ]\n",
    "seed = 42"
   ]
  },
  {
   "cell_type": "code",
   "execution_count": 76,
   "metadata": {},
   "outputs": [],
   "source": [
    "# # fix features which were delete from analyse process\n",
    "# features = [\n",
    "#             \n",
    "# \n",
    "# ]"
   ]
  },
  {
   "cell_type": "code",
   "execution_count": 77,
   "metadata": {},
   "outputs": [
    {
     "name": "stdout",
     "output_type": "stream",
     "text": [
      "Split baseline data train 497819\n",
      " - new train data: 398255\n",
      " - new test data: 99564\n"
     ]
    }
   ],
   "source": [
    "# provides train/test indices to split data in train/test sets\n",
    "split = StratifiedShuffleSplit(n_splits=1, train_size=0.8, random_state=seed)\n",
    "\n",
    "tridx, cvidx = list(split.split(baseline_train[features],\n",
    "                                baseline_train[\"target\"]))[0]\n",
    "\n",
    "print ('Split baseline data train',baseline_train.shape[0])\n",
    "print (' - new train data:',tridx.shape[0])\n",
    "print (' - new test data:',cvidx.shape[0])"
   ]
  },
  {
   "cell_type": "markdown",
   "metadata": {},
   "source": [
    "# Gradient boosting cv"
   ]
  },
  {
   "cell_type": "code",
   "execution_count": 82,
   "metadata": {},
   "outputs": [
    {
     "data": {
      "text/plain": [
       "LGBMClassifier(boosting_type='gbdt', class_weight=None, colsample_bytree=1.0,\n",
       "               importance_type='split', learning_rate=1, max_depth=40,\n",
       "               min_child_samples=5, min_child_weight=0.001, min_split_gain=0.0,\n",
       "               n_estimators=1, n_jobs=-1, num_leaves=31, objective='binary',\n",
       "               random_state=50, reg_alpha=0.0, reg_lambda=0.75, silent=True,\n",
       "               subsample=1.0, subsample_for_bin=200000, subsample_freq=0)"
      ]
     },
     "execution_count": 82,
     "metadata": {},
     "output_type": "execute_result"
    }
   ],
   "source": [
    "# learning Light GBM Classificier\n",
    "seed = 50\n",
    "params = {'n_estimators': 1,\n",
    "          'objective': 'binary',\n",
    "          'max_depth': 40,\n",
    "          'min_child_samples': 5,\n",
    "          'learning_rate': 1, \n",
    "          'reg_lambda': 0.75,\n",
    "#           'subsample': 0.75,\n",
    "#           'colsample_bytree': 0.4,\n",
    "#           'min_split_gain': 0.02,\n",
    "#           'min_child_weight': 40,\n",
    "          'random_state': seed}\n",
    "\n",
    "\n",
    "model = lgb.LGBMClassifier(**params)\n",
    "model.fit(baseline_train.iloc[tridx][features].values,\n",
    "          baseline_train.iloc[tridx][\"target\"].values)"
   ]
  },
  {
   "cell_type": "code",
   "execution_count": 83,
   "metadata": {},
   "outputs": [],
   "source": [
    "# make predict proba and predict target\n",
    "probability_level = 0.99\n",
    "X = baseline_train\n",
    "tridx = tridx\n",
    "cvidx = cvidx\n",
    "model = model\n",
    "\n",
    "X_tr, X_cv = contingency_table(X,features,probability_level,tridx,cvidx,model)\n",
    "\n",
    "train_matrix_confusion = matrix_confusion(X_tr)\n",
    "cv_matrix_confusion = matrix_confusion(X_cv)"
   ]
  },
  {
   "cell_type": "code",
   "execution_count": 84,
   "metadata": {},
   "outputs": [
    {
     "name": "stdout",
     "output_type": "stream",
     "text": [
      "\u001b[1mMatrix confusion on train data\u001b[m\n"
     ]
    },
    {
     "data": {
      "text/html": [
       "<div>\n",
       "<style scoped>\n",
       "    .dataframe tbody tr th:only-of-type {\n",
       "        vertical-align: middle;\n",
       "    }\n",
       "\n",
       "    .dataframe tbody tr th {\n",
       "        vertical-align: top;\n",
       "    }\n",
       "\n",
       "    .dataframe thead th {\n",
       "        text-align: right;\n",
       "    }\n",
       "</style>\n",
       "<table border=\"1\" class=\"dataframe\">\n",
       "  <thead>\n",
       "    <tr style=\"text-align: right;\">\n",
       "      <th></th>\n",
       "      <th>0_algorythm</th>\n",
       "      <th>1_algorythm</th>\n",
       "    </tr>\n",
       "  </thead>\n",
       "  <tbody>\n",
       "    <tr>\n",
       "      <th>0_target</th>\n",
       "      <td>393128.0</td>\n",
       "      <td>2201.0</td>\n",
       "    </tr>\n",
       "    <tr>\n",
       "      <th>1_target</th>\n",
       "      <td>522.0</td>\n",
       "      <td>2404.0</td>\n",
       "    </tr>\n",
       "  </tbody>\n",
       "</table>\n",
       "</div>"
      ],
      "text/plain": [
       "          0_algorythm  1_algorythm\n",
       "0_target     393128.0       2201.0\n",
       "1_target        522.0       2404.0"
      ]
     },
     "metadata": {},
     "output_type": "display_data"
    },
    {
     "name": "stdout",
     "output_type": "stream",
     "text": [
      "\n",
      "              precision    recall  f1-score   support\n",
      "\n",
      "           0       1.00      0.99      1.00    395329\n",
      "           1       0.52      0.82      0.64      2926\n",
      "\n",
      "    accuracy                           0.99    398255\n",
      "   macro avg       0.76      0.91      0.82    398255\n",
      "weighted avg       1.00      0.99      0.99    398255\n",
      "\n",
      "******************************************************\n",
      "\n",
      "\n",
      "\u001b[1mMatrix confusion on test(cv) data\u001b[m\n"
     ]
    },
    {
     "data": {
      "text/html": [
       "<div>\n",
       "<style scoped>\n",
       "    .dataframe tbody tr th:only-of-type {\n",
       "        vertical-align: middle;\n",
       "    }\n",
       "\n",
       "    .dataframe tbody tr th {\n",
       "        vertical-align: top;\n",
       "    }\n",
       "\n",
       "    .dataframe thead th {\n",
       "        text-align: right;\n",
       "    }\n",
       "</style>\n",
       "<table border=\"1\" class=\"dataframe\">\n",
       "  <thead>\n",
       "    <tr style=\"text-align: right;\">\n",
       "      <th></th>\n",
       "      <th>0_algorythm</th>\n",
       "      <th>1_algorythm</th>\n",
       "    </tr>\n",
       "  </thead>\n",
       "  <tbody>\n",
       "    <tr>\n",
       "      <th>0_target</th>\n",
       "      <td>98291.0</td>\n",
       "      <td>541.0</td>\n",
       "    </tr>\n",
       "    <tr>\n",
       "      <th>1_target</th>\n",
       "      <td>131.0</td>\n",
       "      <td>601.0</td>\n",
       "    </tr>\n",
       "  </tbody>\n",
       "</table>\n",
       "</div>"
      ],
      "text/plain": [
       "          0_algorythm  1_algorythm\n",
       "0_target      98291.0        541.0\n",
       "1_target        131.0        601.0"
      ]
     },
     "metadata": {},
     "output_type": "display_data"
    },
    {
     "name": "stdout",
     "output_type": "stream",
     "text": [
      "\n",
      "              precision    recall  f1-score   support\n",
      "\n",
      "           0       1.00      0.99      1.00     98832\n",
      "           1       0.53      0.82      0.64       732\n",
      "\n",
      "    accuracy                           0.99     99564\n",
      "   macro avg       0.76      0.91      0.82     99564\n",
      "weighted avg       1.00      0.99      0.99     99564\n",
      "\n",
      "******************************************************\n"
     ]
    }
   ],
   "source": [
    "report_score(train_matrix_confusion,\n",
    "             cv_matrix_confusion,\n",
    "             baseline_train,\n",
    "             tridx,cvidx,\n",
    "             X_tr,X_cv)"
   ]
  },
  {
   "cell_type": "code",
   "execution_count": 97,
   "metadata": {
    "scrolled": false
   },
   "outputs": [],
   "source": [
    "# X_cv[X_cv['False_Positive']==1][100:150]"
   ]
  },
  {
   "cell_type": "code",
   "execution_count": null,
   "metadata": {},
   "outputs": [],
   "source": []
  },
  {
   "cell_type": "code",
   "execution_count": 50,
   "metadata": {
    "scrolled": true
   },
   "outputs": [],
   "source": [
    "# X_cv[X_cv['False_Positive']==1][0:50]"
   ]
  },
  {
   "cell_type": "code",
   "execution_count": 51,
   "metadata": {},
   "outputs": [],
   "source": [
    "# baseline_test[baseline_test['duplicate_count']==1][950:1000]"
   ]
  },
  {
   "cell_type": "code",
   "execution_count": 85,
   "metadata": {},
   "outputs": [
    {
     "data": {
      "image/png": "[encoded data removed]",
      "text/plain": [
       "<Figure size 864x432 with 1 Axes>"
      ]
     },
     "metadata": {},
     "output_type": "display_data"
    },
    {
     "data": {
      "text/html": [
       "<div>\n",
       "<style scoped>\n",
       "    .dataframe tbody tr th:only-of-type {\n",
       "        vertical-align: middle;\n",
       "    }\n",
       "\n",
       "    .dataframe tbody tr th {\n",
       "        vertical-align: top;\n",
       "    }\n",
       "\n",
       "    .dataframe thead th {\n",
       "        text-align: right;\n",
       "    }\n",
       "</style>\n",
       "<table border=\"1\" class=\"dataframe\">\n",
       "  <thead>\n",
       "    <tr style=\"text-align: right;\">\n",
       "      <th></th>\n",
       "      <th>Features</th>\n",
       "      <th>Gain</th>\n",
       "    </tr>\n",
       "  </thead>\n",
       "  <tbody>\n",
       "    <tr>\n",
       "      <th>8</th>\n",
       "      <td>ratio_duplicate/dif_count</td>\n",
       "      <td>147324.899002</td>\n",
       "    </tr>\n",
       "    <tr>\n",
       "      <th>4</th>\n",
       "      <td>duplicate_mean</td>\n",
       "      <td>11875.499512</td>\n",
       "    </tr>\n",
       "    <tr>\n",
       "      <th>3</th>\n",
       "      <td>duplicate_sum</td>\n",
       "      <td>8216.401184</td>\n",
       "    </tr>\n",
       "    <tr>\n",
       "      <th>2</th>\n",
       "      <td>duplicate_count</td>\n",
       "      <td>5174.549805</td>\n",
       "    </tr>\n",
       "    <tr>\n",
       "      <th>0</th>\n",
       "      <td>levenstein</td>\n",
       "      <td>2401.171005</td>\n",
       "    </tr>\n",
       "    <tr>\n",
       "      <th>1</th>\n",
       "      <td>norm_levenstein</td>\n",
       "      <td>1861.684952</td>\n",
       "    </tr>\n",
       "    <tr>\n",
       "      <th>5</th>\n",
       "      <td>dif_count</td>\n",
       "      <td>1359.109985</td>\n",
       "    </tr>\n",
       "    <tr>\n",
       "      <th>7</th>\n",
       "      <td>dif_mean</td>\n",
       "      <td>959.583984</td>\n",
       "    </tr>\n",
       "    <tr>\n",
       "      <th>6</th>\n",
       "      <td>dif_sum</td>\n",
       "      <td>791.725983</td>\n",
       "    </tr>\n",
       "  </tbody>\n",
       "</table>\n",
       "</div>"
      ],
      "text/plain": [
       "                    Features           Gain\n",
       "8  ratio_duplicate/dif_count  147324.899002\n",
       "4             duplicate_mean   11875.499512\n",
       "3              duplicate_sum    8216.401184\n",
       "2            duplicate_count    5174.549805\n",
       "0                 levenstein    2401.171005\n",
       "1            norm_levenstein    1861.684952\n",
       "5                  dif_count    1359.109985\n",
       "7                   dif_mean     959.583984\n",
       "6                    dif_sum     791.725983"
      ]
     },
     "metadata": {},
     "output_type": "display_data"
    }
   ],
   "source": [
    "start = 0\n",
    "stop = 50\n",
    "size = (12,6)\n",
    "\n",
    "tg = table_gain_coef(model,features,start,stop)\n",
    "gain_hist(tg,size,start,stop)\n",
    "display(tg)"
   ]
  },
  {
   "cell_type": "code",
   "execution_count": 53,
   "metadata": {},
   "outputs": [],
   "source": [
    "# baseline_train[baseline_train['length_w1_top_w_min_y']>=0]"
   ]
  },
  {
   "cell_type": "markdown",
   "metadata": {},
   "source": [
    "# Gradient boosting submission to SIBUR"
   ]
  },
  {
   "cell_type": "code",
   "execution_count": 86,
   "metadata": {},
   "outputs": [
    {
     "data": {
      "text/plain": [
       "LGBMClassifier(boosting_type='gbdt', class_weight=None, colsample_bytree=1.0,\n",
       "               importance_type='split', learning_rate=1, max_depth=40,\n",
       "               min_child_samples=5, min_child_weight=0.001, min_split_gain=0.0,\n",
       "               n_estimators=1, n_jobs=-1, num_leaves=31, objective='binary',\n",
       "               random_state=50, reg_alpha=0.0, reg_lambda=0.75, silent=True,\n",
       "               subsample=1.0, subsample_for_bin=200000, subsample_freq=0)"
      ]
     },
     "execution_count": 86,
     "metadata": {},
     "output_type": "execute_result"
    }
   ],
   "source": [
    "model = lgb.LGBMClassifier(**params)\n",
    "model.fit(baseline_train[features].values,\n",
    "          baseline_train[\"target\"].values)"
   ]
  },
  {
   "cell_type": "code",
   "execution_count": 87,
   "metadata": {},
   "outputs": [],
   "source": [
    "sample_sub = pd.read_csv('sample_submission.csv', index_col=\"pair_id\")\n",
    "\n",
    "sample_sub['is_duplicate'] = (model.predict_proba(\n",
    "    baseline_test[features].values)[:, 1] > probability_level).astype(np.int)"
   ]
  },
  {
   "cell_type": "code",
   "execution_count": 88,
   "metadata": {},
   "outputs": [],
   "source": [
    "sample_sub.to_csv('baseline_submission.csv')"
   ]
  },
  {
   "cell_type": "markdown",
   "metadata": {},
   "source": [
    "# SCORE (f1 on test samples): 0.4441"
   ]
  }
 ],
 "metadata": {
  "kernelspec": {
   "display_name": "Python 3",
   "language": "python",
   "name": "python3"
  },
  "language_info": {
   "codemirror_mode": {
    "name": "ipython",
    "version": 3
   },
   "file_extension": ".py",
   "mimetype": "text/x-python",
   "name": "python",
   "nbconvert_exporter": "python",
   "pygments_lexer": "ipython3",
   "version": "3.7.6"
  }
 },
 "nbformat": 4,
 "nbformat_minor": 4
}
